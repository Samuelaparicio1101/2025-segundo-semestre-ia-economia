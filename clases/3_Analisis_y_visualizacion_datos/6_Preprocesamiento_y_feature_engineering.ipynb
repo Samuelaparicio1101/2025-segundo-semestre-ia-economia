{
  "cells": [
    {
      "cell_type": "markdown",
      "metadata": {
        "id": "jUwmbtkhQh8y"
      },
      "source": [
        "<a href=\"https://colab.research.google.com/github/LinaMariaCastro/curso-ia-para-economia/blob/main/clases/3_Analisis_y_visualizacion_datos/6_Preprocesamiento_y_feature_engineering.ipynb\" target=\"_parent\"><img src=\"https://colab.research.google.com/assets/colab-badge.svg\" alt=\"Open In Colab\"/></a>"
      ]
    },
    {
      "cell_type": "markdown",
      "metadata": {
        "id": "5iiwfbXCQv5D"
      },
      "source": [
        "# **Inteligencia Artificial con Aplicaciones en Economía I**\n",
        "\n",
        "- 👩‍🏫 **Profesora:** [Lina María Castro](https://www.linkedin.com/in/lina-maria-castro)  \n",
        "- 📧 **Email:** [lmcastroco@gmail.com](mailto:lmcastroco@gmail.com)  \n",
        "- 🎓 **Universidad:** Universidad Externado de Colombia - Facultad de Economía"
      ]
    },
    {
      "cell_type": "markdown",
      "metadata": {
        "id": "5rIiARu0MXbU"
      },
      "source": [
        "# 🔧🧩**Preprocesamiento y feature engineering**"
      ]
    },
    {
      "cell_type": "markdown",
      "metadata": {
        "id": "MdYAmJyWYao4"
      },
      "source": [
        "👉 Último paso antes de machine learning: adaptar los datos para los algoritmos.\n",
        "\n",
        "✅ Resultado: dataset listo para modelar con aprendizaje supervisado o no supervisado."
      ]
    },
    {
      "cell_type": "markdown",
      "metadata": {
        "id": "JMOUuY1Y0k24"
      },
      "source": [
        "**Objetivos de Aprendizaje**\n",
        "\n",
        "Al finalizar este notebook, serás capaz de:\n",
        "\n",
        "1.  **Diseñar nuevas variables (`features`)** relevantes para problemas económicos a partir de datos existentes.\n",
        "2.  **Preprocesar y limpiar datos** para que sean consumibles por algoritmos de machine learning, manejando variables categóricas y valores atípicos (`outliers`).\n",
        "3.  **Transformar y escalar variables numéricas** para mejorar el rendimiento y la interpretabilidad de los modelos."
      ]
    },
    {
      "cell_type": "markdown",
      "metadata": {
        "id": "gmfpetKa1IiA"
      },
      "source": [
        "**Introducción**\n",
        "\n",
        "Imagina que trabajas como analista cuantitativo en un banco comercial. Tu tarea es decidir si aprobar o rechazar solicitudes de crédito. Una mala decisión (aprobar un crédito a alguien que no pagará) genera pérdidas. Otra mala decisión (rechazar un crédito a alguien que sí pagaría) implica un costo de oportunidad. Tu objetivo es construir un modelo que automatice y mejore esta decisión.\n",
        "\n",
        "Recibes un conjunto de datos históricos de clientes, con información demográfica (edad, sexo), financiera (cuentas de ahorro, historial crediticio) y del préstamo solicitado (monto, duración, propósito). Estos son los \"datos crudos\".\n",
        "\n",
        "Un modelo de machine learning no puede simplemente \"leer\" esta información. No entiende qué significa \"propósito: auto nuevo\" o qué implicaciones tiene una edad de 25 años frente a una de 60. Tu labor es actuar como un **traductor** y un **arquitecto**: traduces los datos a un lenguaje numérico que el modelo entienda y construyes nuevas variables que capturen de forma más precisa el **riesgo económico** de cada solicitante.\n",
        "\n",
        "-   Cuando un analista de crédito calcula el **ratio de endeudamiento** (deuda total / ingreso anual), está haciendo **feature engineering**.\n",
        "-   Cuando clasifica a un cliente como 'joven', 'adulto' o 'senior', está **discretizando una variable continua** (la edad) para capturar efectos no lineales del ciclo de vida.\n",
        "-   Cuando convierte el propósito del crédito ('auto', 'educación', 'vacaciones') a un formato numérico, está **codificando variables categóricas**.\n",
        "\n",
        "En resumen, estamos transformando datos en bruto en **indicadores de riesgo con significado económico** que un algoritmo pueda aprovechar. La calidad de nuestro modelo de scoring dependerá críticamente de la calidad de estas variables. Un buen conjunto de *features* puede hacer que un modelo simple supere a un modelo complejo con datos mal preparados.\n",
        "\n",
        "**\"Basura entra, basura sale\" (`Garbage In, Garbage Out`)**. La calidad de nuestro modelo depende críticamente de la calidad de nuestras variables."
      ]
    },
    {
      "cell_type": "markdown",
      "metadata": {
        "id": "CvffQiPyDLJG"
      },
      "source": [
        "## Importar librerías"
      ]
    },
    {
      "cell_type": "code",
      "execution_count": 2,
      "metadata": {
        "id": "YFPOnxMFDBFP"
      },
      "outputs": [],
      "source": [
        "import numpy as np\n",
        "import pandas as pd\n",
        "import matplotlib.pyplot as plt\n",
        "import seaborn as sns\n",
        "import warnings\n",
        "warnings.filterwarnings('ignore')"
      ]
    },
    {
      "cell_type": "markdown",
      "metadata": {
        "id": "jHE2ZLJuEPIe"
      },
      "source": [
        "## Mejorar visualización de los dataframes y los gráficos"
      ]
    },
    {
      "cell_type": "code",
      "execution_count": 3,
      "metadata": {
        "id": "72TA8V1fETCm"
      },
      "outputs": [],
      "source": [
        "# Que muestre todas las columnas\n",
        "pd.options.display.max_columns = None\n",
        "# En los dataframes, mostrar los float con dos decimales\n",
        "pd.options.display.float_format = '{:,.2f}'.format"
      ]
    },
    {
      "cell_type": "code",
      "execution_count": 4,
      "metadata": {
        "id": "DX3FSgBelLlB"
      },
      "outputs": [],
      "source": [
        "# Configuraciones para una mejor visualización de los gráficos\n",
        "sns.set_style(\"whitegrid\")\n",
        "%matplotlib inline"
      ]
    },
    {
      "cell_type": "markdown",
      "metadata": {
        "id": "SMx0i2r4j1mN"
      },
      "source": [
        "## Cargar el dataset"
      ]
    },
    {
      "cell_type": "markdown",
      "metadata": {
        "id": "KdjzLpp0UkCK"
      },
      "source": [
        "Usaremos el dataset **German Credit Data** (https://archive.ics.uci.edu/dataset/144/statlog+german+credit+data), el cual contiene información sobre 1000 solicitantes de crédito. El conjunto de datos incluye a individuos a quienes efectivamente se les otorgó un crédito. No contiene información sobre los solicitantes que fueron rechazados.\n",
        "\n",
        "Para cada uno de estos 1000 individuos, el banco ya realizó una clasificación de riesgo a posteriori, es decir, después de observar su comportamiento de pago. **La columna objetivo es Risk (o 'Riesgo')** indica si, con el tiempo, el cliente resultó ser un buen pagador (cumplió con sus obligaciones) o un mal pagador (incurrió en impago o default).\n",
        "\n",
        "Por lo tanto, el objetivo de un modelo entrenado con estos datos no es decidir si se aprueba o no un crédito (ya que todos fueron aprobados), sino predecir, en el momento de la solicitud, la probabilidad de que un cliente aprobado se convierta en un mal pagador en el futuro.\n",
        "\n",
        "**Fuente Original:** Los datos fueron donados al repositorio de Machine Learning de la UCI (University of California, Irvine) por el Profesor Dr. Hans Hofmann del Instituto de Estadística y Econometría de la Universidad de Hamburgo.\n",
        "\n",
        "**Banco**: Aunque la información proviene de un banco real, el nombre del banco no se ha hecho público para mantener la confidencialidad. Los datos fueron anonimizados.\n",
        "\n",
        "**Período de Tiempo:** La información corresponde a créditos otorgados en Alemania aproximadamente entre 1973 y 1975. Esto es importante tenerlo en cuenta, ya que el contexto económico y social de esa época (Alemania Occidental antes de la reunificación) es muy diferente al actual. Por ejemplo, los montos en Marcos Alemanes (DM) y los perfiles de empleo pueden no ser directamente extrapolables a la economía de hoy, pero los patrones de comportamiento de riesgo crediticio siguen siendo muy valiosos para el aprendizaje."
      ]
    },
    {
      "cell_type": "code",
      "execution_count": 5,
      "metadata": {
        "colab": {
          "base_uri": "https://localhost:8080/",
          "height": 347
        },
        "id": "A13oyxd4UkCL",
        "outputId": "9ce0f10d-528d-438c-8e19-e19db90b6a47"
      },
      "outputs": [
        {
          "output_type": "stream",
          "name": "stdout",
          "text": [
            "Dimensiones del dataset: (1000, 21)\n"
          ]
        },
        {
          "output_type": "execute_result",
          "data": {
            "text/plain": [
              "  Estado de la cuenta corriente existente  Duración en meses  \\\n",
              "0                                     A11                  6   \n",
              "1                                     A12                 48   \n",
              "2                                     A14                 12   \n",
              "3                                     A11                 42   \n",
              "4                                     A11                 24   \n",
              "\n",
              "  Historia de crédito Propósito  Monto del crédito Cuenta de ahorros/bonos  \\\n",
              "0                 A34       A43               1169                     A65   \n",
              "1                 A32       A43               5951                     A61   \n",
              "2                 A34       A46               2096                     A61   \n",
              "3                 A32       A42               7882                     A61   \n",
              "4                 A33       A40               4870                     A61   \n",
              "\n",
              "  Empleo actual desde  \\\n",
              "0                 A75   \n",
              "1                 A73   \n",
              "2                 A74   \n",
              "3                 A74   \n",
              "4                 A73   \n",
              "\n",
              "   Tasa de pago a plazos en porcentaje del ingreso disponible  \\\n",
              "0                                                  4            \n",
              "1                                                  2            \n",
              "2                                                  2            \n",
              "3                                                  2            \n",
              "4                                                  3            \n",
              "\n",
              "  Estado personal y sexo Otros deudores/fiadores  Residencia actual desde  \\\n",
              "0                    A93                    A101                        4   \n",
              "1                    A92                    A101                        2   \n",
              "2                    A93                    A101                        3   \n",
              "3                    A93                    A103                        4   \n",
              "4                    A93                    A101                        4   \n",
              "\n",
              "  Propiedad  Edad Otros planes de pago Alojamiento  \\\n",
              "0      A121    67                 A143        A152   \n",
              "1      A121    22                 A143        A152   \n",
              "2      A121    49                 A143        A152   \n",
              "3      A122    45                 A143        A153   \n",
              "4      A124    53                 A143        A153   \n",
              "\n",
              "   Número de créditos existentes en este banco Trabajo  \\\n",
              "0                                            2    A173   \n",
              "1                                            1    A173   \n",
              "2                                            1    A172   \n",
              "3                                            1    A173   \n",
              "4                                            2    A173   \n",
              "\n",
              "   Número de personas obligadas a prestar manutención a Teléfono  \\\n",
              "0                                                  1        A192   \n",
              "1                                                  1        A191   \n",
              "2                                                  2        A191   \n",
              "3                                                  2        A191   \n",
              "4                                                  2        A191   \n",
              "\n",
              "  Trabajador extranjero  Riesgo  \n",
              "0                  A201       1  \n",
              "1                  A201       2  \n",
              "2                  A201       1  \n",
              "3                  A201       1  \n",
              "4                  A201       2  "
            ],
            "text/html": [
              "\n",
              "  <div id=\"df-bdb9220d-97f8-48a8-834d-c7d81ad285c6\" class=\"colab-df-container\">\n",
              "    <div>\n",
              "<style scoped>\n",
              "    .dataframe tbody tr th:only-of-type {\n",
              "        vertical-align: middle;\n",
              "    }\n",
              "\n",
              "    .dataframe tbody tr th {\n",
              "        vertical-align: top;\n",
              "    }\n",
              "\n",
              "    .dataframe thead th {\n",
              "        text-align: right;\n",
              "    }\n",
              "</style>\n",
              "<table border=\"1\" class=\"dataframe\">\n",
              "  <thead>\n",
              "    <tr style=\"text-align: right;\">\n",
              "      <th></th>\n",
              "      <th>Estado de la cuenta corriente existente</th>\n",
              "      <th>Duración en meses</th>\n",
              "      <th>Historia de crédito</th>\n",
              "      <th>Propósito</th>\n",
              "      <th>Monto del crédito</th>\n",
              "      <th>Cuenta de ahorros/bonos</th>\n",
              "      <th>Empleo actual desde</th>\n",
              "      <th>Tasa de pago a plazos en porcentaje del ingreso disponible</th>\n",
              "      <th>Estado personal y sexo</th>\n",
              "      <th>Otros deudores/fiadores</th>\n",
              "      <th>Residencia actual desde</th>\n",
              "      <th>Propiedad</th>\n",
              "      <th>Edad</th>\n",
              "      <th>Otros planes de pago</th>\n",
              "      <th>Alojamiento</th>\n",
              "      <th>Número de créditos existentes en este banco</th>\n",
              "      <th>Trabajo</th>\n",
              "      <th>Número de personas obligadas a prestar manutención a</th>\n",
              "      <th>Teléfono</th>\n",
              "      <th>Trabajador extranjero</th>\n",
              "      <th>Riesgo</th>\n",
              "    </tr>\n",
              "  </thead>\n",
              "  <tbody>\n",
              "    <tr>\n",
              "      <th>0</th>\n",
              "      <td>A11</td>\n",
              "      <td>6</td>\n",
              "      <td>A34</td>\n",
              "      <td>A43</td>\n",
              "      <td>1169</td>\n",
              "      <td>A65</td>\n",
              "      <td>A75</td>\n",
              "      <td>4</td>\n",
              "      <td>A93</td>\n",
              "      <td>A101</td>\n",
              "      <td>4</td>\n",
              "      <td>A121</td>\n",
              "      <td>67</td>\n",
              "      <td>A143</td>\n",
              "      <td>A152</td>\n",
              "      <td>2</td>\n",
              "      <td>A173</td>\n",
              "      <td>1</td>\n",
              "      <td>A192</td>\n",
              "      <td>A201</td>\n",
              "      <td>1</td>\n",
              "    </tr>\n",
              "    <tr>\n",
              "      <th>1</th>\n",
              "      <td>A12</td>\n",
              "      <td>48</td>\n",
              "      <td>A32</td>\n",
              "      <td>A43</td>\n",
              "      <td>5951</td>\n",
              "      <td>A61</td>\n",
              "      <td>A73</td>\n",
              "      <td>2</td>\n",
              "      <td>A92</td>\n",
              "      <td>A101</td>\n",
              "      <td>2</td>\n",
              "      <td>A121</td>\n",
              "      <td>22</td>\n",
              "      <td>A143</td>\n",
              "      <td>A152</td>\n",
              "      <td>1</td>\n",
              "      <td>A173</td>\n",
              "      <td>1</td>\n",
              "      <td>A191</td>\n",
              "      <td>A201</td>\n",
              "      <td>2</td>\n",
              "    </tr>\n",
              "    <tr>\n",
              "      <th>2</th>\n",
              "      <td>A14</td>\n",
              "      <td>12</td>\n",
              "      <td>A34</td>\n",
              "      <td>A46</td>\n",
              "      <td>2096</td>\n",
              "      <td>A61</td>\n",
              "      <td>A74</td>\n",
              "      <td>2</td>\n",
              "      <td>A93</td>\n",
              "      <td>A101</td>\n",
              "      <td>3</td>\n",
              "      <td>A121</td>\n",
              "      <td>49</td>\n",
              "      <td>A143</td>\n",
              "      <td>A152</td>\n",
              "      <td>1</td>\n",
              "      <td>A172</td>\n",
              "      <td>2</td>\n",
              "      <td>A191</td>\n",
              "      <td>A201</td>\n",
              "      <td>1</td>\n",
              "    </tr>\n",
              "    <tr>\n",
              "      <th>3</th>\n",
              "      <td>A11</td>\n",
              "      <td>42</td>\n",
              "      <td>A32</td>\n",
              "      <td>A42</td>\n",
              "      <td>7882</td>\n",
              "      <td>A61</td>\n",
              "      <td>A74</td>\n",
              "      <td>2</td>\n",
              "      <td>A93</td>\n",
              "      <td>A103</td>\n",
              "      <td>4</td>\n",
              "      <td>A122</td>\n",
              "      <td>45</td>\n",
              "      <td>A143</td>\n",
              "      <td>A153</td>\n",
              "      <td>1</td>\n",
              "      <td>A173</td>\n",
              "      <td>2</td>\n",
              "      <td>A191</td>\n",
              "      <td>A201</td>\n",
              "      <td>1</td>\n",
              "    </tr>\n",
              "    <tr>\n",
              "      <th>4</th>\n",
              "      <td>A11</td>\n",
              "      <td>24</td>\n",
              "      <td>A33</td>\n",
              "      <td>A40</td>\n",
              "      <td>4870</td>\n",
              "      <td>A61</td>\n",
              "      <td>A73</td>\n",
              "      <td>3</td>\n",
              "      <td>A93</td>\n",
              "      <td>A101</td>\n",
              "      <td>4</td>\n",
              "      <td>A124</td>\n",
              "      <td>53</td>\n",
              "      <td>A143</td>\n",
              "      <td>A153</td>\n",
              "      <td>2</td>\n",
              "      <td>A173</td>\n",
              "      <td>2</td>\n",
              "      <td>A191</td>\n",
              "      <td>A201</td>\n",
              "      <td>2</td>\n",
              "    </tr>\n",
              "  </tbody>\n",
              "</table>\n",
              "</div>\n",
              "    <div class=\"colab-df-buttons\">\n",
              "\n",
              "  <div class=\"colab-df-container\">\n",
              "    <button class=\"colab-df-convert\" onclick=\"convertToInteractive('df-bdb9220d-97f8-48a8-834d-c7d81ad285c6')\"\n",
              "            title=\"Convert this dataframe to an interactive table.\"\n",
              "            style=\"display:none;\">\n",
              "\n",
              "  <svg xmlns=\"http://www.w3.org/2000/svg\" height=\"24px\" viewBox=\"0 -960 960 960\">\n",
              "    <path d=\"M120-120v-720h720v720H120Zm60-500h600v-160H180v160Zm220 220h160v-160H400v160Zm0 220h160v-160H400v160ZM180-400h160v-160H180v160Zm440 0h160v-160H620v160ZM180-180h160v-160H180v160Zm440 0h160v-160H620v160Z\"/>\n",
              "  </svg>\n",
              "    </button>\n",
              "\n",
              "  <style>\n",
              "    .colab-df-container {\n",
              "      display:flex;\n",
              "      gap: 12px;\n",
              "    }\n",
              "\n",
              "    .colab-df-convert {\n",
              "      background-color: #E8F0FE;\n",
              "      border: none;\n",
              "      border-radius: 50%;\n",
              "      cursor: pointer;\n",
              "      display: none;\n",
              "      fill: #1967D2;\n",
              "      height: 32px;\n",
              "      padding: 0 0 0 0;\n",
              "      width: 32px;\n",
              "    }\n",
              "\n",
              "    .colab-df-convert:hover {\n",
              "      background-color: #E2EBFA;\n",
              "      box-shadow: 0px 1px 2px rgba(60, 64, 67, 0.3), 0px 1px 3px 1px rgba(60, 64, 67, 0.15);\n",
              "      fill: #174EA6;\n",
              "    }\n",
              "\n",
              "    .colab-df-buttons div {\n",
              "      margin-bottom: 4px;\n",
              "    }\n",
              "\n",
              "    [theme=dark] .colab-df-convert {\n",
              "      background-color: #3B4455;\n",
              "      fill: #D2E3FC;\n",
              "    }\n",
              "\n",
              "    [theme=dark] .colab-df-convert:hover {\n",
              "      background-color: #434B5C;\n",
              "      box-shadow: 0px 1px 3px 1px rgba(0, 0, 0, 0.15);\n",
              "      filter: drop-shadow(0px 1px 2px rgba(0, 0, 0, 0.3));\n",
              "      fill: #FFFFFF;\n",
              "    }\n",
              "  </style>\n",
              "\n",
              "    <script>\n",
              "      const buttonEl =\n",
              "        document.querySelector('#df-bdb9220d-97f8-48a8-834d-c7d81ad285c6 button.colab-df-convert');\n",
              "      buttonEl.style.display =\n",
              "        google.colab.kernel.accessAllowed ? 'block' : 'none';\n",
              "\n",
              "      async function convertToInteractive(key) {\n",
              "        const element = document.querySelector('#df-bdb9220d-97f8-48a8-834d-c7d81ad285c6');\n",
              "        const dataTable =\n",
              "          await google.colab.kernel.invokeFunction('convertToInteractive',\n",
              "                                                    [key], {});\n",
              "        if (!dataTable) return;\n",
              "\n",
              "        const docLinkHtml = 'Like what you see? Visit the ' +\n",
              "          '<a target=\"_blank\" href=https://colab.research.google.com/notebooks/data_table.ipynb>data table notebook</a>'\n",
              "          + ' to learn more about interactive tables.';\n",
              "        element.innerHTML = '';\n",
              "        dataTable['output_type'] = 'display_data';\n",
              "        await google.colab.output.renderOutput(dataTable, element);\n",
              "        const docLink = document.createElement('div');\n",
              "        docLink.innerHTML = docLinkHtml;\n",
              "        element.appendChild(docLink);\n",
              "      }\n",
              "    </script>\n",
              "  </div>\n",
              "\n",
              "\n",
              "    <div id=\"df-42d16fb2-1cb5-49cf-9606-1b50913d1a06\">\n",
              "      <button class=\"colab-df-quickchart\" onclick=\"quickchart('df-42d16fb2-1cb5-49cf-9606-1b50913d1a06')\"\n",
              "                title=\"Suggest charts\"\n",
              "                style=\"display:none;\">\n",
              "\n",
              "<svg xmlns=\"http://www.w3.org/2000/svg\" height=\"24px\"viewBox=\"0 0 24 24\"\n",
              "     width=\"24px\">\n",
              "    <g>\n",
              "        <path d=\"M19 3H5c-1.1 0-2 .9-2 2v14c0 1.1.9 2 2 2h14c1.1 0 2-.9 2-2V5c0-1.1-.9-2-2-2zM9 17H7v-7h2v7zm4 0h-2V7h2v10zm4 0h-2v-4h2v4z\"/>\n",
              "    </g>\n",
              "</svg>\n",
              "      </button>\n",
              "\n",
              "<style>\n",
              "  .colab-df-quickchart {\n",
              "      --bg-color: #E8F0FE;\n",
              "      --fill-color: #1967D2;\n",
              "      --hover-bg-color: #E2EBFA;\n",
              "      --hover-fill-color: #174EA6;\n",
              "      --disabled-fill-color: #AAA;\n",
              "      --disabled-bg-color: #DDD;\n",
              "  }\n",
              "\n",
              "  [theme=dark] .colab-df-quickchart {\n",
              "      --bg-color: #3B4455;\n",
              "      --fill-color: #D2E3FC;\n",
              "      --hover-bg-color: #434B5C;\n",
              "      --hover-fill-color: #FFFFFF;\n",
              "      --disabled-bg-color: #3B4455;\n",
              "      --disabled-fill-color: #666;\n",
              "  }\n",
              "\n",
              "  .colab-df-quickchart {\n",
              "    background-color: var(--bg-color);\n",
              "    border: none;\n",
              "    border-radius: 50%;\n",
              "    cursor: pointer;\n",
              "    display: none;\n",
              "    fill: var(--fill-color);\n",
              "    height: 32px;\n",
              "    padding: 0;\n",
              "    width: 32px;\n",
              "  }\n",
              "\n",
              "  .colab-df-quickchart:hover {\n",
              "    background-color: var(--hover-bg-color);\n",
              "    box-shadow: 0 1px 2px rgba(60, 64, 67, 0.3), 0 1px 3px 1px rgba(60, 64, 67, 0.15);\n",
              "    fill: var(--button-hover-fill-color);\n",
              "  }\n",
              "\n",
              "  .colab-df-quickchart-complete:disabled,\n",
              "  .colab-df-quickchart-complete:disabled:hover {\n",
              "    background-color: var(--disabled-bg-color);\n",
              "    fill: var(--disabled-fill-color);\n",
              "    box-shadow: none;\n",
              "  }\n",
              "\n",
              "  .colab-df-spinner {\n",
              "    border: 2px solid var(--fill-color);\n",
              "    border-color: transparent;\n",
              "    border-bottom-color: var(--fill-color);\n",
              "    animation:\n",
              "      spin 1s steps(1) infinite;\n",
              "  }\n",
              "\n",
              "  @keyframes spin {\n",
              "    0% {\n",
              "      border-color: transparent;\n",
              "      border-bottom-color: var(--fill-color);\n",
              "      border-left-color: var(--fill-color);\n",
              "    }\n",
              "    20% {\n",
              "      border-color: transparent;\n",
              "      border-left-color: var(--fill-color);\n",
              "      border-top-color: var(--fill-color);\n",
              "    }\n",
              "    30% {\n",
              "      border-color: transparent;\n",
              "      border-left-color: var(--fill-color);\n",
              "      border-top-color: var(--fill-color);\n",
              "      border-right-color: var(--fill-color);\n",
              "    }\n",
              "    40% {\n",
              "      border-color: transparent;\n",
              "      border-right-color: var(--fill-color);\n",
              "      border-top-color: var(--fill-color);\n",
              "    }\n",
              "    60% {\n",
              "      border-color: transparent;\n",
              "      border-right-color: var(--fill-color);\n",
              "    }\n",
              "    80% {\n",
              "      border-color: transparent;\n",
              "      border-right-color: var(--fill-color);\n",
              "      border-bottom-color: var(--fill-color);\n",
              "    }\n",
              "    90% {\n",
              "      border-color: transparent;\n",
              "      border-bottom-color: var(--fill-color);\n",
              "    }\n",
              "  }\n",
              "</style>\n",
              "\n",
              "      <script>\n",
              "        async function quickchart(key) {\n",
              "          const quickchartButtonEl =\n",
              "            document.querySelector('#' + key + ' button');\n",
              "          quickchartButtonEl.disabled = true;  // To prevent multiple clicks.\n",
              "          quickchartButtonEl.classList.add('colab-df-spinner');\n",
              "          try {\n",
              "            const charts = await google.colab.kernel.invokeFunction(\n",
              "                'suggestCharts', [key], {});\n",
              "          } catch (error) {\n",
              "            console.error('Error during call to suggestCharts:', error);\n",
              "          }\n",
              "          quickchartButtonEl.classList.remove('colab-df-spinner');\n",
              "          quickchartButtonEl.classList.add('colab-df-quickchart-complete');\n",
              "        }\n",
              "        (() => {\n",
              "          let quickchartButtonEl =\n",
              "            document.querySelector('#df-42d16fb2-1cb5-49cf-9606-1b50913d1a06 button');\n",
              "          quickchartButtonEl.style.display =\n",
              "            google.colab.kernel.accessAllowed ? 'block' : 'none';\n",
              "        })();\n",
              "      </script>\n",
              "    </div>\n",
              "\n",
              "    </div>\n",
              "  </div>\n"
            ],
            "application/vnd.google.colaboratory.intrinsic+json": {
              "type": "dataframe",
              "variable_name": "df"
            }
          },
          "metadata": {},
          "execution_count": 5
        }
      ],
      "source": [
        "# Cargar el dataset desde una URL pública\n",
        "url = 'https://archive.ics.uci.edu/ml/machine-learning-databases/statlog/german/german.data'\n",
        "# Los nombres de las columnas se encuentran en la documentación del dataset\n",
        "columns = ['Estado de la cuenta corriente existente', 'Duración en meses', 'Historia de crédito', 'Propósito',\n",
        "           'Monto del crédito',\n",
        "           'Cuenta de ahorros/bonos', 'Empleo actual desde',\n",
        "           'Tasa de pago a plazos en porcentaje del ingreso disponible',\n",
        "           'Estado personal y sexo', 'Otros deudores/fiadores', 'Residencia actual desde', 'Propiedad',\n",
        "           'Edad', 'Otros planes de pago', 'Alojamiento', 'Número de créditos existentes en este banco',\n",
        "           'Trabajo', 'Número de personas obligadas a prestar manutención a', 'Teléfono', 'Trabajador extranjero',\n",
        "           'Riesgo']\n",
        "\n",
        "df = pd.read_csv(url, sep=' ', header=None, names=columns)\n",
        "\n",
        "# Vistazo inicial a los datos\n",
        "print(\"Dimensiones del dataset:\", df.shape)\n",
        "df.head()"
      ]
    },
    {
      "cell_type": "code",
      "execution_count": 6,
      "metadata": {
        "colab": {
          "base_uri": "https://localhost:8080/",
          "height": 642
        },
        "id": "FE4xGFsLf7YI",
        "outputId": "1c2b262b-56f9-4ee8-b86a-3d1264f280ac"
      },
      "outputs": [
        {
          "output_type": "stream",
          "name": "stdout",
          "text": [
            "DataFrame con valores reemplazados y columnas en español:\n"
          ]
        },
        {
          "output_type": "display_data",
          "data": {
            "text/plain": [
              "  Estado de la cuenta corriente existente  Duración en meses  \\\n",
              "0                           Menos de 0 DM                  6   \n",
              "1                        Entre 0 y 200 DM                 48   \n",
              "2                    Sin cuenta corriente                 12   \n",
              "3                           Menos de 0 DM                 42   \n",
              "4                           Menos de 0 DM                 24   \n",
              "\n",
              "                       Historia de crédito           Propósito  \\\n",
              "0          Cuenta crítica / Otros créditos  Radio / Televisión   \n",
              "1  Créditos existentes pagados hasta ahora  Radio / Televisión   \n",
              "2          Cuenta crítica / Otros créditos           Educación   \n",
              "3  Créditos existentes pagados hasta ahora    Muebles / Equipo   \n",
              "4            Retraso en pagos en el pasado   Automóvil (nuevo)   \n",
              "\n",
              "   Monto del crédito   Cuenta de ahorros/bonos Empleo actual desde  \\\n",
              "0               1169  Desconocido / Sin cuenta       Más de 7 años   \n",
              "1               5951           Menos de 100 DM    Entre 1 y 4 años   \n",
              "2               2096           Menos de 100 DM    Entre 4 y 7 años   \n",
              "3               7882           Menos de 100 DM    Entre 4 y 7 años   \n",
              "4               4870           Menos de 100 DM    Entre 1 y 4 años   \n",
              "\n",
              "   Tasa de pago a plazos en porcentaje del ingreso disponible  \\\n",
              "0                                                  4            \n",
              "1                                                  2            \n",
              "2                                                  2            \n",
              "3                                                  2            \n",
              "4                                                  3            \n",
              "\n",
              "              Estado personal y sexo Otros deudores/fiadores  \\\n",
              "0                    Hombre: soltero                 Ninguno   \n",
              "1  Mujer: divorciada/separada/casada                 Ninguno   \n",
              "2                    Hombre: soltero                 Ninguno   \n",
              "3                    Hombre: soltero                 Garante   \n",
              "4                    Hombre: soltero                 Ninguno   \n",
              "\n",
              "   Residencia actual desde                              Propiedad  Edad  \\\n",
              "0                        4                       Bienes inmuebles    67   \n",
              "1                        2                       Bienes inmuebles    22   \n",
              "2                        3                       Bienes inmuebles    49   \n",
              "3                        4  Seguro de vida / Ahorro para vivienda    45   \n",
              "4                        4            Desconocido / Sin propiedad    53   \n",
              "\n",
              "  Otros planes de pago Alojamiento  \\\n",
              "0              Ninguno      Propia   \n",
              "1              Ninguno      Propia   \n",
              "2              Ninguno      Propia   \n",
              "3              Ninguno    Gratuita   \n",
              "4              Ninguno    Gratuita   \n",
              "\n",
              "   Número de créditos existentes en este banco  \\\n",
              "0                                            2   \n",
              "1                                            1   \n",
              "2                                            1   \n",
              "3                                            1   \n",
              "4                                            2   \n",
              "\n",
              "                              Trabajo  \\\n",
              "0  Empleado cualificado / Funcionario   \n",
              "1  Empleado cualificado / Funcionario   \n",
              "2          No cualificado - residente   \n",
              "3  Empleado cualificado / Funcionario   \n",
              "4  Empleado cualificado / Funcionario   \n",
              "\n",
              "   Número de personas obligadas a prestar manutención a         Teléfono  \\\n",
              "0                                                  1     Sí, a su nombre   \n",
              "1                                                  1            No tiene   \n",
              "2                                                  2            No tiene   \n",
              "3                                                  2            No tiene   \n",
              "4                                                  2            No tiene   \n",
              "\n",
              "  Trabajador extranjero  Riesgo  \n",
              "0                    Sí       1  \n",
              "1                    Sí       2  \n",
              "2                    Sí       1  \n",
              "3                    Sí       1  \n",
              "4                    Sí       2  "
            ],
            "text/html": [
              "\n",
              "  <div id=\"df-2106f56c-9979-4554-9704-cf7f8c91280e\" class=\"colab-df-container\">\n",
              "    <div>\n",
              "<style scoped>\n",
              "    .dataframe tbody tr th:only-of-type {\n",
              "        vertical-align: middle;\n",
              "    }\n",
              "\n",
              "    .dataframe tbody tr th {\n",
              "        vertical-align: top;\n",
              "    }\n",
              "\n",
              "    .dataframe thead th {\n",
              "        text-align: right;\n",
              "    }\n",
              "</style>\n",
              "<table border=\"1\" class=\"dataframe\">\n",
              "  <thead>\n",
              "    <tr style=\"text-align: right;\">\n",
              "      <th></th>\n",
              "      <th>Estado de la cuenta corriente existente</th>\n",
              "      <th>Duración en meses</th>\n",
              "      <th>Historia de crédito</th>\n",
              "      <th>Propósito</th>\n",
              "      <th>Monto del crédito</th>\n",
              "      <th>Cuenta de ahorros/bonos</th>\n",
              "      <th>Empleo actual desde</th>\n",
              "      <th>Tasa de pago a plazos en porcentaje del ingreso disponible</th>\n",
              "      <th>Estado personal y sexo</th>\n",
              "      <th>Otros deudores/fiadores</th>\n",
              "      <th>Residencia actual desde</th>\n",
              "      <th>Propiedad</th>\n",
              "      <th>Edad</th>\n",
              "      <th>Otros planes de pago</th>\n",
              "      <th>Alojamiento</th>\n",
              "      <th>Número de créditos existentes en este banco</th>\n",
              "      <th>Trabajo</th>\n",
              "      <th>Número de personas obligadas a prestar manutención a</th>\n",
              "      <th>Teléfono</th>\n",
              "      <th>Trabajador extranjero</th>\n",
              "      <th>Riesgo</th>\n",
              "    </tr>\n",
              "  </thead>\n",
              "  <tbody>\n",
              "    <tr>\n",
              "      <th>0</th>\n",
              "      <td>Menos de 0 DM</td>\n",
              "      <td>6</td>\n",
              "      <td>Cuenta crítica / Otros créditos</td>\n",
              "      <td>Radio / Televisión</td>\n",
              "      <td>1169</td>\n",
              "      <td>Desconocido / Sin cuenta</td>\n",
              "      <td>Más de 7 años</td>\n",
              "      <td>4</td>\n",
              "      <td>Hombre: soltero</td>\n",
              "      <td>Ninguno</td>\n",
              "      <td>4</td>\n",
              "      <td>Bienes inmuebles</td>\n",
              "      <td>67</td>\n",
              "      <td>Ninguno</td>\n",
              "      <td>Propia</td>\n",
              "      <td>2</td>\n",
              "      <td>Empleado cualificado / Funcionario</td>\n",
              "      <td>1</td>\n",
              "      <td>Sí, a su nombre</td>\n",
              "      <td>Sí</td>\n",
              "      <td>1</td>\n",
              "    </tr>\n",
              "    <tr>\n",
              "      <th>1</th>\n",
              "      <td>Entre 0 y 200 DM</td>\n",
              "      <td>48</td>\n",
              "      <td>Créditos existentes pagados hasta ahora</td>\n",
              "      <td>Radio / Televisión</td>\n",
              "      <td>5951</td>\n",
              "      <td>Menos de 100 DM</td>\n",
              "      <td>Entre 1 y 4 años</td>\n",
              "      <td>2</td>\n",
              "      <td>Mujer: divorciada/separada/casada</td>\n",
              "      <td>Ninguno</td>\n",
              "      <td>2</td>\n",
              "      <td>Bienes inmuebles</td>\n",
              "      <td>22</td>\n",
              "      <td>Ninguno</td>\n",
              "      <td>Propia</td>\n",
              "      <td>1</td>\n",
              "      <td>Empleado cualificado / Funcionario</td>\n",
              "      <td>1</td>\n",
              "      <td>No tiene</td>\n",
              "      <td>Sí</td>\n",
              "      <td>2</td>\n",
              "    </tr>\n",
              "    <tr>\n",
              "      <th>2</th>\n",
              "      <td>Sin cuenta corriente</td>\n",
              "      <td>12</td>\n",
              "      <td>Cuenta crítica / Otros créditos</td>\n",
              "      <td>Educación</td>\n",
              "      <td>2096</td>\n",
              "      <td>Menos de 100 DM</td>\n",
              "      <td>Entre 4 y 7 años</td>\n",
              "      <td>2</td>\n",
              "      <td>Hombre: soltero</td>\n",
              "      <td>Ninguno</td>\n",
              "      <td>3</td>\n",
              "      <td>Bienes inmuebles</td>\n",
              "      <td>49</td>\n",
              "      <td>Ninguno</td>\n",
              "      <td>Propia</td>\n",
              "      <td>1</td>\n",
              "      <td>No cualificado - residente</td>\n",
              "      <td>2</td>\n",
              "      <td>No tiene</td>\n",
              "      <td>Sí</td>\n",
              "      <td>1</td>\n",
              "    </tr>\n",
              "    <tr>\n",
              "      <th>3</th>\n",
              "      <td>Menos de 0 DM</td>\n",
              "      <td>42</td>\n",
              "      <td>Créditos existentes pagados hasta ahora</td>\n",
              "      <td>Muebles / Equipo</td>\n",
              "      <td>7882</td>\n",
              "      <td>Menos de 100 DM</td>\n",
              "      <td>Entre 4 y 7 años</td>\n",
              "      <td>2</td>\n",
              "      <td>Hombre: soltero</td>\n",
              "      <td>Garante</td>\n",
              "      <td>4</td>\n",
              "      <td>Seguro de vida / Ahorro para vivienda</td>\n",
              "      <td>45</td>\n",
              "      <td>Ninguno</td>\n",
              "      <td>Gratuita</td>\n",
              "      <td>1</td>\n",
              "      <td>Empleado cualificado / Funcionario</td>\n",
              "      <td>2</td>\n",
              "      <td>No tiene</td>\n",
              "      <td>Sí</td>\n",
              "      <td>1</td>\n",
              "    </tr>\n",
              "    <tr>\n",
              "      <th>4</th>\n",
              "      <td>Menos de 0 DM</td>\n",
              "      <td>24</td>\n",
              "      <td>Retraso en pagos en el pasado</td>\n",
              "      <td>Automóvil (nuevo)</td>\n",
              "      <td>4870</td>\n",
              "      <td>Menos de 100 DM</td>\n",
              "      <td>Entre 1 y 4 años</td>\n",
              "      <td>3</td>\n",
              "      <td>Hombre: soltero</td>\n",
              "      <td>Ninguno</td>\n",
              "      <td>4</td>\n",
              "      <td>Desconocido / Sin propiedad</td>\n",
              "      <td>53</td>\n",
              "      <td>Ninguno</td>\n",
              "      <td>Gratuita</td>\n",
              "      <td>2</td>\n",
              "      <td>Empleado cualificado / Funcionario</td>\n",
              "      <td>2</td>\n",
              "      <td>No tiene</td>\n",
              "      <td>Sí</td>\n",
              "      <td>2</td>\n",
              "    </tr>\n",
              "  </tbody>\n",
              "</table>\n",
              "</div>\n",
              "    <div class=\"colab-df-buttons\">\n",
              "\n",
              "  <div class=\"colab-df-container\">\n",
              "    <button class=\"colab-df-convert\" onclick=\"convertToInteractive('df-2106f56c-9979-4554-9704-cf7f8c91280e')\"\n",
              "            title=\"Convert this dataframe to an interactive table.\"\n",
              "            style=\"display:none;\">\n",
              "\n",
              "  <svg xmlns=\"http://www.w3.org/2000/svg\" height=\"24px\" viewBox=\"0 -960 960 960\">\n",
              "    <path d=\"M120-120v-720h720v720H120Zm60-500h600v-160H180v160Zm220 220h160v-160H400v160Zm0 220h160v-160H400v160ZM180-400h160v-160H180v160Zm440 0h160v-160H620v160ZM180-180h160v-160H180v160Zm440 0h160v-160H620v160Z\"/>\n",
              "  </svg>\n",
              "    </button>\n",
              "\n",
              "  <style>\n",
              "    .colab-df-container {\n",
              "      display:flex;\n",
              "      gap: 12px;\n",
              "    }\n",
              "\n",
              "    .colab-df-convert {\n",
              "      background-color: #E8F0FE;\n",
              "      border: none;\n",
              "      border-radius: 50%;\n",
              "      cursor: pointer;\n",
              "      display: none;\n",
              "      fill: #1967D2;\n",
              "      height: 32px;\n",
              "      padding: 0 0 0 0;\n",
              "      width: 32px;\n",
              "    }\n",
              "\n",
              "    .colab-df-convert:hover {\n",
              "      background-color: #E2EBFA;\n",
              "      box-shadow: 0px 1px 2px rgba(60, 64, 67, 0.3), 0px 1px 3px 1px rgba(60, 64, 67, 0.15);\n",
              "      fill: #174EA6;\n",
              "    }\n",
              "\n",
              "    .colab-df-buttons div {\n",
              "      margin-bottom: 4px;\n",
              "    }\n",
              "\n",
              "    [theme=dark] .colab-df-convert {\n",
              "      background-color: #3B4455;\n",
              "      fill: #D2E3FC;\n",
              "    }\n",
              "\n",
              "    [theme=dark] .colab-df-convert:hover {\n",
              "      background-color: #434B5C;\n",
              "      box-shadow: 0px 1px 3px 1px rgba(0, 0, 0, 0.15);\n",
              "      filter: drop-shadow(0px 1px 2px rgba(0, 0, 0, 0.3));\n",
              "      fill: #FFFFFF;\n",
              "    }\n",
              "  </style>\n",
              "\n",
              "    <script>\n",
              "      const buttonEl =\n",
              "        document.querySelector('#df-2106f56c-9979-4554-9704-cf7f8c91280e button.colab-df-convert');\n",
              "      buttonEl.style.display =\n",
              "        google.colab.kernel.accessAllowed ? 'block' : 'none';\n",
              "\n",
              "      async function convertToInteractive(key) {\n",
              "        const element = document.querySelector('#df-2106f56c-9979-4554-9704-cf7f8c91280e');\n",
              "        const dataTable =\n",
              "          await google.colab.kernel.invokeFunction('convertToInteractive',\n",
              "                                                    [key], {});\n",
              "        if (!dataTable) return;\n",
              "\n",
              "        const docLinkHtml = 'Like what you see? Visit the ' +\n",
              "          '<a target=\"_blank\" href=https://colab.research.google.com/notebooks/data_table.ipynb>data table notebook</a>'\n",
              "          + ' to learn more about interactive tables.';\n",
              "        element.innerHTML = '';\n",
              "        dataTable['output_type'] = 'display_data';\n",
              "        await google.colab.output.renderOutput(dataTable, element);\n",
              "        const docLink = document.createElement('div');\n",
              "        docLink.innerHTML = docLinkHtml;\n",
              "        element.appendChild(docLink);\n",
              "      }\n",
              "    </script>\n",
              "  </div>\n",
              "\n",
              "\n",
              "    <div id=\"df-40e3fd9a-de33-40c2-96fb-9e62f9e728b3\">\n",
              "      <button class=\"colab-df-quickchart\" onclick=\"quickchart('df-40e3fd9a-de33-40c2-96fb-9e62f9e728b3')\"\n",
              "                title=\"Suggest charts\"\n",
              "                style=\"display:none;\">\n",
              "\n",
              "<svg xmlns=\"http://www.w3.org/2000/svg\" height=\"24px\"viewBox=\"0 0 24 24\"\n",
              "     width=\"24px\">\n",
              "    <g>\n",
              "        <path d=\"M19 3H5c-1.1 0-2 .9-2 2v14c0 1.1.9 2 2 2h14c1.1 0 2-.9 2-2V5c0-1.1-.9-2-2-2zM9 17H7v-7h2v7zm4 0h-2V7h2v10zm4 0h-2v-4h2v4z\"/>\n",
              "    </g>\n",
              "</svg>\n",
              "      </button>\n",
              "\n",
              "<style>\n",
              "  .colab-df-quickchart {\n",
              "      --bg-color: #E8F0FE;\n",
              "      --fill-color: #1967D2;\n",
              "      --hover-bg-color: #E2EBFA;\n",
              "      --hover-fill-color: #174EA6;\n",
              "      --disabled-fill-color: #AAA;\n",
              "      --disabled-bg-color: #DDD;\n",
              "  }\n",
              "\n",
              "  [theme=dark] .colab-df-quickchart {\n",
              "      --bg-color: #3B4455;\n",
              "      --fill-color: #D2E3FC;\n",
              "      --hover-bg-color: #434B5C;\n",
              "      --hover-fill-color: #FFFFFF;\n",
              "      --disabled-bg-color: #3B4455;\n",
              "      --disabled-fill-color: #666;\n",
              "  }\n",
              "\n",
              "  .colab-df-quickchart {\n",
              "    background-color: var(--bg-color);\n",
              "    border: none;\n",
              "    border-radius: 50%;\n",
              "    cursor: pointer;\n",
              "    display: none;\n",
              "    fill: var(--fill-color);\n",
              "    height: 32px;\n",
              "    padding: 0;\n",
              "    width: 32px;\n",
              "  }\n",
              "\n",
              "  .colab-df-quickchart:hover {\n",
              "    background-color: var(--hover-bg-color);\n",
              "    box-shadow: 0 1px 2px rgba(60, 64, 67, 0.3), 0 1px 3px 1px rgba(60, 64, 67, 0.15);\n",
              "    fill: var(--button-hover-fill-color);\n",
              "  }\n",
              "\n",
              "  .colab-df-quickchart-complete:disabled,\n",
              "  .colab-df-quickchart-complete:disabled:hover {\n",
              "    background-color: var(--disabled-bg-color);\n",
              "    fill: var(--disabled-fill-color);\n",
              "    box-shadow: none;\n",
              "  }\n",
              "\n",
              "  .colab-df-spinner {\n",
              "    border: 2px solid var(--fill-color);\n",
              "    border-color: transparent;\n",
              "    border-bottom-color: var(--fill-color);\n",
              "    animation:\n",
              "      spin 1s steps(1) infinite;\n",
              "  }\n",
              "\n",
              "  @keyframes spin {\n",
              "    0% {\n",
              "      border-color: transparent;\n",
              "      border-bottom-color: var(--fill-color);\n",
              "      border-left-color: var(--fill-color);\n",
              "    }\n",
              "    20% {\n",
              "      border-color: transparent;\n",
              "      border-left-color: var(--fill-color);\n",
              "      border-top-color: var(--fill-color);\n",
              "    }\n",
              "    30% {\n",
              "      border-color: transparent;\n",
              "      border-left-color: var(--fill-color);\n",
              "      border-top-color: var(--fill-color);\n",
              "      border-right-color: var(--fill-color);\n",
              "    }\n",
              "    40% {\n",
              "      border-color: transparent;\n",
              "      border-right-color: var(--fill-color);\n",
              "      border-top-color: var(--fill-color);\n",
              "    }\n",
              "    60% {\n",
              "      border-color: transparent;\n",
              "      border-right-color: var(--fill-color);\n",
              "    }\n",
              "    80% {\n",
              "      border-color: transparent;\n",
              "      border-right-color: var(--fill-color);\n",
              "      border-bottom-color: var(--fill-color);\n",
              "    }\n",
              "    90% {\n",
              "      border-color: transparent;\n",
              "      border-bottom-color: var(--fill-color);\n",
              "    }\n",
              "  }\n",
              "</style>\n",
              "\n",
              "      <script>\n",
              "        async function quickchart(key) {\n",
              "          const quickchartButtonEl =\n",
              "            document.querySelector('#' + key + ' button');\n",
              "          quickchartButtonEl.disabled = true;  // To prevent multiple clicks.\n",
              "          quickchartButtonEl.classList.add('colab-df-spinner');\n",
              "          try {\n",
              "            const charts = await google.colab.kernel.invokeFunction(\n",
              "                'suggestCharts', [key], {});\n",
              "          } catch (error) {\n",
              "            console.error('Error during call to suggestCharts:', error);\n",
              "          }\n",
              "          quickchartButtonEl.classList.remove('colab-df-spinner');\n",
              "          quickchartButtonEl.classList.add('colab-df-quickchart-complete');\n",
              "        }\n",
              "        (() => {\n",
              "          let quickchartButtonEl =\n",
              "            document.querySelector('#df-40e3fd9a-de33-40c2-96fb-9e62f9e728b3 button');\n",
              "          quickchartButtonEl.style.display =\n",
              "            google.colab.kernel.accessAllowed ? 'block' : 'none';\n",
              "        })();\n",
              "      </script>\n",
              "    </div>\n",
              "\n",
              "    </div>\n",
              "  </div>\n"
            ],
            "application/vnd.google.colaboratory.intrinsic+json": {
              "type": "dataframe"
            }
          },
          "metadata": {}
        }
      ],
      "source": [
        "# --- 1. Definición de los Diccionarios de Mapeo ---\n",
        "\n",
        "# Atributo 1: Estado de la cuenta corriente existente\n",
        "estado_cuenta_corriente_map = {\n",
        "    'A11': 'Menos de 0 DM',\n",
        "    'A12': 'Entre 0 y 200 DM',\n",
        "    'A13': 'Más de 200 DM / Salario asignado',\n",
        "    'A14': 'Sin cuenta corriente'\n",
        "}\n",
        "\n",
        "# Atributo 3: Historial crediticio\n",
        "historial_crediticio_map = {\n",
        "    'A30': 'Sin créditos / Todos pagados',\n",
        "    'A31': 'Todos los créditos en este banco pagados',\n",
        "    'A32': 'Créditos existentes pagados hasta ahora',\n",
        "    'A33': 'Retraso en pagos en el pasado',\n",
        "    'A34': 'Cuenta crítica / Otros créditos'\n",
        "}\n",
        "\n",
        "# Atributo 4: Propósito del crédito\n",
        "proposito_map = {\n",
        "    'A40': 'Automóvil (nuevo)',\n",
        "    'A41': 'Automóvil (usado)',\n",
        "    'A42': 'Muebles / Equipo',\n",
        "    'A43': 'Radio / Televisión',\n",
        "    'A44': 'Electrodomésticos',\n",
        "    'A45': 'Reparaciones',\n",
        "    'A46': 'Educación',\n",
        "    'A48': 'Reciclaje',\n",
        "    'A49': 'Negocios',\n",
        "    'A410': 'Otros'\n",
        "}\n",
        "\n",
        "# Atributo 6: Cuenta de ahorros/bonos\n",
        "cuenta_ahorros_map = {\n",
        "    'A61': 'Menos de 100 DM',\n",
        "    'A62': 'Entre 100 y 500 DM',\n",
        "    'A63': 'Entre 500 y 1000 DM',\n",
        "    'A64': 'Más de 1000 DM',\n",
        "    'A65': 'Desconocido / Sin cuenta'\n",
        "}\n",
        "\n",
        "# Atributo 7: Empleo actual desde\n",
        "empleo_actual_map = {\n",
        "    'A71': 'Desempleado',\n",
        "    'A72': 'Menos de 1 año',\n",
        "    'A73': 'Entre 1 y 4 años',\n",
        "    'A74': 'Entre 4 y 7 años',\n",
        "    'A75': 'Más de 7 años'\n",
        "}\n",
        "\n",
        "# Atributo 9: Estado civil y sexo\n",
        "estado_civil_sexo_map = {\n",
        "    'A91': 'Hombre: divorciado/separado',\n",
        "    'A92': 'Mujer: divorciada/separada/casada',\n",
        "    'A93': 'Hombre: soltero',\n",
        "    'A94': 'Hombre: casado/viudo',\n",
        "    'A95': 'Mujer: soltera'\n",
        "}\n",
        "\n",
        "# Atributo 10: Otros deudores/fiadores\n",
        "otros_deudores_map = {\n",
        "    'A101': 'Ninguno',\n",
        "    'A102': 'Co-solicitante',\n",
        "    'A103': 'Garante'\n",
        "}\n",
        "\n",
        "# Atributo 12: Propiedad\n",
        "propiedad_map = {\n",
        "    'A121': 'Bienes inmuebles',\n",
        "    'A122': 'Seguro de vida / Ahorro para vivienda',\n",
        "    'A123': 'Automóvil u otro',\n",
        "    'A124': 'Desconocido / Sin propiedad'\n",
        "}\n",
        "\n",
        "# Atributo 14: Otros planes de pago\n",
        "otros_planes_pago_map = {\n",
        "    'A141': 'Banco',\n",
        "    'A142': 'Tiendas',\n",
        "    'A143': 'Ninguno'\n",
        "}\n",
        "\n",
        "# Atributo 15: Alojamiento\n",
        "vivienda_map = {\n",
        "    'A151': 'Alquiler',\n",
        "    'A152': 'Propia',\n",
        "    'A153': 'Gratuita'\n",
        "}\n",
        "\n",
        "# Atributo 17: Trabajo\n",
        "empleo_map = {\n",
        "    'A171': 'Desempleado / No cualificado - no residente',\n",
        "    'A172': 'No cualificado - residente',\n",
        "    'A173': 'Empleado cualificado / Funcionario',\n",
        "    'A174': 'Directivo / Autónomo / Altamente cualificado'\n",
        "}\n",
        "\n",
        "# Atributo 19: Teléfono\n",
        "telefono_map = {\n",
        "    'A191': 'No tiene',\n",
        "    'A192': 'Sí, a su nombre'\n",
        "}\n",
        "\n",
        "# Atributo 20: trabajador extranjero\n",
        "trabajador_extranjero_map = {\n",
        "    'A201': 'Sí',\n",
        "    'A202': 'No'\n",
        "}\n",
        "\n",
        "# --- 2. Aplicación de los Mapeos al DataFrame ---\n",
        "# Creamos una copia para trabajar de forma segura\n",
        "df_mapeado = df.copy()\n",
        "\n",
        "# Se aplica el mapeo a cada columna usando los nombres en español\n",
        "df_mapeado['Estado de la cuenta corriente existente'] = df_mapeado['Estado de la cuenta corriente existente'].map(estado_cuenta_corriente_map)\n",
        "df_mapeado['Historia de crédito'] = df_mapeado['Historia de crédito'].map(historial_crediticio_map)\n",
        "df_mapeado['Propósito'] = df_mapeado['Propósito'].map(proposito_map)\n",
        "df_mapeado['Cuenta de ahorros/bonos'] = df_mapeado['Cuenta de ahorros/bonos'].map(cuenta_ahorros_map)\n",
        "df_mapeado['Empleo actual desde'] = df_mapeado['Empleo actual desde'].map(empleo_actual_map)\n",
        "df_mapeado['Estado personal y sexo'] = df_mapeado['Estado personal y sexo'].map(estado_civil_sexo_map)\n",
        "df_mapeado['Otros deudores/fiadores'] = df_mapeado['Otros deudores/fiadores'].map(otros_deudores_map)\n",
        "df_mapeado['Propiedad'] = df_mapeado['Propiedad'].map(propiedad_map)\n",
        "df_mapeado['Otros planes de pago'] = df_mapeado['Otros planes de pago'].map(otros_planes_pago_map)\n",
        "df_mapeado['Alojamiento'] = df_mapeado['Alojamiento'].map(vivienda_map)\n",
        "df_mapeado['Trabajo'] = df_mapeado['Trabajo'].map(empleo_map)\n",
        "df_mapeado['Teléfono'] = df_mapeado['Teléfono'].map(telefono_map)\n",
        "df_mapeado['Trabajador extranjero'] = df_mapeado['Trabajador extranjero'].map(trabajador_extranjero_map)\n",
        "\n",
        "# --- 3. Verificación de los Resultados ---\n",
        "print(\"DataFrame con valores reemplazados y columnas en español:\")\n",
        "display(df_mapeado.head())"
      ]
    },
    {
      "cell_type": "code",
      "execution_count": 7,
      "metadata": {
        "colab": {
          "base_uri": "https://localhost:8080/"
        },
        "id": "a3UlGSKPNB4u",
        "outputId": "00ca1334-3702-492c-db22-036cd828173f"
      },
      "outputs": [
        {
          "output_type": "stream",
          "name": "stdout",
          "text": [
            "<class 'pandas.core.frame.DataFrame'>\n",
            "RangeIndex: 1000 entries, 0 to 999\n",
            "Data columns (total 21 columns):\n",
            " #   Column                                                      Non-Null Count  Dtype \n",
            "---  ------                                                      --------------  ----- \n",
            " 0   Estado de la cuenta corriente existente                     1000 non-null   object\n",
            " 1   Duración en meses                                           1000 non-null   int64 \n",
            " 2   Historia de crédito                                         1000 non-null   object\n",
            " 3   Propósito                                                   1000 non-null   object\n",
            " 4   Monto del crédito                                           1000 non-null   int64 \n",
            " 5   Cuenta de ahorros/bonos                                     1000 non-null   object\n",
            " 6   Empleo actual desde                                         1000 non-null   object\n",
            " 7   Tasa de pago a plazos en porcentaje del ingreso disponible  1000 non-null   int64 \n",
            " 8   Estado personal y sexo                                      1000 non-null   object\n",
            " 9   Otros deudores/fiadores                                     1000 non-null   object\n",
            " 10  Residencia actual desde                                     1000 non-null   int64 \n",
            " 11  Propiedad                                                   1000 non-null   object\n",
            " 12  Edad                                                        1000 non-null   int64 \n",
            " 13  Otros planes de pago                                        1000 non-null   object\n",
            " 14  Alojamiento                                                 1000 non-null   object\n",
            " 15  Número de créditos existentes en este banco                 1000 non-null   int64 \n",
            " 16  Trabajo                                                     1000 non-null   object\n",
            " 17  Número de personas obligadas a prestar manutención a        1000 non-null   int64 \n",
            " 18  Teléfono                                                    1000 non-null   object\n",
            " 19  Trabajador extranjero                                       1000 non-null   object\n",
            " 20  Riesgo                                                      1000 non-null   int64 \n",
            "dtypes: int64(8), object(13)\n",
            "memory usage: 164.2+ KB\n"
          ]
        }
      ],
      "source": [
        "df_mapeado.info()"
      ]
    },
    {
      "cell_type": "markdown",
      "metadata": {
        "id": "3Gedcfd5UkCM"
      },
      "source": [
        "### Reemplazo de dos categorías por 1 y 0\n",
        "\n",
        "La variable `Riesgo` está codificada como 1 para 'Bueno' y 2 para 'Malo'. Vamos a recodificarla a 0 para 'Bueno' y 1 para 'Malo', que es la convención en problemas de clasificación de riesgo (el evento de interés, el 'default', es 1)."
      ]
    },
    {
      "cell_type": "code",
      "execution_count": 8,
      "metadata": {
        "colab": {
          "base_uri": "https://localhost:8080/"
        },
        "id": "Q4UbabMcUkCN",
        "outputId": "38a9aec5-be26-4b99-e729-61acd5033ac3"
      },
      "outputs": [
        {
          "output_type": "stream",
          "name": "stdout",
          "text": [
            "Distribución de la variable objetivo 'Riesgo':\n",
            "Riesgo\n",
            "0   0.70\n",
            "1   0.30\n",
            "Name: proportion, dtype: float64\n"
          ]
        }
      ],
      "source": [
        "# Usamos .map() para la recodificación\n",
        "df_mapeado['Riesgo'] = df_mapeado['Riesgo'].map({1: 0, 2: 1})\n",
        "\n",
        "print(\"Distribución de la variable objetivo 'Riesgo':\")\n",
        "print(df_mapeado['Riesgo'].value_counts(normalize=True))"
      ]
    },
    {
      "cell_type": "markdown",
      "metadata": {
        "id": "05QSOb3P8_OS"
      },
      "source": [
        "Vemos un desbalance: 70% de los clientes son buenos y 30% son malos."
      ]
    },
    {
      "cell_type": "markdown",
      "metadata": {
        "id": "KleAIXUSUkCM"
      },
      "source": [
        "## Feature Engineering\n",
        "\n",
        "**Creación de nuevas variables a partir de las existentes.**\n",
        "\n",
        "Ejemplos:\n",
        "\n",
        "- PIB per cápita = PIB / población\n",
        "- Tasa de dependencia = población joven + mayor / población en edad de trabajar\n",
        "- Índice de concentración = exportaciones top 3 países / exportaciones totales\n",
        "\n",
        "Técnicas:\n",
        "\n",
        "- Transformaciones matemáticas (log, raíz cuadrada).\n",
        "- Variables de interacción (multiplicar dos variables).\n",
        "- Variables temporales (día, mes, trimestre, año)."
      ]
    },
    {
      "cell_type": "markdown",
      "metadata": {
        "id": "39FCi3s1UkCN"
      },
      "source": [
        "### Creación de variables a partir de operaciones entre columnas\n",
        "\n",
        "Una variable muy común en el análisis de crédito es la relación entre el monto del crédito y su duración. Un crédito muy grande a un plazo muy corto puede ser más riesgoso.\n",
        "\n",
        "**Hipótesis Económica:** La \"cuota mensual implícita\" (aunque no es exacta sin la tasa de interés) puede ser un indicador de la carga financiera."
      ]
    },
    {
      "cell_type": "code",
      "execution_count": null,
      "metadata": {
        "id": "b2zVHoMRcW7Z"
      },
      "outputs": [],
      "source": [
        "df_mapeado['Proxy pago mensual'] = df_mapeado['Monto del crédito'] / df_mapeado['Duración en meses']"
      ]
    },
    {
      "cell_type": "code",
      "execution_count": null,
      "metadata": {
        "id": "O1oKT1mwecdR"
      },
      "outputs": [],
      "source": [
        "df_mapeado[['Proxy pago mensual']].head(3)"
      ]
    },
    {
      "cell_type": "code",
      "execution_count": null,
      "metadata": {
        "id": "gYghNfA2UkCN"
      },
      "outputs": [],
      "source": [
        "# Visualicemos la relación entre esta nueva variable y el riesgo\n",
        "sns.boxplot(x='Riesgo', y='Proxy pago mensual', data=df_mapeado)\n",
        "plt.title('Proxy de Cuota Mensual vs. Riesgo de Crédito')\n",
        "plt.xticks([0, 1], ['Buen Pagador', 'Mal Pagador'])\n",
        "plt.yscale('log')\n",
        "plt.show()\n",
        "\n",
        "# Interpretación: La mediana de la cuota mensual implícita es ligeramente más baja para los malos pagadores.\n",
        "# por lo que no parece que una mayor carga financiera mensual esté asociada con un mayor riesgo de incumplimiento.\n"
      ]
    },
    {
      "cell_type": "markdown",
      "metadata": {
        "id": "kx3L6hNh0sqT"
      },
      "source": [
        "### Transformaciones matemáticas"
      ]
    },
    {
      "cell_type": "code",
      "execution_count": null,
      "metadata": {
        "id": "XCm4LyCrzBRz"
      },
      "outputs": [],
      "source": [
        "df_mapeado['Log Monto del crédito'] = np.log(df_mapeado['Monto del crédito'])\n",
        "df_mapeado[['Monto del crédito', 'Log Monto del crédito']].head()"
      ]
    },
    {
      "cell_type": "markdown",
      "metadata": {
        "id": "4o_QZ9_Ws18h"
      },
      "source": [
        "### Asignación de valores según los valores de otra columna\n",
        "\n"
      ]
    },
    {
      "cell_type": "code",
      "execution_count": null,
      "metadata": {
        "id": "tJxpq7VTufhi"
      },
      "outputs": [],
      "source": [
        "df_mapeado['Trabajador extranjero'].value_counts(dropna=False)"
      ]
    },
    {
      "cell_type": "code",
      "execution_count": null,
      "metadata": {
        "id": "Nd-tyrmateSg"
      },
      "outputs": [],
      "source": [
        "df_mapeado['Trabajador extranjero 2'] = np.where(df_mapeado['Trabajador extranjero'] == 'Sí', 1, 0)\n",
        "df_mapeado[['Trabajador extranjero', 'Trabajador extranjero 2']].sample(5)"
      ]
    },
    {
      "cell_type": "markdown",
      "metadata": {
        "id": "RuJVsGKiIujQ"
      },
      "source": [
        "### Ejercicio\n",
        "\n",
        "Crea una nueva variable llamada \"Cantidad de créditos\" donde tenga la etiqueta \"Pocos créditos\" si la persona solo tiene 1 o 2 créditos y \"Muchos créditos\" si tiene 3 o más. Utiliza np.where y los valores de la columna 'Número de créditos existentes en este banco'."
      ]
    },
    {
      "cell_type": "code",
      "execution_count": null,
      "metadata": {
        "id": "yS1xbda1Jrrq"
      },
      "outputs": [],
      "source": []
    },
    {
      "cell_type": "markdown",
      "metadata": {
        "id": "z-dRaghvxH4f"
      },
      "source": [
        "### Crear variables utilizando funciones"
      ]
    },
    {
      "cell_type": "markdown",
      "metadata": {
        "id": "yuO1BL13xa5g"
      },
      "source": [
        "#### Utilizando una función que se aplica al valor de una columna"
      ]
    },
    {
      "cell_type": "code",
      "execution_count": null,
      "metadata": {
        "id": "4IrmNfwuxtCj"
      },
      "outputs": [],
      "source": [
        "df_mapeado['Empleo actual desde'].value_counts(dropna=False)"
      ]
    },
    {
      "cell_type": "code",
      "execution_count": null,
      "metadata": {
        "id": "g6HT2AmFxLx9"
      },
      "outputs": [],
      "source": [
        "def categoria_empleo(categoria):\n",
        "  if categoria == 'Menos de 1 año':\n",
        "    return 0\n",
        "  elif categoria == 'Entre 1 y 4 años':\n",
        "    return 1\n",
        "  elif categoria == 'Entre 4 y 7 años':\n",
        "    return 2\n",
        "  elif categoria == 'Más de 7 años':\n",
        "    return 3\n",
        "  else:\n",
        "    return -1\n",
        "\n",
        "df_mapeado['Empleo actual desde 2'] = df_mapeado['Empleo actual desde'].apply(categoria_empleo)\n",
        "df_mapeado[['Empleo actual desde', 'Empleo actual desde 2']].head()"
      ]
    },
    {
      "cell_type": "markdown",
      "metadata": {
        "id": "z7WxBTQPy_5W"
      },
      "source": [
        "#### Utilizando una función que se aplica al valor de varias columnas"
      ]
    },
    {
      "cell_type": "code",
      "execution_count": null,
      "metadata": {
        "id": "yDNgttO33HSN"
      },
      "outputs": [],
      "source": [
        "df_mapeado['Número de personas obligadas a prestar manutención a'].value_counts(dropna=False)"
      ]
    },
    {
      "cell_type": "code",
      "execution_count": null,
      "metadata": {
        "id": "S4ivVOWz3WlC"
      },
      "outputs": [],
      "source": [
        "df_mapeado['Alojamiento'].value_counts(dropna=False)"
      ]
    },
    {
      "cell_type": "code",
      "execution_count": null,
      "metadata": {
        "id": "NUoM2zIl3lcn"
      },
      "outputs": [],
      "source": [
        "def nivel_gastos(alojamiento, personas):\n",
        "  if alojamiento == 'Propia' and personas == 1:\n",
        "    return 'Gastos bajos'\n",
        "  elif alojamiento == 'Gratuita' and personas == 1:\n",
        "    return 'Gastos bajos'\n",
        "  elif alojamiento == 'Gratuita' and personas == 2:\n",
        "    return 'Gastos altos'\n",
        "  else:\n",
        "    return 'Gastos altos'\n",
        "\n",
        "df_mapeado['Nivel gastos'] = df_mapeado.apply(lambda x: nivel_gastos(x['Alojamiento'], x['Número de personas obligadas a prestar manutención a']), axis=1)\n",
        "df_mapeado[['Alojamiento', 'Número de personas obligadas a prestar manutención a', 'Nivel gastos']].head()"
      ]
    },
    {
      "cell_type": "markdown",
      "metadata": {
        "id": "fqludd5yKkSg"
      },
      "source": [
        "#### Ejercicio\n",
        "\n",
        "Utiliza funciones para crear una columna llamada \"Bienes inmuebles\" que tenga el valor de 1 si en la columna \"Propiedad\" dice \"Bienes inmuebles\" y cero si no.\n"
      ]
    },
    {
      "cell_type": "code",
      "execution_count": null,
      "metadata": {
        "id": "SdFgfv_MLIio"
      },
      "outputs": [],
      "source": []
    },
    {
      "cell_type": "markdown",
      "metadata": {
        "id": "0EPz69zJMjvz"
      },
      "source": [
        "### A partir de fechas"
      ]
    },
    {
      "cell_type": "code",
      "execution_count": null,
      "metadata": {
        "id": "dbFWD8P6Mjv0"
      },
      "outputs": [],
      "source": [
        "# df_mapeado['Año'] = df_mapeado['Fecha'].dt.year\n",
        "# df_mapeado['Mes'] = df_mapeado['Fecha'].dt.month\n",
        "# df_mapeado['Dia'] = df_mapeado['Fecha'].dt.dayofweek\n",
        "# df_mapeado['Hora de la transacción'].dt.hour\n",
        "# df_mapeado['Minuto de la transacción'].dt.minute"
      ]
    },
    {
      "cell_type": "markdown",
      "metadata": {
        "id": "LmvgPoPkUkCO"
      },
      "source": [
        "### Crear variables categóricas a partir de numéricas (Binning)\n",
        "\n",
        "La edad es una variable continua, pero su efecto sobre el riesgo puede no ser lineal. Por ejemplo, tanto los muy jóvenes (poca experiencia financiera) como los muy mayores (ingresos inciertos post-retiro) pueden ser más riesgosos. Podemos agrupar la edad en categorías."
      ]
    },
    {
      "cell_type": "code",
      "execution_count": null,
      "metadata": {
        "id": "R1NNy8rIhQtz"
      },
      "outputs": [],
      "source": [
        "# Usamos pd.cut para crear los \"bins\" o categorías de edad\n",
        "bins = [18, 30, 50, 100]\n",
        "labels = ['Joven', 'Adulto', 'Senior']\n",
        "df_mapeado['Grupo edad'] = pd.cut(df_mapeado['Edad'], bins=bins, labels=labels, right=False)\n",
        "\n",
        "df_mapeado[['Edad', 'Grupo edad']].head()"
      ]
    },
    {
      "cell_type": "code",
      "execution_count": null,
      "metadata": {
        "id": "a6VppphIUkCO"
      },
      "outputs": [],
      "source": [
        "# Visualizamos su impacto\n",
        "sns.barplot(x='Grupo edad', y='Riesgo', data=df_mapeado)\n",
        "plt.title('Tasa de Default por Grupo de Edad')\n",
        "plt.ylabel('Probabilidad de ser Mal Pagador')\n",
        "plt.show()\n",
        "\n",
        "# Interpretación: Los solicitantes más jóvenes tienen una tasa de incumplimiento más alta.\n",
        "# Esta nueva variable captura este efecto del ciclo de vida de una forma muy clara."
      ]
    },
    {
      "cell_type": "markdown",
      "metadata": {
        "id": "BlgH7QkwUkCP"
      },
      "source": [
        "### Ejercicio\n",
        "\n",
        "Usando el `df_mapeado`, crea una nueva variable categórica llamada `'Grupo monto crédito'` que clasifique el monto del crédito (`Monto del crédito`) en:\n",
        "- 'Bajo' (monto < 2000)\n",
        "- 'Medio' (2000 <= monto < 5000)\n",
        "- 'Alto' (monto >= 5000)\n",
        "\n",
        "Luego, crea un gráfico de barras para visualizar la relación entre `'Grupo monto crédito'` y `'Riesgo'`. ¿Qué grupo parece ser más riesgoso?"
      ]
    },
    {
      "cell_type": "code",
      "execution_count": null,
      "metadata": {
        "id": "DtU6f70-i4_m"
      },
      "outputs": [],
      "source": []
    },
    {
      "cell_type": "markdown",
      "metadata": {
        "id": "RbPpiDYoUkCP"
      },
      "source": [
        "## Codificación de Variables Categóricas\n",
        "\n",
        "Los modelos de machine learning son funciones matemáticas; no entienden texto como \"carro nuevo\" o \"educación\". Debemos convertir estas categorías en números de forma inteligente."
      ]
    },
    {
      "cell_type": "markdown",
      "metadata": {
        "id": "NnRd7e40LyPJ"
      },
      "source": [
        "### Ejercicio\n",
        "\n",
        "Recategoriza la columna \"Teléfono\" colocando 1 si no tiene teléfono y 0 si lo tiene."
      ]
    },
    {
      "cell_type": "code",
      "execution_count": null,
      "metadata": {
        "id": "ugwtzsb3MBxZ"
      },
      "outputs": [],
      "source": []
    },
    {
      "cell_type": "markdown",
      "metadata": {
        "id": "WrKu2DELUkCQ"
      },
      "source": [
        "### One-Hot Encoding: Para variables nominales\n",
        "\n",
        "Se usa cuando las categorías no tienen un orden inherente. Por ejemplo, el Propósito del crédito. Crear una columna binaria (0/1) para cada propósito evita que el modelo asuma un orden falso (ej. que 'educación' es \"mayor\" que 'automóvil').\n",
        "\n",
        "**Notas:**\n",
        "- En los modelos de regresión hay que borrar una de las dummies, para árboles de decisión no es necesario.\n",
        "- Lo más conveniente es quitar aquella dummy que tenga más observaciones.\n",
        "- Los NA deben ser otra variable dummy."
      ]
    },
    {
      "cell_type": "code",
      "execution_count": null,
      "metadata": {
        "id": "L3vhKxY-kS-6"
      },
      "outputs": [],
      "source": [
        "df_mapeado['Propósito'].value_counts(dropna=False)"
      ]
    },
    {
      "cell_type": "code",
      "execution_count": null,
      "metadata": {
        "id": "YrUjoZsnUkCQ"
      },
      "outputs": [],
      "source": [
        "# Aplicamos One-Hot Encoding a la variable 'Propósito'\n",
        "dummies = pd.get_dummies(df_mapeado['Propósito'], prefix='Propósito', drop_first=True, dtype=int, dummy_na=True) # drop_first para evitar multicolinealidad perfecta\n",
        "\n",
        "# Unimos los dummies al DataFrame original y eliminamos la columna original\n",
        "df_mapeado = pd.concat([df_mapeado, dummies], axis=1)\n",
        "df_mapeado.drop('Propósito', axis=1, inplace=True)\n",
        "\n",
        "print(\"DataFrame con One-Hot Encoding para 'Propósito':\")\n",
        "df_mapeado.head()"
      ]
    },
    {
      "cell_type": "markdown",
      "metadata": {
        "id": "cLBUGzn3MG5U"
      },
      "source": [
        "### Ejercicio\n",
        "\n",
        "Aplica One-Hot Encoding a la variable \"Estado personal y sexo\"."
      ]
    },
    {
      "cell_type": "code",
      "execution_count": null,
      "metadata": {
        "id": "m_eKYs9iMfJd"
      },
      "outputs": [],
      "source": []
    },
    {
      "cell_type": "markdown",
      "metadata": {
        "id": "WXbaopCuUkCQ"
      },
      "source": [
        "### Label Encoding (Mapeo Manual): Para variables ordinales\n",
        "\n",
        "Se usa cuando las categorías SÍ tienen un orden claro. Por ejemplo, `Cuenta de ahorros/bonos`. La documentación nos dice que A61 = < 100 DM, A62 = 100 <= ... < 500 DM, etc. Hay un orden claro.\n",
        "\n",
        "**¡Cuidado!** Usar el `LabelEncoder` de scikit-learn puede asignar números alfabéticamente (A61=0, A62=1, ...), lo que podría ser correcto por casualidad. Es más seguro y explícito hacer un mapeo manual para garantizar que el orden económico se preserve."
      ]
    },
    {
      "cell_type": "code",
      "execution_count": null,
      "metadata": {
        "id": "Yv3IiykRnZrm"
      },
      "outputs": [],
      "source": [
        "df_mapeado['Cuenta de ahorros/bonos'].value_counts(dropna=False)"
      ]
    },
    {
      "cell_type": "code",
      "execution_count": null,
      "metadata": {
        "id": "BSR-9rPVov2s"
      },
      "outputs": [],
      "source": [
        "# Mapeo explícito para asegurar el orden correcto\n",
        "savings_map = {'Menos de 100 DM': 0, 'Entre 100 y 500 DM': 1,\n",
        "               'Entre 500 y 1000 DM': 2, 'Más de 1000 DM': 3,\n",
        "               'Desconocido / Sin cuenta': -1} # Asignamos -1 a desconocido\n",
        "\n",
        "df_mapeado['Cuenta de ahorros codificada'] = df_mapeado['Cuenta de ahorros/bonos'].map(savings_map)\n",
        "\n",
        "print(\"DataFrame con Label Encoding para Cuentas de Ahorro:\")\n",
        "df_mapeado[['Cuenta de ahorros/bonos', 'Cuenta de ahorros codificada']].head()"
      ]
    },
    {
      "cell_type": "code",
      "execution_count": null,
      "metadata": {
        "id": "jVri5ZaVCpuS"
      },
      "outputs": [],
      "source": [
        "# Ejemplo de cómo se haría con LabelEncoder\n",
        "from sklearn.preprocessing import LabelEncoder\n",
        "\n",
        "# Inicializar el LabelEncoder\n",
        "# Creamos una instancia del codificador.\n",
        "le = LabelEncoder()\n",
        "\n",
        "df_mapeado['Cuenta de ahorros codificada le'] = le.fit_transform(df_mapeado['Cuenta de ahorros/bonos'])\n",
        "df_mapeado[['Cuenta de ahorros/bonos', 'Cuenta de ahorros codificada', 'Cuenta de ahorros codificada le']].head()"
      ]
    },
    {
      "cell_type": "markdown",
      "metadata": {
        "id": "v4xFxssCDy0G"
      },
      "source": [
        "¿Cuándo usar LabelEncoder y cuándo tener cuidado? ⚠️\n",
        "\n",
        "- **Ideal para la variable objetivo (y):** Es la herramienta perfecta para codificar la variable que quieres predecir en un problema de clasificación. Por ejemplo, si quieres predecir ['Perro', 'Gato', 'Pájaro'], LabelEncoder los convertirá a [2, 0, 1], lo cual es perfecto.\n",
        "\n",
        "- **Cuidado al usarlo en variables predictoras (X):** Debes tener precaución al usar LabelEncoder en tus variables de entrada. El problema es que crea una relación ordinal artificial, basada en un orden alfabético."
      ]
    },
    {
      "cell_type": "markdown",
      "metadata": {
        "id": "Lxnu6svCUkCQ"
      },
      "source": [
        "## Tratamiento de Outliers (Valores Atípicos)\n",
        "\n",
        "Los outliers son observaciones extremas que pueden distorsionar nuestros modelos, especialmente los lineales. Imagina analizar el 'Monto del crédito'; un crédito inusualmente grande puede sesgar las relaciones que el modelo aprende."
      ]
    },
    {
      "cell_type": "code",
      "execution_count": null,
      "metadata": {
        "id": "d6-feyrYpU0z"
      },
      "outputs": [],
      "source": [
        "# Detectemos outliers en la variable 'Monto del crédito'\n",
        "sns.boxplot(x=df_mapeado['Monto del crédito'])\n",
        "plt.title('Detección de Outliers en el Monto del Crédito')\n",
        "plt.show()"
      ]
    },
    {
      "cell_type": "code",
      "execution_count": null,
      "metadata": {
        "id": "fosZIR0yUkCR"
      },
      "outputs": [],
      "source": [
        "# Cálculo de los límites con el Rango Intercuartílico (IQR)\n",
        "Q1 = df_mapeado['Monto del crédito'].quantile(0.25)\n",
        "Q3 = df_mapeado['Monto del crédito'].quantile(0.75)\n",
        "IQR = Q3 - Q1\n",
        "limite_superior = Q3 + 1.5 * IQR\n",
        "\n",
        "print(f\"Límite superior para Monto del crédito: {limite_superior:.2f}\")\n",
        "\n",
        "outliers = df_mapeado[df_mapeado['Monto del crédito'] > limite_superior]\n",
        "print(f\"\\nNúmero de outliers detectados: {len(outliers)}\")"
      ]
    },
    {
      "cell_type": "markdown",
      "metadata": {
        "id": "fRiKgmxXUkCR"
      },
      "source": [
        "### Tratamiento de Outliers: Capping (Acotamiento)\n",
        "\n",
        "Una estrategia común es el \"capping\", que consiste en reemplazar los valores atípicos con el valor del límite superior. Así no perdemos la observación completa, solo reducimos su influencia extrema."
      ]
    },
    {
      "cell_type": "code",
      "execution_count": null,
      "metadata": {
        "id": "2mMmqlZRpzNG"
      },
      "outputs": [],
      "source": [
        "# Hacemos una copia para el ejemplo\n",
        "df_capped = df_mapeado.copy()\n",
        "\n",
        "# Aplicamos el capping\n",
        "df_capped['Monto del crédito'] = np.where(df_capped['Monto del crédito'] > limite_superior,\n",
        "                                      limite_superior,\n",
        "                                      df_capped['Monto del crédito'])"
      ]
    },
    {
      "cell_type": "code",
      "execution_count": null,
      "metadata": {
        "id": "Z-c0II4RUkCR"
      },
      "outputs": [],
      "source": [
        "# Comprobamos visualmente\n",
        "sns.boxplot(x=df_capped['Monto del crédito'])\n",
        "plt.title('Monto del Crédito después del Capping')\n",
        "plt.show()"
      ]
    },
    {
      "cell_type": "markdown",
      "metadata": {
        "id": "oegy0CXB8Vt2"
      },
      "source": [
        "### Tratamiento de Outliers: logaritmo natural"
      ]
    },
    {
      "cell_type": "code",
      "execution_count": null,
      "metadata": {
        "id": "g8MAx52b9sst"
      },
      "outputs": [],
      "source": [
        "# Previamente ya habíamos calculado el logaritmo natural del monto del crédito\n",
        "#df_mapeado['Log Monto del crédito'] = np.log(df_mapeado['Monto del crédito'])\n",
        "df_mapeado[['Monto del crédito', 'Log Monto del crédito']].head()"
      ]
    },
    {
      "cell_type": "code",
      "execution_count": null,
      "metadata": {
        "id": "a52KSuYX97Yo"
      },
      "outputs": [],
      "source": [
        "sns.boxplot(x=df_mapeado['Log Monto del crédito'])\n",
        "plt.title('Logaritmo natural Monto del crédito')\n",
        "plt.show()"
      ]
    },
    {
      "cell_type": "markdown",
      "metadata": {
        "id": "2Wtzdqt7UkCR"
      },
      "source": [
        "## Escalado y Normalización de Variables\n",
        "\n",
        "Muchos algoritmos son sensibles a la escala. Si la edad va de 18 a 75 y el monto del crédito de 2.500 a 180.000, el modelo podría darle más importancia al monto solo por su magnitud numérica. Por eso, debemos poner las variables en una escala comparable. Es como comparar el PIB per cápita (en miles de USD) con la tasa de desempleo (en %), sus escalas son muy diferentes.\n",
        "\n",
        "El escalado y la normalización son técnicas de preprocesamiento de datos que ajustan la escala de las variables numéricas para que todas estén en un rango específico.\n",
        "\n",
        "- Se aplica cuando hay más de una variable predictora, para evitar efectos de escala entre variables que pueden tener rangos de valores muy distintos.\n",
        "- No siempre es necesario, pero no perjudica aplicarlo.\n",
        "- Sí es necesario para todos los algoritmos basados en distancia, como KNN y K_means, y sensibles a la escala como redes neuronales y máquinas de soporte vectorial."
      ]
    },
    {
      "cell_type": "markdown",
      "metadata": {
        "id": "0KsfBwVeUkCR"
      },
      "source": [
        "### Estandarización (StandardScaler)\n",
        "\n",
        "Transforma los datos para que tengan una media de 0 y una desviación estándar de 1.\n",
        "\n",
        "Es la técnica más común y robusta.\n",
        "\n",
        "Permite ver cuántas desviaciones estándar se aleja cada individuo de la media en cada indicador."
      ]
    },
    {
      "cell_type": "code",
      "execution_count": null,
      "metadata": {
        "id": "hyMIMS2aUkCR"
      },
      "outputs": [],
      "source": [
        "from sklearn.preprocessing import StandardScaler\n",
        "\n",
        "scaler = StandardScaler()\n",
        "\n",
        "# Seleccionamos las columnas numéricas que queremos escalar\n",
        "cols_to_scale = ['Duración en meses', 'Monto del crédito', 'Edad', 'Proxy pago mensual']\n",
        "\n",
        "# Creamos los nombres para las nuevas columnas escaladas\n",
        "scaled_cols = [col + '_scaled' for col in cols_to_scale]\n",
        "\n",
        "# Ajustamos y transformamos\n",
        "df_capped[scaled_cols] = scaler.fit_transform(df_capped[cols_to_scale])\n",
        "\n",
        "print(\"Media y Desv. Est. de las variables escaladas:\")\n",
        "print(df_capped[scaled_cols].describe().loc[['mean', 'std']])\n",
        "\n",
        "df_capped[cols_to_scale + scaled_cols].head()"
      ]
    },
    {
      "cell_type": "markdown",
      "metadata": {
        "id": "jlguWUD49YZT"
      },
      "source": [
        "### Normalización (MinMaxScaler)\n",
        "\n",
        "Ajusta la escala de las variables numéricas para que todas estén en un rango entre 0 y 1.\n",
        "\n",
        "En otras palabras, toma cada columna numérica, encuentra el valor mínimo y máximo, y reescala todos los valores de esa columna de la siguiente manera:\n",
        "\n",
        "- El valor mínimo original se convierte en 0.\n",
        "- El valor máximo original se convierte en 1.\n",
        "- Todos los demás valores se transforman a un decimal proporcional dentro de ese rango."
      ]
    },
    {
      "cell_type": "code",
      "execution_count": null,
      "metadata": {
        "id": "wYUJ85Ji9Utt"
      },
      "outputs": [],
      "source": [
        "from sklearn.preprocessing import MinMaxScaler\n",
        "\n",
        "min_max_scaler = MinMaxScaler()\n",
        "\n",
        "# Seleccionamos las columnas numéricas que queremos escalar\n",
        "cols_to_norm = ['Duración en meses', 'Monto del crédito', 'Edad', 'Proxy pago mensual']\n",
        "\n",
        "# Creamos los nombres para las nuevas columnas escaladas\n",
        "norm_cols = [col + '_norm' for col in cols_to_norm]\n",
        "\n",
        "# Ajustamos y transformamos\n",
        "df_capped[norm_cols] = min_max_scaler.fit_transform(df_capped[cols_to_norm])\n",
        "\n",
        "print(\"Mínimo y máximo de las variables normalizadas:\")\n",
        "print(df_capped[norm_cols].describe().loc[['min', 'max']])\n",
        "\n",
        "df_capped[cols_to_norm + norm_cols].head()\n",
        "#df_escalado = pd.DataFrame(data=df_escalado, columns=df.columns)"
      ]
    },
    {
      "cell_type": "code",
      "execution_count": null,
      "metadata": {
        "id": "zeL1hbAMN3IK"
      },
      "outputs": [],
      "source": [
        "df_capped.info()"
      ]
    }
  ],
  "metadata": {
    "colab": {
      "provenance": [],
      "toc_visible": true
    },
    "kernelspec": {
      "display_name": "Python 3",
      "language": "python",
      "name": "python3"
    },
    "language_info": {
      "codemirror_mode": {
        "name": "ipython",
        "version": 3
      },
      "file_extension": ".py",
      "mimetype": "text/x-python",
      "name": "python",
      "nbconvert_exporter": "python",
      "pygments_lexer": "ipython3",
      "version": "3.8.8"
    }
  },
  "nbformat": 4,
  "nbformat_minor": 0
}