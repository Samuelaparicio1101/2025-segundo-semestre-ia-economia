{
  "cells": [
    {
      "cell_type": "markdown",
      "metadata": {
        "id": "jUwmbtkhQh8y"
      },
      "source": [
        "<a href=\"https://colab.research.google.com/github/LinaMariaCastro/curso-ia-para-economia/blob/main/clases/3_Analisis_y_visualizacion_datos/4_Manipulacion_y_Transformacion_de_Datos.ipynb\" target=\"_parent\"><img src=\"https://colab.research.google.com/assets/colab-badge.svg\" alt=\"Open In Colab\"/></a>"
      ]
    },
    {
      "cell_type": "code",
      "execution_count": 1,
      "metadata": {
        "collapsed": true,
        "id": "BcBnfNh6Usk-",
        "outputId": "44347ecb-ae1c-4cb5-aaeb-66825c5d7beb",
        "colab": {
          "base_uri": "https://localhost:8080/"
        }
      },
      "outputs": [
        {
          "output_type": "stream",
          "name": "stdout",
          "text": [
            "Requirement already satisfied: wbdata in /usr/local/lib/python3.12/dist-packages (1.0.0)\n",
            "Requirement already satisfied: appdirs<2.0,>=1.4 in /usr/local/lib/python3.12/dist-packages (from wbdata) (1.4.4)\n",
            "Requirement already satisfied: backoff<3.0.0,>=2.2.1 in /usr/local/lib/python3.12/dist-packages (from wbdata) (2.2.1)\n",
            "Requirement already satisfied: cachetools<6.0.0,>=5.3.2 in /usr/local/lib/python3.12/dist-packages (from wbdata) (5.5.2)\n",
            "Requirement already satisfied: dateparser<2.0.0,>=1.2.0 in /usr/local/lib/python3.12/dist-packages (from wbdata) (1.2.2)\n",
            "Requirement already satisfied: decorator<6.0.0,>=5.1.1 in /usr/local/lib/python3.12/dist-packages (from wbdata) (5.2.1)\n",
            "Requirement already satisfied: requests<3.0,>=2.0 in /usr/local/lib/python3.12/dist-packages (from wbdata) (2.32.4)\n",
            "Requirement already satisfied: shelved-cache<0.4.0,>=0.3.1 in /usr/local/lib/python3.12/dist-packages (from wbdata) (0.3.1)\n",
            "Requirement already satisfied: tabulate<0.9.0,>=0.8.5 in /usr/local/lib/python3.12/dist-packages (from wbdata) (0.8.10)\n",
            "Requirement already satisfied: python-dateutil>=2.7.0 in /usr/local/lib/python3.12/dist-packages (from dateparser<2.0.0,>=1.2.0->wbdata) (2.9.0.post0)\n",
            "Requirement already satisfied: pytz>=2024.2 in /usr/local/lib/python3.12/dist-packages (from dateparser<2.0.0,>=1.2.0->wbdata) (2025.2)\n",
            "Requirement already satisfied: regex>=2024.9.11 in /usr/local/lib/python3.12/dist-packages (from dateparser<2.0.0,>=1.2.0->wbdata) (2024.11.6)\n",
            "Requirement already satisfied: tzlocal>=0.2 in /usr/local/lib/python3.12/dist-packages (from dateparser<2.0.0,>=1.2.0->wbdata) (5.3.1)\n",
            "Requirement already satisfied: charset_normalizer<4,>=2 in /usr/local/lib/python3.12/dist-packages (from requests<3.0,>=2.0->wbdata) (3.4.3)\n",
            "Requirement already satisfied: idna<4,>=2.5 in /usr/local/lib/python3.12/dist-packages (from requests<3.0,>=2.0->wbdata) (3.10)\n",
            "Requirement already satisfied: urllib3<3,>=1.21.1 in /usr/local/lib/python3.12/dist-packages (from requests<3.0,>=2.0->wbdata) (2.5.0)\n",
            "Requirement already satisfied: certifi>=2017.4.17 in /usr/local/lib/python3.12/dist-packages (from requests<3.0,>=2.0->wbdata) (2025.8.3)\n",
            "Requirement already satisfied: six>=1.5 in /usr/local/lib/python3.12/dist-packages (from python-dateutil>=2.7.0->dateparser<2.0.0,>=1.2.0->wbdata) (1.17.0)\n"
          ]
        }
      ],
      "source": [
        "!pip install wbdata"
      ]
    },
    {
      "cell_type": "markdown",
      "metadata": {
        "id": "5iiwfbXCQv5D"
      },
      "source": [
        "# **Inteligencia Artificial con Aplicaciones en Economía I**\n",
        "\n",
        "- 👩‍🏫 **Profesora:** [Lina María Castro](https://www.linkedin.com/in/lina-maria-castro)  \n",
        "- 📧 **Email:** [lmcastroco@gmail.com](mailto:lmcastroco@gmail.com)  \n",
        "- 🎓 **Universidad:** Universidad Externado de Colombia - Facultad de Economía"
      ]
    },
    {
      "cell_type": "markdown",
      "metadata": {
        "id": "YQ0JPz6cOolu"
      },
      "source": [
        "# 🪄**Manipulación y transformación de datos**"
      ]
    },
    {
      "cell_type": "markdown",
      "metadata": {
        "id": "7DndmmzRXeYb"
      },
      "source": [
        "👉 Ahora que los datos están limpios, toca organizarlos para analizarlos.\n",
        "\n",
        "✅ Resultado: un dataset estructurado para responder preguntas económicas."
      ]
    },
    {
      "cell_type": "markdown",
      "metadata": {
        "id": "aOPEcCUbRevP"
      },
      "source": [
        "**Objetivos de Aprendizaje:**\n",
        "\n",
        "Al finalizar este notebook, serás capaz de:\n",
        "\n",
        "1. **Organizar y filtrar datos** para aislar la información más relevante para una pregunta de investigación económica.\n",
        "\n",
        "2. **Agregar y resumir datos** para calcular estadísticas descriptivas a nivel de grupo (e.g., por región, por nivel de ingreso).\n",
        "\n",
        "3. **Remodelar y transformar tablas de datos** para pasar de formatos anchos a largos y viceversa, una habilidad crucial para preparar datos para modelos econométricos y visualizaciones."
      ]
    },
    {
      "cell_type": "markdown",
      "metadata": {
        "id": "C85ifPvtSeVs"
      },
      "source": [
        "**Introducción**\n",
        "\n",
        "Imagina que eres un economista recién contratado en el Banco Mundial. Tu primer encargo es analizar la relación entre el Gasto Público en Educación (% del PIB) y el Crecimiento del PIB per cápita para diferentes regiones del mundo durante la última década.\n",
        "\n",
        "Recibes un enorme archivo csv con miles de filas y columnas, mezclando países, años e indicadores de todo tipo. No puedes simplemente introducir eso en un modelo. Primero, necesitas esculpir y analizar tus datos. Necesitas:\n",
        "\n",
        "- Ordenar los países para ver los que más y menos invierten.\n",
        "\n",
        "- Filtrar para quedarte solo con los años y los indicadores relevantes.\n",
        "\n",
        "- Agrupar por región para calcular el gasto promedio y ver si África Subsahariana invierte, en promedio, más o menos que América Latina.\n",
        "\n",
        "- Pivotar la tabla para que cada fila sea un país y cada columna un año, permitiéndote ver la evolución de un vistazo.\n",
        "\n",
        "Estas no son solo \"funciones de pandas\"; son las herramientas diarias de un economista."
      ]
    },
    {
      "cell_type": "markdown",
      "metadata": {
        "id": "CvffQiPyDLJG"
      },
      "source": [
        "## Importar librerías"
      ]
    },
    {
      "cell_type": "code",
      "execution_count": 2,
      "metadata": {
        "id": "YFPOnxMFDBFP"
      },
      "outputs": [],
      "source": [
        "import numpy as np\n",
        "import pandas as pd\n",
        "import warnings\n",
        "warnings.filterwarnings('ignore')"
      ]
    },
    {
      "cell_type": "markdown",
      "metadata": {
        "id": "jHE2ZLJuEPIe"
      },
      "source": [
        "## Mejorar visualización de los dataframes"
      ]
    },
    {
      "cell_type": "code",
      "execution_count": 3,
      "metadata": {
        "id": "72TA8V1fETCm"
      },
      "outputs": [],
      "source": [
        "# Que muestre todas las columnas\n",
        "pd.options.display.max_columns = None\n",
        "# En los dataframes, mostrar los float con dos decimales\n",
        "pd.options.display.float_format = '{:,.2f}'.format"
      ]
    },
    {
      "cell_type": "markdown",
      "metadata": {
        "id": "SMx0i2r4j1mN"
      },
      "source": [
        "## Cargar el dataset"
      ]
    },
    {
      "cell_type": "markdown",
      "metadata": {
        "id": "PZQWax9c4Xot"
      },
      "source": [
        "Como ejemplo, usaremos un **dataset real del Banco Mundial** que contiene indicadores de desarrollo. Esto nos permitirá realizar un análisis que un economista haría en su día a día."
      ]
    },
    {
      "cell_type": "markdown",
      "metadata": {
        "id": "CpdodkgKRwEi"
      },
      "source": [
        "Utilizaremos la API del Banco Mundial para obtener los datos."
      ]
    },
    {
      "cell_type": "code",
      "execution_count": 4,
      "metadata": {
        "id": "wP2qVnBJU1Ss"
      },
      "outputs": [],
      "source": [
        "import wbdata"
      ]
    },
    {
      "cell_type": "code",
      "execution_count": 5,
      "metadata": {
        "colab": {
          "base_uri": "https://localhost:8080/"
        },
        "id": "3cImmq_tU6gW",
        "outputId": "8e239fca-33da-4b93-ffde-f3c10b9317c0"
      },
      "outputs": [
        {
          "output_type": "execute_result",
          "data": {
            "text/plain": [
              "  id  name\n",
              "----  --------------------------------------------------------------------\n",
              "   1  Doing Business\n",
              "   2  World Development Indicators\n",
              "   3  Worldwide Governance Indicators\n",
              "   5  Subnational Malnutrition Database\n",
              "   6  International Debt Statistics\n",
              "  11  Africa Development Indicators\n",
              "  12  Education Statistics\n",
              "  13  Enterprise Surveys\n",
              "  14  Gender Statistics\n",
              "  15  Global Economic Monitor\n",
              "  16  Health Nutrition and Population Statistics\n",
              "  18  IDA Results Measurement System\n",
              "  19  Millennium Development Goals\n",
              "  20  Quarterly Public Sector Debt\n",
              "  22  Quarterly External Debt Statistics SDDS\n",
              "  23  Quarterly External Debt Statistics GDDS\n",
              "  25  Jobs\n",
              "  27  Global Economic Prospects\n",
              "  28  Global Findex database\n",
              "  29  The Atlas of Social Protection: Indicators of Resilience and Equity\n",
              "  30  Exporter Dynamics Database – Indicators at Country-Year Level\n",
              "  31  Country Policy and Institutional Assessment\n",
              "  32  Global Financial Development\n",
              "  33  G20 Financial Inclusion Indicators\n",
              "  34  Global Partnership for Education\n",
              "  35  Sustainable Energy for All\n",
              "  37  LAC Equity Lab\n",
              "  38  Subnational Poverty\n",
              "  39  Health Nutrition and Population Statistics by Wealth Quintile\n",
              "  40  Population estimates and projections\n",
              "  41  Country Partnership Strategy for India (FY2013 - 17)\n",
              "  43  Adjusted Net Savings\n",
              "  45  Indonesia Database for Policy and Economic Research\n",
              "  46  Sustainable Development Goals\n",
              "  50  Subnational Population\n",
              "  54  Joint External Debt Hub\n",
              "  57  WDI Database Archives\n",
              "  58  Universal Health Coverage\n",
              "  59  Wealth Accounts\n",
              "  60  Economic Fitness\n",
              "  61  PPPs Regulatory Quality\n",
              "  62  International Comparison Program (ICP) 2011\n",
              "  63  Human Capital Index\n",
              "  64  Worldwide Bureaucracy Indicators\n",
              "  65  Health Equity and Financial Protection Indicators\n",
              "  66  Logistics Performance Index\n",
              "  67  PEFA 2011\n",
              "  68  PEFA 2016\n",
              "  69  Global Financial Inclusion and Consumer Protection Survey\n",
              "  70  Economic Fitness 2\n",
              "  71  International Comparison Program (ICP) 2005\n",
              "  73  Global Financial Inclusion and Consumer Protection Survey (Internal)\n",
              "  75  Environment, Social and Governance (ESG) Data\n",
              "  76  Remittance Prices Worldwide (Sending Countries)\n",
              "  77  Remittance Prices Worldwide (Receiving Countries)\n",
              "  78  ICP 2017\n",
              "  79  PEFA_GRPFM\n",
              "  80  Gender Disaggregated Labor Database (GDLD)\n",
              "  81  International Debt Statistics: DSSI\n",
              "  82  Global Public Procurement\n",
              "  83  Statistical Performance Indicators (SPI)\n",
              "  84  Education Policy\n",
              "  85  PEFA_2021_SNG\n",
              "  86  Global Jobs Indicators Database (JOIN)\n",
              "  87  Country Climate and Development Report (CCDR)\n",
              "  88  Food Prices for Nutrition\n",
              "  89  Identification for Development (ID4D) Data\n",
              "  90  ICP 2021\n",
              "  91  PEFA_CRPFM\n",
              "  92  Disability Data Hub (DDH)"
            ]
          },
          "metadata": {},
          "execution_count": 5
        }
      ],
      "source": [
        "# Listar bases de datos disponibles en el Banco Mundial\n",
        "# Nos interesa World Development Indicators\n",
        "wbdata.get_sources()"
      ]
    },
    {
      "cell_type": "code",
      "execution_count": 6,
      "metadata": {
        "colab": {
          "base_uri": "https://localhost:8080/"
        },
        "id": "tMhc4oGGU_ms",
        "outputId": "4437fb6f-b525-42be-a7f7-f665534874a4"
      },
      "outputs": [
        {
          "output_type": "execute_result",
          "data": {
            "text/plain": [
              "id                          name\n",
              "--------------------------  ---------------------------------------------------------------------------------------------------------------------------------------------\n",
              "AG.CON.FERT.PT.ZS           Fertilizer consumption (% of fertilizer production)\n",
              "AG.CON.FERT.ZS              Fertilizer consumption (kilograms per hectare of arable land)\n",
              "AG.LND.AGRI.K2              Agricultural land (sq. km)\n",
              "AG.LND.AGRI.ZS              Agricultural land (% of land area)\n",
              "AG.LND.ARBL.HA              Arable land (hectares)\n",
              "AG.LND.ARBL.HA.PC           Arable land (hectares per person)\n",
              "AG.LND.ARBL.ZS              Arable land (% of land area)\n",
              "AG.LND.CREL.HA              Land under cereal production (hectares)\n",
              "AG.LND.CROP.ZS              Permanent cropland (% of land area)\n",
              "AG.LND.EL5M.RU.K2           Rural land area where elevation is below 5 meters (sq. km)\n",
              "AG.LND.EL5M.RU.ZS           Rural land area where elevation is below 5 meters (% of total land area)\n",
              "AG.LND.EL5M.UR.K2           Urban land area where elevation is below 5 meters (sq. km)\n",
              "AG.LND.EL5M.UR.ZS           Urban land area where elevation is below 5 meters (% of total land area)\n",
              "AG.LND.EL5M.ZS              Land area where elevation is below 5 meters (% of total land area)\n",
              "AG.LND.FRST.K2              Forest area (sq. km)\n",
              "AG.LND.FRST.ZS              Forest area (% of land area)\n",
              "AG.LND.IRIG.AG.ZS           Agricultural irrigated land (% of total agricultural land)\n",
              "AG.LND.PRCP.MM              Average precipitation in depth (mm per year)\n",
              "AG.LND.TOTL.K2              Land area (sq. km)\n",
              "AG.LND.TOTL.RU.K2           Rural land area (sq. km)\n",
              "AG.LND.TOTL.UR.K2           Urban land area (sq. km)\n",
              "AG.PRD.CREL.MT              Cereal production (metric tons)\n",
              "AG.PRD.CROP.XD              Crop production index (2014-2016 = 100)\n",
              "AG.PRD.FOOD.XD              Food production index (2014-2016 = 100)\n",
              "AG.PRD.LVSK.XD              Livestock production index (2014-2016 = 100)\n",
              "AG.SRF.TOTL.K2              Surface area (sq. km)\n",
              "AG.YLD.CREL.KG              Cereal yield (kg per hectare)\n",
              "BG.GSR.NFSV.GD.ZS           Trade in services (% of GDP)\n",
              "BM.GSR.CMCP.ZS              Communications, computer, etc. (% of service imports, BoP)\n",
              "BM.GSR.FCTY.CD              Primary income payments (BoP, current US$)\n",
              "BM.GSR.GNFS.CD              Imports of goods and services (BoP, current US$)\n",
              "BM.GSR.INSF.ZS              Insurance and financial services (% of service imports, BoP)\n",
              "BM.GSR.MRCH.CD              Goods imports (BoP, current US$)\n",
              "BM.GSR.NFSV.CD              Service imports (BoP, current US$)\n",
              "BM.GSR.ROYL.CD              Charges for the use of intellectual property, payments (BoP, current US$)\n",
              "BM.GSR.TOTL.CD              Imports of goods, services and primary income (BoP, current US$)\n",
              "BM.GSR.TRAN.ZS              Transport services (% of service imports, BoP)\n",
              "BM.GSR.TRVL.ZS              Travel services (% of service imports, BoP)\n",
              "BM.KLT.DINV.CD.WD           Foreign direct investment, net outflows (BoP, current US$)\n",
              "BM.KLT.DINV.WD.GD.ZS        Foreign direct investment, net outflows (% of GDP)\n",
              "BM.TRF.PRVT.CD              Secondary income, other sectors, payments (BoP, current US$)\n",
              "BM.TRF.PWKR.CD.DT           Personal remittances, paid (current US$)\n",
              "BN.CAB.XOKA.CD              Current account balance (BoP, current US$)\n",
              "BN.CAB.XOKA.GD.ZS           Current account balance (% of GDP)\n",
              "BN.FIN.TOTL.CD              Net financial account (BoP, current US$)\n",
              "BN.GSR.FCTY.CD              Net primary income (BoP, current US$)\n",
              "BN.GSR.GNFS.CD              Net trade in goods and services (BoP, current US$)\n",
              "BN.GSR.MRCH.CD              Net trade in goods (BoP, current US$)\n",
              "BN.KAC.EOMS.CD              Net errors and omissions (BoP, current US$)\n",
              "BN.KLT.DINV.CD              Foreign direct investment, net (BoP, current US$)\n",
              "BN.KLT.PTXL.CD              Portfolio Investment, net (BoP, current US$)\n",
              "BN.RES.INCL.CD              Reserves and related items (BoP, current US$)\n",
              "BN.TRF.CURR.CD              Net secondary income (BoP, current US$)\n",
              "BN.TRF.KOGT.CD              Net capital account (BoP, current US$)\n",
              "BX.GRT.EXTA.CD.WD           Grants, excluding technical cooperation (BoP, current US$)\n",
              "BX.GRT.TECH.CD.WD           Technical cooperation grants (BoP, current US$)\n",
              "BX.GSR.CCIS.CD              ICT service exports (BoP, current US$)\n",
              "BX.GSR.CCIS.ZS              ICT service exports (% of service exports, BoP)\n",
              "BX.GSR.CMCP.ZS              Communications, computer, etc. (% of service exports, BoP)\n",
              "BX.GSR.FCTY.CD              Primary income receipts (BoP, current US$)\n",
              "BX.GSR.GNFS.CD              Exports of goods and services (BoP, current US$)\n",
              "BX.GSR.INSF.ZS              Insurance and financial services (% of service exports, BoP)\n",
              "BX.GSR.MRCH.CD              Goods exports (BoP, current US$)\n",
              "BX.GSR.NFSV.CD              Service exports (BoP, current US$)\n",
              "BX.GSR.ROYL.CD              Charges for the use of intellectual property, receipts (BoP, current US$)\n",
              "BX.GSR.TOTL.CD              Exports of goods, services and primary income (BoP, current US$)\n",
              "BX.GSR.TRAN.ZS              Transport services (% of service exports, BoP)\n",
              "BX.GSR.TRVL.ZS              Travel services (% of service exports, BoP)\n",
              "BX.KLT.DINV.CD.WD           Foreign direct investment, net inflows (BoP, current US$)\n",
              "BX.KLT.DINV.WD.GD.ZS        Foreign direct investment, net inflows (% of GDP)\n",
              "BX.PEF.TOTL.CD.WD           Portfolio equity, net inflows (BoP, current US$)\n",
              "BX.TRF.CURR.CD              Secondary income receipts (BoP, current US$)\n",
              "BX.TRF.PWKR.CD              Personal transfers, receipts (BoP, current US$)\n",
              "BX.TRF.PWKR.CD.DT           Personal remittances, received (current US$)\n",
              "BX.TRF.PWKR.DT.GD.ZS        Personal remittances, received (% of GDP)\n",
              "CC.EST                      Control of Corruption: Estimate\n",
              "CC.NO.SRC                   Control of Corruption: Number of Sources\n",
              "CC.PER.RNK                  Control of Corruption: Percentile Rank\n",
              "CC.PER.RNK.LOWER            Control of Corruption: Percentile Rank, Lower Bound of 90% Confidence Interval\n",
              "CC.PER.RNK.UPPER            Control of Corruption: Percentile Rank, Upper Bound of 90% Confidence Interval\n",
              "CC.STD.ERR                  Control of Corruption: Standard Error\n",
              "CM.MKT.INDX.ZG              S&P Global Equity Indices (annual % change)\n",
              "CM.MKT.LCAP.CD              Market capitalization of listed domestic companies (current US$)\n",
              "CM.MKT.LCAP.GD.ZS           Market capitalization of listed domestic companies (% of GDP)\n",
              "CM.MKT.LDOM.NO              Listed domestic companies, total\n",
              "CM.MKT.TRAD.CD              Stocks traded, total value (current US$)\n",
              "CM.MKT.TRAD.GD.ZS           Stocks traded, total value (% of GDP)\n",
              "CM.MKT.TRNR                 Stocks traded, turnover ratio of domestic shares (%)\n",
              "DC.DAC.AUSL.CD              Net bilateral aid flows from DAC donors, Australia (current US$)\n",
              "DC.DAC.AUTL.CD              Net bilateral aid flows from DAC donors, Austria (current US$)\n",
              "DC.DAC.BELL.CD              Net bilateral aid flows from DAC donors, Belgium (current US$)\n",
              "DC.DAC.CANL.CD              Net bilateral aid flows from DAC donors, Canada (current US$)\n",
              "DC.DAC.CECL.CD              Net bilateral aid flows from DAC donors, European Union institutions (current US$)\n",
              "DC.DAC.CHEL.CD              Net bilateral aid flows from DAC donors, Switzerland (current US$)\n",
              "DC.DAC.CZEL.CD              Net bilateral aid flows from DAC donors, Czechia (current US$)\n",
              "DC.DAC.DEUL.CD              Net bilateral aid flows from DAC donors, Germany (current US$)\n",
              "DC.DAC.DNKL.CD              Net bilateral aid flows from DAC donors, Denmark (current US$)\n",
              "DC.DAC.ESPL.CD              Net bilateral aid flows from DAC donors, Spain (current US$)\n",
              "DC.DAC.ESTL.CD              Net bilateral aid flows from DAC donors, Estonia (current US$)\n",
              "DC.DAC.FINL.CD              Net bilateral aid flows from DAC donors, Finland (current US$)\n",
              "DC.DAC.FRAL.CD              Net bilateral aid flows from DAC donors, France (current US$)\n",
              "DC.DAC.GBRL.CD              Net bilateral aid flows from DAC donors, United Kingdom (current US$)\n",
              "DC.DAC.GRCL.CD              Net bilateral aid flows from DAC donors, Greece (current US$)\n",
              "DC.DAC.HUNL.CD              Net bilateral aid flows from DAC donors, Hungary (current US$)\n",
              "DC.DAC.IRLL.CD              Net bilateral aid flows from DAC donors, Ireland (current US$)\n",
              "DC.DAC.ISLL.CD              Net bilateral aid flows from DAC donors, Iceland (current US$)\n",
              "DC.DAC.ITAL.CD              Net bilateral aid flows from DAC donors, Italy (current US$)\n",
              "DC.DAC.JPNL.CD              Net bilateral aid flows from DAC donors, Japan (current US$)\n",
              "DC.DAC.KORL.CD              Net bilateral aid flows from DAC donors, Korea, Rep. (current US$)\n",
              "DC.DAC.LTUL.CD              Net bilateral aid flows from DAC donors, Lithuania (current US$)\n",
              "DC.DAC.LUXL.CD              Net bilateral aid flows from DAC donors, Luxembourg (current US$)\n",
              "DC.DAC.NLDL.CD              Net bilateral aid flows from DAC donors, Netherlands (current US$)\n",
              "DC.DAC.NORL.CD              Net bilateral aid flows from DAC donors, Norway (current US$)\n",
              "DC.DAC.NZLL.CD              Net bilateral aid flows from DAC donors, New Zealand (current US$)\n",
              "DC.DAC.POLL.CD              Net bilateral aid flows from DAC donors, Poland (current US$)\n",
              "DC.DAC.PRTL.CD              Net bilateral aid flows from DAC donors, Portugal (current US$)\n",
              "DC.DAC.SVKL.CD              Net bilateral aid flows from DAC donors, Slovak Republic (current US$)\n",
              "DC.DAC.SVNL.CD              Net bilateral aid flows from DAC donors, Slovenia (current US$)\n",
              "DC.DAC.SWEL.CD              Net bilateral aid flows from DAC donors, Sweden (current US$)\n",
              "DC.DAC.TOTL.CD              Net bilateral aid flows from DAC donors, Total (current US$)\n",
              "DC.DAC.USAL.CD              Net bilateral aid flows from DAC donors, United States (current US$)\n",
              "DC.ODA.TLDC.CD              Net ODA provided, to the least developed countries (current US$)\n",
              "DC.ODA.TLDC.GN.ZS           Net ODA provided to the least developed countries (% of GNI)\n",
              "DC.ODA.TOTL.CD              Net ODA provided, total (current US$)\n",
              "DC.ODA.TOTL.GN.ZS           Net ODA provided, total (% of GNI)\n",
              "DC.ODA.TOTL.KD              Net ODA provided, total (constant 2021 US$)\n",
              "DT.DOD.DECT.CD              External debt stocks, total (DOD, current US$)\n",
              "DT.DOD.DECT.GN.ZS           External debt stocks (% of GNI)\n",
              "DT.DOD.DIMF.CD              Use of IMF credit (DOD, current US$)\n",
              "DT.DOD.DLXF.CD              External debt stocks, long-term (DOD, current US$)\n",
              "DT.DOD.DPNG.CD              External debt stocks, private nonguaranteed (PNG) (DOD, current US$)\n",
              "DT.DOD.DPPG.CD              External debt stocks, public and publicly guaranteed (PPG) (DOD, current US$)\n",
              "DT.DOD.DSTC.CD              External debt stocks, short-term (DOD, current US$)\n",
              "DT.DOD.DSTC.IR.ZS           Short-term debt (% of total reserves)\n",
              "DT.DOD.DSTC.XP.ZS           Short-term debt (% of exports of goods, services and primary income)\n",
              "DT.DOD.DSTC.ZS              Short-term debt (% of total external debt)\n",
              "DT.DOD.MIBR.CD              PPG, IBRD (DOD, current US$)\n",
              "DT.DOD.MIDA.CD              PPG, IDA (DOD, current US$)\n",
              "DT.DOD.MWBG.CD              IBRD loans and IDA credits (DOD, current US$)\n",
              "DT.DOD.PVLX.CD              Present value of external debt (current US$)\n",
              "DT.DOD.PVLX.EX.ZS           Present value of external debt (% of exports of goods, services and primary income)\n",
              "DT.DOD.PVLX.GN.ZS           Present value of external debt (% of GNI)\n",
              "DT.NFL.BLAT.CD              Net financial flows, bilateral (NFL, current US$)\n",
              "DT.NFL.BOND.CD              Portfolio investment, bonds (PPG + PNG) (NFL, current US$)\n",
              "DT.NFL.CERF.CD              Net official flows from UN agencies, CERF (current US$)\n",
              "DT.NFL.DPNG.CD              Net flows on external debt, private nonguaranteed (PNG) (NFL, current US$)\n",
              "DT.NFL.FAOG.CD              Net official flows from UN agencies, FAO (current US$)\n",
              "DT.NFL.IAEA.CD              Net official flows from UN agencies, IAEA (current US$)\n",
              "DT.NFL.IFAD.CD              Net official flows from UN agencies, IFAD (current US$)\n",
              "DT.NFL.ILOG.CD              Net official flows from UN agencies, ILO (current US$)\n",
              "DT.NFL.IMFC.CD              Net financial flows, IMF concessional (NFL, current US$)\n",
              "DT.NFL.IMFN.CD              Net financial flows, IMF nonconcessional (NFL, current US$)\n",
              "DT.NFL.MIBR.CD              Net financial flows, IBRD (NFL, current US$)\n",
              "DT.NFL.MIDA.CD              Net financial flows, IDA (NFL, current US$)\n",
              "DT.NFL.MLAT.CD              Net financial flows, multilateral (NFL, current US$)\n",
              "DT.NFL.MOTH.CD              Net financial flows, others (NFL, current US$)\n",
              "DT.NFL.NIFC.CD              IFC, private nonguaranteed (NFL, US$)\n",
              "DT.NFL.OFFT.CD              PPG, official creditors (NFL, US$)\n",
              "DT.NFL.PBND.CD              PPG, bonds (NFL, current US$)\n",
              "DT.NFL.PCBK.CD              PPG, commercial banks (NFL, current US$)\n",
              "DT.NFL.PCBO.CD              Commercial banks and other lending (PPG + PNG) (NFL, current US$)\n",
              "DT.NFL.PNGB.CD              PNG, bonds (NFL, current US$)\n",
              "DT.NFL.PNGC.CD              PNG, commercial banks and other creditors (NFL, current US$)\n",
              "DT.NFL.PROP.CD              PPG, other private creditors (NFL, current US$)\n",
              "DT.NFL.PRVT.CD              PPG, private creditors (NFL, US$)\n",
              "DT.NFL.RDBC.CD              Net financial flows, RDB concessional (NFL, current US$)\n",
              "DT.NFL.RDBN.CD              Net financial flows, RDB nonconcessional (NFL, current US$)\n",
              "DT.NFL.SDGF.CD              Net official flows from UN agencies, SDGFUND (current US$)\n",
              "DT.NFL.SPRP.CD              Net official flows from UN agencies, SPRP (current US$)\n",
              "DT.NFL.UNAI.CD              Net official flows from UN agencies, UNAIDS (current US$)\n",
              "DT.NFL.UNCD.CD              Net official flows from UN agencies, UNCDF (current US$)\n",
              "DT.NFL.UNCF.CD              Net official flows from UN agencies, UNICEF (current US$)\n",
              "DT.NFL.UNCR.CD              Net official flows from UN agencies, UNHCR (current US$)\n",
              "DT.NFL.UNCTAD.CD            Net official flows from UN agencies, UNCTAD (current US$)\n",
              "DT.NFL.UNCV.CD              Net official flows from UN agencies, UNCOVID (current US$)\n",
              "DT.NFL.UNDP.CD              Net official flows from UN agencies, UNDP (current US$)\n",
              "DT.NFL.UNEC.CD              Net official flows from UN agencies, UNECE (current US$)\n",
              "DT.NFL.UNEP.CD              Net official flows from UN agencies, UNEP (current US$)\n",
              "DT.NFL.UNFP.CD              Net official flows from UN agencies, UNFPA (current US$)\n",
              "DT.NFL.UNID.CD              Net official flows from UN agencies, UNIDIR (current US$)\n",
              "DT.NFL.UNIDO.CD             Net official flows from UN agencies, UNIDO (current US$)\n",
              "DT.NFL.UNPB.CD              Net official flows from UN agencies, UNPBF (current US$)\n",
              "DT.NFL.UNRW.CD              Net official flows from UN agencies, UNRWA (current US$)\n",
              "DT.NFL.UNTA.CD              Net official flows from UN agencies, UNTA (current US$)\n",
              "DT.NFL.UNWN.CD              Net official flows from UN agencies, UNWOMEN (current US$)\n",
              "DT.NFL.UNWT.CD              Net official flows from UN agencies, UNWTO (current US$)\n",
              "DT.NFL.WFPG.CD              Net official flows from UN agencies, WFP (current US$)\n",
              "DT.NFL.WHOL.CD              Net official flows from UN agencies, WHO (current US$)\n",
              "DT.NFL.WITC.CD              Net official flows from UN agencies, WTO-ITC (current US$)\n",
              "DT.ODA.ALLD.CD              Net official development assistance and official aid received (current US$)\n",
              "DT.ODA.ALLD.KD              Net official development assistance and official aid received (constant 2021 US$)\n",
              "DT.ODA.OATL.CD              Net official aid received (current US$)\n",
              "DT.ODA.OATL.KD              Net official aid received (constant 2021 US$)\n",
              "DT.ODA.ODAT.CD              Net official development assistance received (current US$)\n",
              "DT.ODA.ODAT.GI.ZS           Net ODA received (% of gross capital formation)\n",
              "DT.ODA.ODAT.GN.ZS           Net ODA received (% of GNI)\n",
              "DT.ODA.ODAT.KD              Net official development assistance received (constant 2021 US$)\n",
              "DT.ODA.ODAT.MP.ZS           Net ODA received (% of imports of goods, services and primary income)\n",
              "DT.ODA.ODAT.PC.ZS           Net ODA received per capita (current US$)\n",
              "DT.ODA.ODAT.XP.ZS           Net ODA received (% of central government expense)\n",
              "DT.TDS.DECT.CD              Debt service on external debt, total (TDS, current US$)\n",
              "DT.TDS.DECT.EX.ZS           Total debt service (% of exports of goods, services and primary income)\n",
              "DT.TDS.DECT.GN.ZS           Total debt service (% of GNI)\n",
              "DT.TDS.DIMF.CD              IMF repurchases and charges (TDS, current US$)\n",
              "DT.TDS.DPPF.XP.ZS           Debt service (PPG and IMF only, % of exports of goods, services and primary income)\n",
              "DT.TDS.DPPG.CD              Debt service on external debt, public and publicly guaranteed (PPG) (TDS, current US$)\n",
              "DT.TDS.DPPG.GN.ZS           Public and publicly guaranteed debt service (% of GNI)\n",
              "DT.TDS.DPPG.XP.ZS           Public and publicly guaranteed debt service (% of exports of goods, services and primary income)\n",
              "DT.TDS.MLAT.CD              Multilateral debt service (TDS, current US$)\n",
              "DT.TDS.MLAT.PG.ZS           Multilateral debt service (% of public and publicly guaranteed debt service)\n",
              "EG.CFT.ACCS.RU.ZS           Access to clean fuels and technologies for cooking, rural (% of rural population)\n",
              "EG.CFT.ACCS.UR.ZS           Access to clean fuels and technologies for cooking, urban (% of urban population)\n",
              "EG.CFT.ACCS.ZS              Access to clean fuels and technologies for cooking (% of population)\n",
              "EG.EGY.PRIM.PP.KD           Energy intensity level of primary energy (MJ/$2017 PPP GDP)\n",
              "EG.ELC.ACCS.RU.ZS           Access to electricity, rural (% of rural population)\n",
              "EG.ELC.ACCS.UR.ZS           Access to electricity, urban (% of urban population)\n",
              "EG.ELC.ACCS.ZS              Access to electricity (% of population)\n",
              "EG.ELC.COAL.ZS              Electricity production from coal sources (% of total)\n",
              "EG.ELC.FOSL.ZS              Electricity production from oil, gas and coal sources (% of total)\n",
              "EG.ELC.HYRO.ZS              Electricity production from hydroelectric sources (% of total)\n",
              "EG.ELC.LOSS.ZS              Electric power transmission and distribution losses (% of output)\n",
              "EG.ELC.NGAS.ZS              Electricity production from natural gas sources (% of total)\n",
              "EG.ELC.NUCL.ZS              Electricity production from nuclear sources (% of total)\n",
              "EG.ELC.PETR.ZS              Electricity production from oil sources (% of total)\n",
              "EG.ELC.RNEW.ZS              Renewable electricity output (% of total electricity output)\n",
              "EG.ELC.RNWX.KH              Electricity production from renewable sources, excluding hydroelectric (kWh)\n",
              "EG.ELC.RNWX.ZS              Electricity production from renewable sources, excluding hydroelectric (% of total)\n",
              "EG.FEC.RNEW.ZS              Renewable energy consumption (% of total final energy consumption)\n",
              "EG.GDP.PUSE.KO.PP           GDP per unit of energy use (PPP $ per kg of oil equivalent)\n",
              "EG.GDP.PUSE.KO.PP.KD        GDP per unit of energy use (constant 2021 PPP $ per kg of oil equivalent)\n",
              "EG.IMP.CONS.ZS              Energy imports, net (% of energy use)\n",
              "EG.USE.COMM.CL.ZS           Alternative and nuclear energy (% of total energy use)\n",
              "EG.USE.COMM.FO.ZS           Fossil fuel energy consumption (% of total)\n",
              "EG.USE.COMM.GD.PP.KD        Energy use (kg of oil equivalent) per $1,000 GDP (constant 2021 PPP)\n",
              "EG.USE.CRNW.ZS              Combustible renewables and waste (% of total energy)\n",
              "EG.USE.ELEC.KH.PC           Electric power consumption (kWh per capita)\n",
              "EG.USE.PCAP.KG.OE           Energy use (kg of oil equivalent per capita)\n",
              "EN.ATM.PM25.MC.M3           PM2.5 air pollution, mean annual exposure (micrograms per cubic meter)\n",
              "EN.ATM.PM25.MC.T1.ZS        PM2.5 pollution, population exposed to levels exceeding WHO Interim Target-1 value (% of total)\n",
              "EN.ATM.PM25.MC.T2.ZS        PM2.5 pollution, population exposed to levels exceeding WHO Interim Target-2 value (% of total)\n",
              "EN.ATM.PM25.MC.T3.ZS        PM2.5 pollution, population exposed to levels exceeding WHO Interim Target-3 value (% of total)\n",
              "EN.ATM.PM25.MC.ZS           PM2.5 air pollution, population exposed to levels exceeding WHO guideline value (% of total)\n",
              "EN.BIR.THRD.NO              Bird species, threatened\n",
              "EN.CLC.DRSK.XQ              Disaster risk reduction progress score (1-5 scale; 5=best)\n",
              "EN.CLC.MDAT.ZS              Droughts, floods, extreme temperatures (% of population, average 1990-2009)\n",
              "EN.FSH.THRD.NO              Fish species, threatened\n",
              "EN.GHG.ALL.LU.MT.CE.AR5     Total greenhouse gas emissions including LULUCF (Mt CO2e)\n",
              "EN.GHG.ALL.MT.CE.AR5        Total greenhouse gas emissions excluding LULUCF (Mt CO2e)\n",
              "EN.GHG.ALL.PC.CE.AR5        Total greenhouse gas emissions excluding LULUCF per capita (t CO2e/capita)\n",
              "EN.GHG.CH4.AG.MT.CE.AR5     Methane (CH4) emissions from Agriculture (Mt CO2e)\n",
              "EN.GHG.CH4.BU.MT.CE.AR5     Methane (CH4) emissions from Building (Energy) (Mt CO2e)\n",
              "EN.GHG.CH4.FE.MT.CE.AR5     Methane (CH4) emissions from Fugitive Emissions (Energy) (Mt CO2e)\n",
              "EN.GHG.CH4.IC.MT.CE.AR5     Methane (CH4) emissions from Industrial Combustion (Energy) (Mt CO2e)\n",
              "EN.GHG.CH4.IP.MT.CE.AR5     Methane (CH4) emissions from Industrial Processes (Mt CO2e)\n",
              "EN.GHG.CH4.MT.CE.AR5        Methane (CH4) emissions (total) excluding LULUCF (Mt CO2e)\n",
              "EN.GHG.CH4.PI.MT.CE.AR5     Methane (CH4) emissions from Power Industry (Energy) (Mt CO2e)\n",
              "EN.GHG.CH4.TR.MT.CE.AR5     Methane (CH4) emissions from Transport (Energy) (Mt CO2e)\n",
              "EN.GHG.CH4.WA.MT.CE.AR5     Methane (CH4) emissions from Waste (Mt CO2e)\n",
              "EN.GHG.CH4.ZG.AR5           Methane (CH4) emissions (total) excluding LULUCF (% change from 1990)\n",
              "EN.GHG.CO2.AG.MT.CE.AR5     Carbon dioxide (CO2) emissions from Agriculture (Mt CO2e)\n",
              "EN.GHG.CO2.BU.MT.CE.AR5     Carbon dioxide (CO2) emissions from Building (Energy) (Mt CO2e)\n",
              "EN.GHG.CO2.FE.MT.CE.AR5     Carbon dioxide (CO2) emissions from Fugitive Emissions (Energy) (Mt CO2e)\n",
              "EN.GHG.CO2.IC.MT.CE.AR5     Carbon dioxide (CO2) emissions from Industrial Combustion (Energy) (Mt CO2e)\n",
              "EN.GHG.CO2.IP.MT.CE.AR5     Carbon dioxide (CO2) emissions from Industrial Processes (Mt CO2e)\n",
              "EN.GHG.CO2.LU.DF.MT.CE.AR5  Carbon dioxide (CO2) net fluxes from LULUCF - Deforestation (Mt CO2e)\n",
              "EN.GHG.CO2.LU.FL.MT.CE.AR5  Carbon dioxide (CO2) net fluxes from LULUCF - Forest Land (Mt CO2e)\n",
              "EN.GHG.CO2.LU.MT.CE.AR5     Carbon dioxide (CO2) net fluxes from LULUCF - Total excluding non-tropical fires (Mt CO2e)\n",
              "EN.GHG.CO2.LU.OL.MT.CE.AR5  Carbon dioxide (CO2) net fluxes from LULUCF - Other Land (Mt CO2e)\n",
              "EN.GHG.CO2.LU.OS.MT.CE.AR5  Carbon dioxide (CO2) net fluxes from LULUCF - Organic Soil (Mt CO2e)\n",
              "EN.GHG.CO2.MT.CE.AR5        Carbon dioxide (CO2) emissions (total) excluding LULUCF (Mt CO2e)\n",
              "EN.GHG.CO2.PC.CE.AR5        Carbon dioxide (CO2) emissions excluding LULUCF per capita (t CO2e/capita)\n",
              "EN.GHG.CO2.PI.MT.CE.AR5     Carbon dioxide (CO2) emissions from Power Industry (Energy) (Mt CO2e)\n",
              "EN.GHG.CO2.RT.GDP.KD        Carbon intensity of GDP (kg CO2e per constant 2015 US$ of GDP)\n",
              "EN.GHG.CO2.RT.GDP.PP.KD     Carbon intensity of GDP (kg CO2e per 2021 PPP $ of GDP)\n",
              "EN.GHG.CO2.TR.MT.CE.AR5     Carbon dioxide (CO2) emissions from Transport (Energy) (Mt CO2e)\n",
              "EN.GHG.CO2.WA.MT.CE.AR5     Carbon dioxide (CO2) emissions from Waste (Mt CO2e)\n",
              "EN.GHG.CO2.ZG.AR5           Carbon dioxide (CO2) emissions (total) excluding LULUCF (% change from 1990)\n",
              "EN.GHG.FGAS.IP.MT.CE.AR5    F-gases emissions from Industrial Processes (Mt CO2e)\n",
              "EN.GHG.N2O.AG.MT.CE.AR5     Nitrous oxide (N2O) emissions from Agriculture (Mt CO2e)\n",
              "EN.GHG.N2O.BU.MT.CE.AR5     Nitrous oxide (N2O) emissions from Building (Energy) (Mt CO2e)\n",
              "EN.GHG.N2O.FE.MT.CE.AR5     Nitrous oxide (N2O) emissions from Fugitive Emissions (Energy) (Mt CO2e)\n",
              "EN.GHG.N2O.IC.MT.CE.AR5     Nitrous oxide (N2O) emissions from Industrial Combustion (Energy) (Mt CO2e)\n",
              "EN.GHG.N2O.IP.MT.CE.AR5     Nitrous oxide (N2O) emissions from Industrial Processes (Mt CO2e)\n",
              "EN.GHG.N2O.MT.CE.AR5        Nitrous oxide (N2O) emissions (total) excluding LULUCF (Mt CO2e)\n",
              "EN.GHG.N2O.PI.MT.CE.AR5     Nitrous oxide (N2O) emissions from Power Industry (Energy) (Mt CO2e)\n",
              "EN.GHG.N2O.TR.MT.CE.AR5     Nitrous oxide (N2O) emissions from Transport (Energy) (Mt CO2e)\n",
              "EN.GHG.N2O.WA.MT.CE.AR5     Nitrous oxide (N2O) emissions from Waste (Mt CO2e)\n",
              "EN.GHG.N2O.ZG.AR5           Nitrous oxide (N2O) emissions (total) excluding LULUCF (% change from 1990)\n",
              "EN.GHG.TOT.ZG.AR5           Total greenhouse gas emissions excluding LULUCF (% change from 1990)\n",
              "EN.HPT.THRD.NO              Plant species (higher), threatened\n",
              "EN.MAM.THRD.NO              Mammal species, threatened\n",
              "EN.POP.DNST                 Population density (people per sq. km of land area)\n",
              "EN.POP.EL5M.RU.ZS           Rural population living in areas where elevation is below 5 meters (% of total population)\n",
              "EN.POP.EL5M.UR.ZS           Urban population living in areas where elevation is below 5 meters (% of total population)\n",
              "EN.POP.EL5M.ZS              Population living in areas where elevation is below 5 meters (% of total population)\n",
              "EN.POP.SLUM.UR.ZS           Population living in slums (% of urban population)\n",
              "EN.URB.LCTY                 Population in largest city\n",
              "EN.URB.LCTY.UR.ZS           Population in the largest city (% of urban population)\n",
              "EN.URB.MCTY                 Population in urban agglomerations of more than 1 million\n",
              "EN.URB.MCTY.TL.ZS           Population in urban agglomerations of more than 1 million (% of total population)\n",
              "ER.FSH.AQUA.MT              Aquaculture production (metric tons)\n",
              "ER.FSH.CAPT.MT              Capture fisheries production (metric tons)\n",
              "ER.FSH.PROD.MT              Total fisheries production (metric tons)\n",
              "ER.GDP.FWTL.M3.KD           Water productivity, total (constant 2015 US$ GDP per cubic meter of total freshwater withdrawal)\n",
              "ER.H2O.FWAG.ZS              Annual freshwater withdrawals, agriculture (% of total freshwater withdrawal)\n",
              "ER.H2O.FWDM.ZS              Annual freshwater withdrawals, domestic (% of total freshwater withdrawal)\n",
              "ER.H2O.FWIN.ZS              Annual freshwater withdrawals, industry (% of total freshwater withdrawal)\n",
              "ER.H2O.FWST.ZS              Level of water stress: freshwater withdrawal as a proportion of available freshwater resources\n",
              "ER.H2O.FWTL.K3              Annual freshwater withdrawals, total (billion cubic meters)\n",
              "ER.H2O.FWTL.ZS              Annual freshwater withdrawals, total (% of internal resources)\n",
              "ER.H2O.INTR.K3              Renewable internal freshwater resources, total (billion cubic meters)\n",
              "ER.H2O.INTR.PC              Renewable internal freshwater resources per capita (cubic meters)\n",
              "ER.LND.PTLD.ZS              Terrestrial protected areas (% of total land area)\n",
              "ER.MRN.PTMR.ZS              Marine protected areas (% of territorial waters)\n",
              "ER.PTD.TOTL.ZS              Terrestrial and marine protected areas (% of total territorial area)\n",
              "FB.AST.NPER.ZS              Bank nonperforming loans to total gross loans (%)\n",
              "FB.ATM.TOTL.P5              Automated teller machines (ATMs) (per 100,000 adults)\n",
              "FB.BNK.CAPA.ZS              Bank capital to assets ratio (%)\n",
              "FB.CBK.BRCH.P5              Commercial bank branches (per 100,000 adults)\n",
              "FB.CBK.BRWR.P3              Borrowers from commercial banks (per 1,000 adults)\n",
              "FB.CBK.DPTR.P3              Depositors with commercial banks (per 1,000 adults)\n",
              "FD.AST.PRVT.GD.ZS           Domestic credit to private sector by banks (% of GDP)\n",
              "FD.RES.LIQU.AS.ZS           Bank liquid reserves to bank assets ratio (%)\n",
              "FI.RES.TOTL.CD              Total reserves (includes gold, current US$)\n",
              "FI.RES.TOTL.DT.ZS           Total reserves (% of total external debt)\n",
              "FI.RES.TOTL.MO              Total reserves in months of imports\n",
              "FI.RES.XGLD.CD              Total reserves minus gold (current US$)\n",
              "FM.AST.CGOV.ZG.M3           Claims on central government (annual growth as % of broad money)\n",
              "FM.AST.DOMO.ZG.M3           Claims on other sectors of the domestic economy (annual growth as % of broad money)\n",
              "FM.AST.DOMS.CN              Net domestic credit (current LCU)\n",
              "FM.AST.NFRG.CN              Net foreign assets (current LCU)\n",
              "FM.AST.PRVT.GD.ZS           Monetary Sector credit to private sector (% GDP)\n",
              "FM.AST.PRVT.ZG.M3           Claims on private sector (annual growth as % of broad money)\n",
              "FM.LBL.BMNY.CN              Broad money (current LCU)\n",
              "FM.LBL.BMNY.GD.ZS           Broad money (% of GDP)\n",
              "FM.LBL.BMNY.IR.ZS           Broad money to total reserves ratio\n",
              "FM.LBL.BMNY.ZG              Broad money growth (annual %)\n",
              "FP.CPI.TOTL                 Consumer price index (2010 = 100)\n",
              "FP.CPI.TOTL.ZG              Inflation, consumer prices (annual %)\n",
              "FP.WPI.TOTL                 Wholesale price index (2010 = 100)\n",
              "FR.INR.DPST                 Deposit interest rate (%)\n",
              "FR.INR.LEND                 Lending interest rate (%)\n",
              "FR.INR.LNDP                 Interest rate spread (lending rate minus deposit rate, %)\n",
              "FR.INR.RINR                 Real interest rate (%)\n",
              "FR.INR.RISK                 Risk premium on lending (lending rate minus treasury bill rate, %)\n",
              "FS.AST.CGOV.GD.ZS           Claims on central government, etc. (% GDP)\n",
              "FS.AST.DOMO.GD.ZS           Claims on other sectors of the domestic economy (% of GDP)\n",
              "FS.AST.DOMS.GD.ZS           Domestic credit provided by financial sector (% of GDP)\n",
              "FS.AST.PRVT.GD.ZS           Domestic credit to private sector (% of GDP)\n",
              "FX.OWN.TOTL.40.ZS           Account ownership at a financial institution or with a mobile-money-service provider, poorest 40% (% of population ages 15+)\n",
              "FX.OWN.TOTL.60.ZS           Account ownership at a financial institution or with a mobile-money-service provider, richest 60% (% of population ages 15+)\n",
              "FX.OWN.TOTL.FE.ZS           Account ownership at a financial institution or with a mobile-money-service provider, female (% of population ages 15+)\n",
              "FX.OWN.TOTL.MA.ZS           Account ownership at a financial institution or with a mobile-money-service provider, male (% of population ages 15+)\n",
              "FX.OWN.TOTL.OL.ZS           Account ownership at a financial institution or with a mobile-money-service provider, older adults (% of population ages 25+)\n",
              "FX.OWN.TOTL.PL.ZS           Account ownership at a financial institution or with a mobile-money-service provider, primary education or less (% of population ages 15+)\n",
              "FX.OWN.TOTL.SO.ZS           Account ownership at a financial institution or with a mobile-money-service provider, secondary education or more (% of population ages 15+)\n",
              "FX.OWN.TOTL.YG.ZS           Account ownership at a financial institution or with a mobile-money-service provider, young adults (% of population ages 15-24)\n",
              "FX.OWN.TOTL.ZS              Account ownership at a financial institution or with a mobile-money-service provider (% of population ages 15+)\n",
              "GB.XPD.RSDV.GD.ZS           Research and development expenditure (% of GDP)\n",
              "GC.AST.TOTL.CN              Net acquisition of financial assets (current LCU)\n",
              "GC.AST.TOTL.GD.ZS           Net acquisition of financial assets (% of GDP)\n",
              "GC.DOD.TOTL.CN              Central government debt, total (current LCU)\n",
              "GC.DOD.TOTL.GD.ZS           Central government debt, total (% of GDP)\n",
              "GC.LBL.TOTL.CN              Net incurrence of liabilities, total (current LCU)\n",
              "GC.LBL.TOTL.GD.ZS           Net incurrence of liabilities, total (% of GDP)\n",
              "GC.NFN.TOTL.CN              Net investment in nonfinancial assets (current LCU)\n",
              "GC.NFN.TOTL.GD.ZS           Net investment in nonfinancial assets (% of GDP)\n",
              "GC.NLD.TOTL.CN              Net lending (+) / net borrowing (-) (current LCU)\n",
              "GC.NLD.TOTL.GD.ZS           Net lending (+) / net borrowing (-) (% of GDP)\n",
              "GC.REV.GOTR.CN              Grants and other revenue (current LCU)\n",
              "GC.REV.GOTR.ZS              Grants and other revenue (% of revenue)\n",
              "GC.REV.SOCL.CN              Social contributions (current LCU)\n",
              "GC.REV.SOCL.ZS              Social contributions (% of revenue)\n",
              "GC.REV.XGRT.CN              Revenue, excluding grants (current LCU)\n",
              "GC.REV.XGRT.GD.ZS           Revenue, excluding grants (% of GDP)\n",
              "GC.TAX.EXPT.CN              Taxes on exports (current LCU)\n",
              "GC.TAX.EXPT.ZS              Taxes on exports (% of tax revenue)\n",
              "GC.TAX.GSRV.CN              Taxes on goods and services (current LCU)\n",
              "GC.TAX.GSRV.RV.ZS           Taxes on goods and services (% of revenue)\n",
              "GC.TAX.GSRV.VA.ZS           Taxes on goods and services (% value added of industry and services)\n",
              "GC.TAX.IMPT.CN              Customs and other import duties (current LCU)\n",
              "GC.TAX.IMPT.ZS              Customs and other import duties (% of tax revenue)\n",
              "GC.TAX.INTT.CN              Taxes on international trade (current LCU)\n",
              "GC.TAX.INTT.RV.ZS           Taxes on international trade (% of revenue)\n",
              "GC.TAX.OTHR.CN              Other taxes (current LCU)\n",
              "GC.TAX.OTHR.RV.ZS           Other taxes (% of revenue)\n",
              "GC.TAX.TOTL.CN              Tax revenue (current LCU)\n",
              "GC.TAX.TOTL.GD.ZS           Tax revenue (% of GDP)\n",
              "GC.TAX.YPKG.CN              Taxes on income, profits and capital gains (current LCU)\n",
              "GC.TAX.YPKG.RV.ZS           Taxes on income, profits and capital gains (% of revenue)\n",
              "GC.TAX.YPKG.ZS              Taxes on income, profits and capital gains (% of total taxes)\n",
              "GC.XPN.COMP.CN              Compensation of employees (current LCU)\n",
              "GC.XPN.COMP.ZS              Compensation of employees (% of expense)\n",
              "GC.XPN.GSRV.CN              Goods and services expense (current LCU)\n",
              "GC.XPN.GSRV.ZS              Goods and services expense (% of expense)\n",
              "GC.XPN.INTP.CN              Interest payments (current LCU)\n",
              "GC.XPN.INTP.RV.ZS           Interest payments (% of revenue)\n",
              "GC.XPN.INTP.ZS              Interest payments (% of expense)\n",
              "GC.XPN.OTHR.CN              Other expense (current LCU)\n",
              "GC.XPN.OTHR.ZS              Other expense (% of expense)\n",
              "GC.XPN.TOTL.CN              Expense (current LCU)\n",
              "GC.XPN.TOTL.GD.ZS           Expense (% of GDP)\n",
              "GC.XPN.TRFT.CN              Subsidies and other transfers (current LCU)\n",
              "GC.XPN.TRFT.ZS              Subsidies and other transfers (% of expense)\n",
              "GE.EST                      Government Effectiveness: Estimate\n",
              "GE.NO.SRC                   Government Effectiveness: Number of Sources\n",
              "GE.PER.RNK                  Government Effectiveness: Percentile Rank\n",
              "GE.PER.RNK.LOWER            Government Effectiveness: Percentile Rank, Lower Bound of 90% Confidence Interval\n",
              "GE.PER.RNK.UPPER            Government Effectiveness: Percentile Rank, Upper Bound of 90% Confidence Interval\n",
              "GE.STD.ERR                  Government Effectiveness: Standard Error\n",
              "GF.XPD.BUDG.ZS              Primary government expenditures as a proportion of original approved budget (%)\n",
              "HD.HCI.OVRL                 Human Capital Index (HCI) (scale 0-1)\n",
              "HD.HCI.OVRL.FE              Human Capital Index (HCI), Female (scale 0-1)\n",
              "HD.HCI.OVRL.LB              Human Capital Index (HCI), Lower Bound (scale 0-1)\n",
              "HD.HCI.OVRL.LB.FE           Human Capital Index (HCI), Female, Lower Bound (scale 0-1)\n",
              "HD.HCI.OVRL.LB.MA           Human Capital Index (HCI), Male, Lower Bound (scale 0-1)\n",
              "HD.HCI.OVRL.MA              Human Capital Index (HCI), Male (scale 0-1)\n",
              "HD.HCI.OVRL.UB              Human Capital Index (HCI), Upper Bound (scale 0-1)\n",
              "HD.HCI.OVRL.UB.FE           Human Capital Index (HCI), Female, Upper Bound (scale 0-1)\n",
              "HD.HCI.OVRL.UB.MA           Human Capital Index (HCI), Male, Upper Bound (scale 0-1)\n",
              "IC.BRE.BE.OS                B-READY: Business Entry: Overall Score\n",
              "IC.BRE.BE.P1                B-READY: Business Entry Pillar 1: Quality of Regulations for Business Entry\n",
              "IC.BRE.BE.P2                B-READY: Business Entry Pillar 2: Digital Public Services and Transparency of Information for Business Entry\n",
              "IC.BRE.BE.P3                B-READY: Business Entry Pillar 3: Operational Efficiency of Business Entry\n",
              "IC.BRE.BI.OS                B-READY: Business Insolvency: Overall Score\n",
              "IC.BRE.BI.P1                B-READY: Business Insolvency Pillar 1: Quality of Regulations for Judicial Insolvency Proceedings\n",
              "IC.BRE.BI.P2                B-READY: Business Insolvency Pillar 2: Quality of Institutional and Operational Infrastructure for Judicial Insolvency Proceedings\n",
              "IC.BRE.BI.P3                B-READY: Business Insolvency Pillar 3: Operational Efficiency of Resolving Judicial Insolvency Proceedings\n",
              "IC.BRE.BL.OS                B-READY: Business Location: Overall Score\n",
              "IC.BRE.BL.P1                B-READY: Business Location Pillar 1: Quality of Regulations for Business Location\n",
              "IC.BRE.BL.P2                B-READY: Business Location Pillar 2: Quality of Public Services and Transparency of Information for Business Location\n",
              "IC.BRE.BL.P3                B-READY: Business Location Pillar 3: Operational Efficiency of Establishing a Business Location\n",
              "IC.BRE.DR.OS                B-READY: Dispute Resolution: Overall Score\n",
              "IC.BRE.DR.P1                B-READY: Dispute Resolution Pillar 1: Quality of Regulations for Dispute Resolution\n",
              "IC.BRE.DR.P2                B-READY: Dispute Resolution Pillar 2: Public Services for Dispute Resolution\n",
              "IC.BRE.DR.P3                B-READY: Dispute Resolution Pillar 3:  Ease of Resolving a Commercial Dispute\n",
              "IC.BRE.FS.OS                B-READY: Financial Services: Overall Score\n",
              "IC.BRE.FS.P1                B-READY: Financial Services Pillar 1: Quality of Regulations for Financial Services\n",
              "IC.BRE.FS.P2                B-READY: Financial Services Pillar 2: Accessibility of Information in Credit Infrastructure\n",
              "IC.BRE.FS.P3                B-READY: Financial Services Pillar 3: Operational Efficiency of Receiving Financial Services\n",
              "IC.BRE.IT.OS                B-READY: International Trade: Overall Score\n",
              "IC.BRE.IT.P1                B-READY: International Trade Pillar 1: Quality of Regulations for International Trade\n",
              "IC.BRE.IT.P2                B-READY: International Trade Pillar 2: Quality of Public Services for the Facilitation of International Trade\n",
              "IC.BRE.IT.P3                B-READY: International Trade Pillar 3: Efficiency of Importing Goods, Exporting Goods, and Engaging in Digital Trade\n",
              "IC.BRE.LB.OS                B-READY: Labor: Overall Score\n",
              "IC.BRE.LB.P1                B-READY: Labor Pillar 1: Quality of Labor Regulations\n",
              "IC.BRE.LB.P2                B-READY: Labor Pillar 2: Adequacy of Public Services for Labor\n",
              "IC.BRE.LB.P3                B-READY: Labor Pillar 3: Operational Efficiency of Labor Regulations and Public Services in Practice\n",
              "IC.BRE.MC.OS                B-READY: Market Competition: Overall Score\n",
              "IC.BRE.MC.P1                B-READY: Market Competition Pillar 1: Quality of Regulations that Promote Market Competition\n",
              "IC.BRE.MC.P2                B-READY: Market Competition Pillar 2: Public Services that Promote Market Competition\n",
              "IC.BRE.MC.P3                B-READY: Market Competition Pillar 3:  Implementation of Key Services Promoting Market Competition\n",
              "IC.BRE.P1.RF                B-READY: Pillar 1: Regulatory Framework\n",
              "IC.BRE.P2.PS                B-READY: Pillar 2: Public Services\n",
              "IC.BRE.P3.OE                B-READY: Pillar 3: Operational Efficiency\n",
              "IC.BRE.TX.OS                B-READY: Taxation: Overall Score\n",
              "IC.BRE.TX.P1                B-READY: Taxation Pillar 1: Quality of Regulations on Taxation\n",
              "IC.BRE.TX.P2                B-READY: Taxation Pillar 2: Public Services Provided by the Tax Administration\n",
              "IC.BRE.TX.P3                B-READY: Taxation Pillar 3: Operational Efficiency of Tax Systems in Practice\n",
              "IC.BRE.US.OS                B-READY: Utility Services: Overall Score\n",
              "IC.BRE.US.P1                B-READY: Utility Services Pillar 1: Quality of Regulations on Utility Services\n",
              "IC.BRE.US.P2                B-READY: Utility Services Pillar 2: Quality of Governance and Transparency of Utility Services\n",
              "IC.BRE.US.P3                B-READY: Utility Services Pillar 3: Operational Efficiency of Utility Service Provision\n",
              "IC.BUS.NDNS.ZS              New business density (new registrations per 1,000 people ages 15-64)\n",
              "IC.BUS.NREG                 New businesses registered (number)\n",
              "IC.CUS.DURS.EX              Average time to clear exports through customs (days)\n",
              "IC.CUS.DURS.IM              Average time to clear imports through customs (days)\n",
              "IC.ELC.DURS                 Time to obtain an electrical connection (days)\n",
              "IC.ELC.OUTG.ZS              Firms experiencing electrical outages (% of firms)\n",
              "IC.FRM.BKWC.ZS              Firms using banks to finance working capital (% of firms)\n",
              "IC.FRM.BNKL.ZS              Firms with a bank loan/line of credit (% of firms)\n",
              "IC.FRM.BNKS.ZS              Firms using banks to finance investment (% of firms)\n",
              "IC.FRM.BRIB.ZS              Bribery incidence (% of firms experiencing at least one bribe payment request)\n",
              "IC.FRM.CDP.ZS               Firms that use a third party to resolve commercial disputes (% of firms)\n",
              "IC.FRM.CMPU.ZS              Firms competing against unregistered firms (% of firms)\n",
              "IC.FRM.CO2.ZS               Firms monitoring own CO2 emissions (% of firms)\n",
              "IC.FRM.CORR.ZS              Informal payments to public officials (% of firms)\n",
              "IC.FRM.CRDC.FL.ZS           Firms that are fully credit constrained (% of firms)\n",
              "IC.FRM.CRDC.PT.ZS           Firms that are partially credit constrained (% of firms)\n",
              "IC.FRM.DURS                 Time required to obtain an operating license (days)\n",
              "IC.FRM.ENGM.ZS              Firms adopting energy management measures to reduce emissions (% of firms)\n",
              "IC.FRM.EXS.ZS               Firms exporting directly at least 10% of sales (% of firms)\n",
              "IC.FRM.FEMM.ZS              Firms with female top manager (% of firms)\n",
              "IC.FRM.FEMO.ZS              Firms with female participation in ownership (% of firms)\n",
              "IC.FRM.FO.ZS                Firms with at least 10% foreign ownership\n",
              "IC.FRM.FREG.ZS              Firms formally registered when operations started (% of firms)\n",
              "IC.FRM.INFM.ZS              Firms that do not report all sales for tax purposes (% of firms)\n",
              "IC.FRM.LOTM.ZS              Firms where largest owner is also the top manager (% of firms)\n",
              "IC.FRM.METG.ZS              Firms visited or required meetings with tax officials (% of firms)\n",
              "IC.FRM.NPRD.ZS              Firms that introduced a new product/service and process, and spent on R&D\n",
              "IC.FRM.OUTG.ZS              Value lost due to electrical outages (% of sales for affected firms)\n",
              "IC.FRM.TAXE.ZS              Firms filling taxes electronically (% of firms)\n",
              "IC.FRM.TRNG.ZS              Firms offering formal training (% of firms)\n",
              "IC.GOV.DURS.ZS              Time spent dealing with the requirements of government regulations (% of senior management time)\n",
              "IC.MNG.IND                  Management practices index\n",
              "IC.TAX.GIFT.ZS              Firms expected to give gifts in meetings with tax officials (% of firms)\n",
              "IC.TAX.METG                 Number of visits or required meetings with tax officials (average for affected firms)\n",
              "IE.PPI.ENGY.CD              Investment in energy with private participation (current US$)\n",
              "IE.PPI.ICTI.CD              Investment in ICT with private participation (current US$)\n",
              "IE.PPI.TRAN.CD              Investment in transport with private participation (current US$)\n",
              "IE.PPI.WATR.CD              Investment in water and sanitation with private participation (current US$)\n",
              "IE.PPN.ENGY.CD              Public private partnerships investment in energy (current US$)\n",
              "IE.PPN.ICTI.CD              Public private partnerships investment in ICT (current US$)\n",
              "IE.PPN.TRAN.CD              Public private partnerships investment in transport (current US$)\n",
              "IE.PPN.WATR.CD              Public private partnerships investment in water and sanitation (current US$)\n",
              "IP.IDS.NRCT                 Industrial design applications, nonresident, by count\n",
              "IP.IDS.RSCT                 Industrial design applications, resident, by count\n",
              "IP.JRN.ARTC.SC              Scientific and technical journal articles\n",
              "IP.PAT.NRES                 Patent applications, nonresidents\n",
              "IP.PAT.RESD                 Patent applications, residents\n",
              "IP.TMK.NRCT                 Trademark applications, nonresident, by count\n",
              "IP.TMK.RSCT                 Trademark applications, resident, by count\n",
              "IQ.CPA.BREG.XQ              CPIA business regulatory environment rating (1=low to 6=high)\n",
              "IQ.CPA.DEBT.XQ              CPIA debt policy rating (1=low to 6=high)\n",
              "IQ.CPA.ECON.XQ              CPIA economic management cluster average (1=low to 6=high)\n",
              "IQ.CPA.ENVR.XQ              CPIA policy and institutions for environmental sustainability rating (1=low to 6=high)\n",
              "IQ.CPA.FINQ.XQ              CPIA quality of budgetary and financial management rating (1=low to 6=high)\n",
              "IQ.CPA.FINS.XQ              CPIA financial sector rating (1=low to 6=high)\n",
              "IQ.CPA.FISP.XQ              CPIA fiscal policy rating (1=low to 6=high)\n",
              "IQ.CPA.GNDR.XQ              CPIA gender equality rating (1=low to 6=high)\n",
              "IQ.CPA.HRES.XQ              CPIA building human resources rating (1=low to 6=high)\n",
              "IQ.CPA.IRAI.XQ              IDA resource allocation index (1=low to 6=high)\n",
              "IQ.CPA.MACR.XQ              CPIA macroeconomic management rating (1=low to 6=high)\n",
              "IQ.CPA.PADM.XQ              CPIA quality of public administration rating (1=low to 6=high)\n",
              "IQ.CPA.PRES.XQ              CPIA equity of public resource use rating (1=low to 6=high)\n",
              "IQ.CPA.PROP.XQ              CPIA property rights and rule-based governance rating (1=low to 6=high)\n",
              "IQ.CPA.PROT.XQ              CPIA social protection rating (1=low to 6=high)\n",
              "IQ.CPA.PUBS.XQ              CPIA public sector management and institutions cluster average (1=low to 6=high)\n",
              "IQ.CPA.REVN.XQ              CPIA efficiency of revenue mobilization rating (1=low to 6=high)\n",
              "IQ.CPA.SOCI.XQ              CPIA policies for social inclusion/equity cluster average (1=low to 6=high)\n",
              "IQ.CPA.STRC.XQ              CPIA structural policies cluster average (1=low to 6=high)\n",
              "IQ.CPA.TRAD.XQ              CPIA trade rating (1=low to 6=high)\n",
              "IQ.CPA.TRAN.XQ              CPIA transparency, accountability, and corruption in the public sector rating (1=low to 6=high)\n",
              "IQ.SPI.OVRL                 Statistical performance indicators (SPI): Overall score (scale 0-100)\n",
              "IQ.SPI.PIL1                 Statistical performance indicators (SPI): Pillar 1 data use score (scale 0-100)\n",
              "IQ.SPI.PIL2                 Statistical performance indicators (SPI): Pillar 2 data services score (scale 0-100)\n",
              "IQ.SPI.PIL3                 Statistical performance indicators (SPI): Pillar 3 data products score  (scale 0-100)\n",
              "IQ.SPI.PIL4                 Statistical performance indicators (SPI): Pillar 4 data sources score (scale 0-100)\n",
              "IQ.SPI.PIL5                 Statistical performance indicators (SPI): Pillar 5 data infrastructure score (scale 0-100)\n",
              "IS.AIR.DPRT                 Air transport, registered carrier departures worldwide\n",
              "IS.AIR.GOOD.MT.K1           Air transport, freight (million ton-km)\n",
              "IS.AIR.PSGR                 Air transport, passengers carried\n",
              "IS.RRS.GOOD.MT.K6           Railways, goods transported (million ton-km)\n",
              "IS.RRS.PASG.KM              Railways, passengers carried (million passenger-km)\n",
              "IS.RRS.TOTL.KM              Rail lines (total route-km)\n",
              "IS.SHP.GCNW.XQ              Liner shipping connectivity index (maximum value in 2004 = 100)\n",
              "IS.SHP.GOOD.TU              Container port traffic (TEU: 20 foot equivalent units)\n",
              "IT.CEL.SETS                 Mobile cellular subscriptions\n",
              "IT.CEL.SETS.P2              Mobile cellular subscriptions (per 100 people)\n",
              "IT.MLT.MAIN                 Fixed telephone subscriptions\n",
              "IT.MLT.MAIN.P2              Fixed telephone subscriptions (per 100 people)\n",
              "IT.NET.BBND                 Fixed broadband subscriptions\n",
              "IT.NET.BBND.P2              Fixed broadband subscriptions (per 100 people)\n",
              "IT.NET.SECR                 Secure Internet servers\n",
              "IT.NET.SECR.P6              Secure Internet servers (per 1 million people)\n",
              "IT.NET.USER.FE.ZS           Individuals using the Internet, female (% of female population)\n",
              "IT.NET.USER.MA.ZS           Individuals using the Internet, male (% of male population)\n",
              "IT.NET.USER.ZS              Individuals using the Internet (% of population)\n",
              "LP.EXP.DURS.MD              Lead time to export, median case (days)\n",
              "LP.IMP.DURS.MD              Lead time to import, median case (days)\n",
              "LP.LPI.CUST.XQ              Logistics performance index: Efficiency of customs clearance process (1=low to 5=high)\n",
              "LP.LPI.INFR.XQ              Logistics performance index: Quality of trade and transport-related infrastructure (1=low to 5=high)\n",
              "LP.LPI.ITRN.XQ              Logistics performance index: Ease of arranging competitively priced shipments (1=low to 5=high)\n",
              "LP.LPI.LOGS.XQ              Logistics performance index: Competence and quality of logistics services (1=low to 5=high)\n",
              "LP.LPI.OVRL.XQ              Logistics performance index: Overall (1=low to 5=high)\n",
              "LP.LPI.TIME.XQ              Logistics performance index: Frequency with which shipments reach consignee within scheduled or expected time (1=low to 5=high)\n",
              "LP.LPI.TRAC.XQ              Logistics performance index: Ability to track and trace consignments (1=low to 5=high)\n",
              "MS.MIL.MPRT.KD              Arms imports (SIPRI trend indicator values)\n",
              "MS.MIL.TOTL.P1              Armed forces personnel, total\n",
              "MS.MIL.TOTL.TF.ZS           Armed forces personnel (% of total labor force)\n",
              "MS.MIL.XPND.CD              Military expenditure (current USD)\n",
              "MS.MIL.XPND.CN              Military expenditure (current LCU)\n",
              "MS.MIL.XPND.GD.ZS           Military expenditure (% of GDP)\n",
              "MS.MIL.XPND.ZS              Military expenditure (% of general government expenditure)\n",
              "MS.MIL.XPRT.KD              Arms exports (SIPRI trend indicator values)\n",
              "NE.CON.GOVT.CD              General government final consumption expenditure (current US$)\n",
              "NE.CON.GOVT.CN              General government final consumption expenditure (current LCU)\n",
              "NE.CON.GOVT.KD              General government final consumption expenditure (constant 2015 US$)\n",
              "NE.CON.GOVT.KD.ZG           General government final consumption expenditure (annual % growth)\n",
              "NE.CON.GOVT.KN              General government final consumption expenditure (constant LCU)\n",
              "NE.CON.GOVT.ZS              General government final consumption expenditure (% of GDP)\n",
              "NE.CON.PRVT.CD              Households and NPISHs Final consumption expenditure (current US$)\n",
              "NE.CON.PRVT.CN              Households and NPISHs Final consumption expenditure (current LCU)\n",
              "NE.CON.PRVT.CN.AD           Households and NPISHs final consumption expenditure: linked series (current LCU)\n",
              "NE.CON.PRVT.KD              Households and NPISHs Final consumption expenditure (constant 2015 US$)\n",
              "NE.CON.PRVT.KD.ZG           Households and NPISHs Final consumption expenditure (annual % growth)\n",
              "NE.CON.PRVT.KN              Households and NPISHs Final consumption expenditure (constant LCU)\n",
              "NE.CON.PRVT.PC.KD           Households and NPISHs Final consumption expenditure per capita (constant 2015 US$)\n",
              "NE.CON.PRVT.PC.KD.ZG        Households and NPISHs Final consumption expenditure per capita growth (annual %)\n",
              "NE.CON.PRVT.PP.CD           Households and NPISHs Final consumption expenditure, PPP (current international $)\n",
              "NE.CON.PRVT.PP.KD           Households and NPISHs Final consumption expenditure, PPP (constant 2021 international $)\n",
              "NE.CON.PRVT.ZS              Households and NPISHs final consumption expenditure (% of GDP)\n",
              "NE.CON.TOTL.CD              Final consumption expenditure (current US$)\n",
              "NE.CON.TOTL.CN              Final consumption expenditure (current LCU)\n",
              "NE.CON.TOTL.KD              Final consumption expenditure (constant 2015 US$)\n",
              "NE.CON.TOTL.KD.ZG           Final consumption expenditure (annual % growth)\n",
              "NE.CON.TOTL.KN              Final consumption expenditure (constant LCU)\n",
              "NE.CON.TOTL.ZS              Final consumption expenditure (% of GDP)\n",
              "NE.DAB.DEFL.ZS              Gross national expenditure deflator (base year varies by country)\n",
              "NE.DAB.TOTL.CD              Gross national expenditure (current US$)\n",
              "NE.DAB.TOTL.CN              Gross national expenditure (current LCU)\n",
              "NE.DAB.TOTL.KD              Gross national expenditure (constant 2015 US$)\n",
              "NE.DAB.TOTL.KN              Gross national expenditure (constant LCU)\n",
              "NE.DAB.TOTL.ZS              Gross national expenditure (% of GDP)\n",
              "NE.EXP.GNFS.CD              Exports of goods and services (current US$)\n",
              "NE.EXP.GNFS.CN              Exports of goods and services (current LCU)\n",
              "NE.EXP.GNFS.KD              Exports of goods and services (constant 2015 US$)\n",
              "NE.EXP.GNFS.KD.ZG           Exports of goods and services (annual % growth)\n",
              "NE.EXP.GNFS.KN              Exports of goods and services (constant LCU)\n",
              "NE.EXP.GNFS.ZS              Exports of goods and services (% of GDP)\n",
              "NE.GDI.FPRV.CN              Gross fixed capital formation, private sector (current LCU)\n",
              "NE.GDI.FPRV.ZS              Gross fixed capital formation, private sector (% of GDP)\n",
              "NE.GDI.FTOT.CD              Gross fixed capital formation (current US$)\n",
              "NE.GDI.FTOT.CN              Gross fixed capital formation (current LCU)\n",
              "NE.GDI.FTOT.KD              Gross fixed capital formation (constant 2015 US$)\n",
              "NE.GDI.FTOT.KD.ZG           Gross fixed capital formation (annual % growth)\n",
              "NE.GDI.FTOT.KN              Gross fixed capital formation (constant LCU)\n",
              "NE.GDI.FTOT.ZS              Gross fixed capital formation (% of GDP)\n",
              "NE.GDI.STKB.CD              Changes in inventories (current US$)\n",
              "NE.GDI.STKB.CN              Changes in inventories (current LCU)\n",
              "NE.GDI.STKB.KN              Changes in inventories (constant LCU)\n",
              "NE.GDI.TOTL.CD              Gross capital formation (current US$)\n",
              "NE.GDI.TOTL.CN              Gross capital formation (current LCU)\n",
              "NE.GDI.TOTL.KD              Gross capital formation (constant 2015 US$)\n",
              "NE.GDI.TOTL.KD.ZG           Gross capital formation (annual % growth)\n",
              "NE.GDI.TOTL.KN              Gross capital formation (constant LCU)\n",
              "NE.GDI.TOTL.ZS              Gross capital formation (% of GDP)\n",
              "NE.IMP.GNFS.CD              Imports of goods and services (current US$)\n",
              "NE.IMP.GNFS.CN              Imports of goods and services (current LCU)\n",
              "NE.IMP.GNFS.KD              Imports of goods and services (constant 2015 US$)\n",
              "NE.IMP.GNFS.KD.ZG           Imports of goods and services (annual % growth)\n",
              "NE.IMP.GNFS.KN              Imports of goods and services (constant LCU)\n",
              "NE.IMP.GNFS.ZS              Imports of goods and services (% of GDP)\n",
              "NE.RSB.GNFS.CD              External balance on goods and services (current US$)\n",
              "NE.RSB.GNFS.CN              External balance on goods and services (current LCU)\n",
              "NE.RSB.GNFS.KN              External balance on goods and services (constant LCU)\n",
              "NE.RSB.GNFS.ZS              External balance on goods and services (% of GDP)\n",
              "NE.TRD.GNFS.ZS              Trade (% of GDP)\n",
              "NV.AGR.EMPL.KD              Agriculture, forestry, and fishing, value added per worker (constant 2015 US$)\n",
              "NV.AGR.TOTL.CD              Agriculture, forestry, and fishing, value added (current US$)\n",
              "NV.AGR.TOTL.CN              Agriculture, forestry, and fishing, value added (current LCU)\n",
              "NV.AGR.TOTL.KD              Agriculture, forestry, and fishing, value added (constant 2015 US$)\n",
              "NV.AGR.TOTL.KD.ZG           Agriculture, forestry, and fishing, value added (annual % growth)\n",
              "NV.AGR.TOTL.KN              Agriculture, forestry, and fishing, value added (constant LCU)\n",
              "NV.AGR.TOTL.ZS              Agriculture, forestry, and fishing, value added (% of GDP)\n",
              "NV.FSM.TOTL.CN              Financial intermediary services indirectly Measured (FISIM) (current LCU)\n",
              "NV.FSM.TOTL.KN              Financial intermediary services indirectly Measured (FISIM) (constant LCU)\n",
              "NV.IND.EMPL.KD              Industry (including construction), value added per worker (constant 2015 US$)\n",
              "NV.IND.MANF.CD              Manufacturing, value added (current US$)\n",
              "NV.IND.MANF.CN              Manufacturing, value added (current LCU)\n",
              "NV.IND.MANF.KD              Manufacturing, value added (constant 2015 US$)\n",
              "NV.IND.MANF.KD.ZG           Manufacturing, value added (annual % growth)\n",
              "NV.IND.MANF.KN              Manufacturing, value added (constant LCU)\n",
              "NV.IND.MANF.ZS              Manufacturing, value added (% of GDP)\n",
              "NV.IND.TOTL.CD              Industry (including construction), value added (current US$)\n",
              "NV.IND.TOTL.CN              Industry (including construction), value added (current LCU)\n",
              "NV.IND.TOTL.KD              Industry (including construction), value added (constant 2015 US$)\n",
              "NV.IND.TOTL.KD.ZG           Industry (including construction), value added (annual % growth)\n",
              "NV.IND.TOTL.KN              Industry (including construction), value added (constant LCU)\n",
              "NV.IND.TOTL.ZS              Industry (including construction), value added (% of GDP)\n",
              "NV.MNF.CHEM.ZS.UN           Chemicals (% of value added in manufacturing)\n",
              "NV.MNF.FBTO.ZS.UN           Food, beverages and tobacco (% of value added in manufacturing)\n",
              "NV.MNF.MTRN.ZS.UN           Machinery and transport equipment (% of value added in manufacturing)\n",
              "NV.MNF.OTHR.ZS.UN           Other manufacturing (% of value added in manufacturing)\n",
              "NV.MNF.TECH.ZS.UN           Medium and high-tech manufacturing value added (% manufacturing value added)\n",
              "NV.MNF.TXTL.ZS.UN           Textiles and clothing (% of value added in manufacturing)\n",
              "NV.SRV.EMPL.KD              Services, value added per worker (constant 2015 US$)\n",
              "NV.SRV.TOTL.CD              Services, value added (current US$)\n",
              "NV.SRV.TOTL.CN              Services, value added (current LCU)\n",
              "NV.SRV.TOTL.KD              Services, value added (constant 2015 US$)\n",
              "NV.SRV.TOTL.KD.ZG           Services, value added (annual % growth)\n",
              "NV.SRV.TOTL.KN              Services, value added (constant LCU)\n",
              "NV.SRV.TOTL.ZS              Services, value added (% of GDP)\n",
              "NY.ADJ.AEDU.CD              Adjusted savings: education expenditure (current US$)\n",
              "NY.ADJ.AEDU.GN.ZS           Adjusted savings: education expenditure (% of GNI)\n",
              "NY.ADJ.DCO2.CD              Adjusted savings: carbon dioxide damage (current US$)\n",
              "NY.ADJ.DCO2.GN.ZS           Adjusted savings: carbon dioxide damage (% of GNI)\n",
              "NY.ADJ.DFOR.CD              Adjusted savings: net forest depletion (current US$)\n",
              "NY.ADJ.DFOR.GN.ZS           Adjusted savings: net forest depletion (% of GNI)\n",
              "NY.ADJ.DKAP.CD              Adjusted savings: consumption of fixed capital (current US$)\n",
              "NY.ADJ.DKAP.GN.ZS           Adjusted savings: consumption of fixed capital (% of GNI)\n",
              "NY.ADJ.DMIN.CD              Adjusted savings: mineral depletion (current US$)\n",
              "NY.ADJ.DMIN.GN.ZS           Adjusted savings: mineral depletion (% of GNI)\n",
              "NY.ADJ.DNGY.CD              Adjusted savings: energy depletion (current US$)\n",
              "NY.ADJ.DNGY.GN.ZS           Adjusted savings: energy depletion (% of GNI)\n",
              "NY.ADJ.DPEM.CD              Adjusted savings: particulate emission damage (current US$)\n",
              "NY.ADJ.DPEM.GN.ZS           Adjusted savings: particulate emission damage (% of GNI)\n",
              "NY.ADJ.DRES.GN.ZS           Adjusted savings: natural resources depletion (% of GNI)\n",
              "NY.ADJ.ICTR.GN.ZS           Adjusted savings: gross savings (% of GNI)\n",
              "NY.ADJ.NNAT.CD              Adjusted savings: net national savings (current US$)\n",
              "NY.ADJ.NNAT.GN.ZS           Adjusted savings: net national savings (% of GNI)\n",
              "NY.ADJ.NNTY.CD              Adjusted net national income (current US$)\n",
              "NY.ADJ.NNTY.KD              Adjusted net national income (constant 2015 US$)\n",
              "NY.ADJ.NNTY.KD.ZG           Adjusted net national income (annual % growth)\n",
              "NY.ADJ.NNTY.PC.CD           Adjusted net national income per capita (current US$)\n",
              "NY.ADJ.NNTY.PC.KD           Adjusted net national income per capita (constant 2015 US$)\n",
              "NY.ADJ.NNTY.PC.KD.ZG        Adjusted net national income per capita (annual % growth)\n",
              "NY.ADJ.SVNG.CD              Adjusted net savings, including particulate emission damage (current US$)\n",
              "NY.ADJ.SVNG.GN.ZS           Adjusted net savings, including particulate emission damage (% of GNI)\n",
              "NY.ADJ.SVNX.CD              Adjusted net savings, excluding particulate emission damage (current US$)\n",
              "NY.ADJ.SVNX.GN.ZS           Adjusted net savings, excluding particulate emission damage (% of GNI)\n",
              "NY.EXP.CAPM.KN              Exports as a capacity to import (constant LCU)\n",
              "NY.GDP.COAL.RT.ZS           Coal rents (% of GDP)\n",
              "NY.GDP.DEFL.KD.ZG           Inflation, GDP deflator (annual %)\n",
              "NY.GDP.DEFL.KD.ZG.AD        Inflation, GDP deflator: linked series (annual %)\n",
              "NY.GDP.DEFL.ZS              GDP deflator (base year varies by country)\n",
              "NY.GDP.DEFL.ZS.AD           GDP deflator: linked series (base year varies by country)\n",
              "NY.GDP.DISC.CN              Discrepancy in expenditure estimate of GDP (current LCU)\n",
              "NY.GDP.DISC.KN              Discrepancy in expenditure estimate of GDP (constant LCU)\n",
              "NY.GDP.FCST.CD              Gross value added at basic prices (GVA) (current US$)\n",
              "NY.GDP.FCST.CN              Gross value added at basic prices (GVA) (current LCU)\n",
              "NY.GDP.FCST.KD              Gross value added at basic prices (GVA) (constant 2015 US$)\n",
              "NY.GDP.FCST.KN              Gross value added at basic prices (GVA) (constant LCU)\n",
              "NY.GDP.FRST.RT.ZS           Forest rents (% of GDP)\n",
              "NY.GDP.MINR.RT.ZS           Mineral rents (% of GDP)\n",
              "NY.GDP.MKTP.CD              GDP (current US$)\n",
              "NY.GDP.MKTP.CN              GDP (current LCU)\n",
              "NY.GDP.MKTP.CN.AD           GDP: linked series (current LCU)\n",
              "NY.GDP.MKTP.KD              GDP (constant 2015 US$)\n",
              "NY.GDP.MKTP.KD.ZG           GDP growth (annual %)\n",
              "NY.GDP.MKTP.KN              GDP (constant LCU)\n",
              "NY.GDP.MKTP.PP.CD           GDP, PPP (current international $)\n",
              "NY.GDP.MKTP.PP.KD           GDP, PPP (constant 2021 international $)\n",
              "NY.GDP.NGAS.RT.ZS           Natural gas rents (% of GDP)\n",
              "NY.GDP.PCAP.CD              GDP per capita (current US$)\n",
              "NY.GDP.PCAP.CN              GDP per capita (current LCU)\n",
              "NY.GDP.PCAP.KD              GDP per capita (constant 2015 US$)\n",
              "NY.GDP.PCAP.KD.ZG           GDP per capita growth (annual %)\n",
              "NY.GDP.PCAP.KN              GDP per capita (constant LCU)\n",
              "NY.GDP.PCAP.PP.CD           GDP per capita, PPP (current international $)\n",
              "NY.GDP.PCAP.PP.KD           GDP per capita, PPP (constant 2021 international $)\n",
              "NY.GDP.PETR.RT.ZS           Oil rents (% of GDP)\n",
              "NY.GDP.TOTL.RT.ZS           Total natural resources rents (% of GDP)\n",
              "NY.GDS.TOTL.CD              Gross domestic savings (current US$)\n",
              "NY.GDS.TOTL.CN              Gross domestic savings (current LCU)\n",
              "NY.GDS.TOTL.ZS              Gross domestic savings (% of GDP)\n",
              "NY.GDY.TOTL.KN              Gross domestic income (constant LCU)\n",
              "NY.GNP.ATLS.CD              GNI, Atlas method (current US$)\n",
              "NY.GNP.MKTP.CD              GNI (current US$)\n",
              "NY.GNP.MKTP.CN              GNI (current LCU)\n",
              "NY.GNP.MKTP.CN.AD           GNI: linked series (current LCU)\n",
              "NY.GNP.MKTP.KD              GNI (constant 2015 US$)\n",
              "NY.GNP.MKTP.KD.ZG           GNI growth (annual %)\n",
              "NY.GNP.MKTP.KN              GNI (constant LCU)\n",
              "NY.GNP.MKTP.PP.CD           GNI, PPP (current international $)\n",
              "NY.GNP.MKTP.PP.KD           GNI, PPP (constant 2021 international $)\n",
              "NY.GNP.PCAP.CD              GNI per capita, Atlas method (current US$)\n",
              "NY.GNP.PCAP.CN              GNI per capita (current LCU)\n",
              "NY.GNP.PCAP.KD              GNI per capita (constant 2015 US$)\n",
              "NY.GNP.PCAP.KD.ZG           GNI per capita growth (annual %)\n",
              "NY.GNP.PCAP.KN              GNI per capita (constant LCU)\n",
              "NY.GNP.PCAP.PP.CD           GNI per capita, PPP (current international $)\n",
              "NY.GNP.PCAP.PP.KD           GNI per capita, PPP (constant 2021 international $)\n",
              "NY.GNS.ICTR.CD              Gross savings (current US$)\n",
              "NY.GNS.ICTR.CN              Gross savings (current LCU)\n",
              "NY.GNS.ICTR.GN.ZS           Gross savings (% of GNI)\n",
              "NY.GNS.ICTR.ZS              Gross savings (% of GDP)\n",
              "NY.GSR.NFCY.CD              Net primary income (Net income from abroad) (current US$)\n",
              "NY.GSR.NFCY.CN              Net primary income (Net income from abroad) (current LCU)\n",
              "NY.GSR.NFCY.KN              Net primary income (Net income from abroad) (constant LCU)\n",
              "NY.TAX.NIND.CD              Taxes less subsidies on products (current US$)\n",
              "NY.TAX.NIND.CN              Taxes less subsidies on products (current LCU)\n",
              "NY.TAX.NIND.KN              Taxes less subsidies on products (constant LCU)\n",
              "NY.TRF.NCTR.CD              Net secondary income (Net current transfers from abroad) (current US$)\n",
              "NY.TRF.NCTR.CN              Net secondary income (Net current transfers from abroad) (current LCU)\n",
              "NY.TRF.NCTR.KN              Net secondary income (Net current transfers from abroad) (constant LCU)\n",
              "NY.TTF.GNFS.KN              Terms of trade adjustment (constant LCU)\n",
              "PA.NUS.ATLS                 DEC alternative conversion factor (LCU per US$)\n",
              "PA.NUS.FCRF                 Official exchange rate (LCU per US$, period average)\n",
              "PA.NUS.PPP                  PPP conversion factor, GDP (LCU per international $)\n",
              "PA.NUS.PPPC.RF              Price level ratio of PPP conversion factor (GDP) to market exchange rate\n",
              "PA.NUS.PRVT.PP              PPP conversion factor, private consumption (LCU per international $)\n",
              "per_allsp.adq_pop_tot       Adequacy of social protection and labor programs (% of total welfare of beneficiary households)\n",
              "per_allsp.ben_q1_tot        Benefit incidence of social protection and labor programs to poorest quintile (% of total SPL benefits)\n",
              "per_allsp.cov_pop_tot       Coverage of social protection and labor programs (% of population)\n",
              "per_lm_alllm.adq_pop_tot    Adequacy of unemployment benefits and ALMP (% of total welfare of beneficiary households)\n",
              "per_lm_alllm.ben_q1_tot     Benefit incidence of unemployment benefits and ALMP to poorest quintile (% of total U/ALMP benefits)\n",
              "per_lm_alllm.cov_pop_tot    Coverage of unemployment benefits and ALMP (% of population)\n",
              "per_lm_alllm.cov_q1_tot     Coverage of unemployment benefits and ALMP in poorest quintile (% of population)\n",
              "per_lm_alllm.cov_q2_tot     Coverage of unemployment benefits and ALMP in 2nd quintile (% of population)\n",
              "per_lm_alllm.cov_q3_tot     Coverage of unemployment benefits and ALMP in 3rd quintile (% of population)\n",
              "per_lm_alllm.cov_q4_tot     Coverage of unemployment benefits and ALMP in 4th quintile (% of population)\n",
              "per_lm_alllm.cov_q5_tot     Coverage of unemployment benefits and ALMP in richest quintile (% of population)\n",
              "per_sa_allsa.adq_pop_tot    Adequacy of social safety net programs (% of total welfare of beneficiary households)\n",
              "per_sa_allsa.ben_q1_tot     Benefit incidence of social safety net programs to poorest quintile (% of total safety net benefits)\n",
              "per_sa_allsa.cov_pop_tot    Coverage of social safety net programs (% of population)\n",
              "per_sa_allsa.cov_q1_tot     Coverage of social safety net programs in poorest quintile (% of population)\n",
              "per_sa_allsa.cov_q2_tot     Coverage of social safety net programs in 2nd quintile (% of population)\n",
              "per_sa_allsa.cov_q3_tot     Coverage of social safety net programs in 3rd quintile (% of population)\n",
              "per_sa_allsa.cov_q4_tot     Coverage of social safety net programs in 4th quintile (% of population)\n",
              "per_sa_allsa.cov_q5_tot     Coverage of social safety net programs in richest quintile (% of population)\n",
              "per_si_allsi.adq_pop_tot    Adequacy of social insurance programs (% of total welfare of beneficiary households)\n",
              "per_si_allsi.ben_q1_tot     Benefit incidence of social insurance programs to poorest quintile (% of total social insurance benefits)\n",
              "per_si_allsi.cov_pop_tot    Coverage of social insurance programs (% of population)\n",
              "per_si_allsi.cov_q1_tot     Coverage of social insurance programs in poorest quintile (% of population)\n",
              "per_si_allsi.cov_q2_tot     Coverage of social insurance programs in 2nd quintile (% of population)\n",
              "per_si_allsi.cov_q3_tot     Coverage of social insurance programs in 3rd quintile (% of population)\n",
              "per_si_allsi.cov_q4_tot     Coverage of social insurance programs in 4th quintile (% of population)\n",
              "per_si_allsi.cov_q5_tot     Coverage of social insurance programs in richest quintile (% of population)\n",
              "PV.EST                      Political Stability and Absence of Violence/Terrorism: Estimate\n",
              "PV.NO.SRC                   Political Stability and Absence of Violence/Terrorism: Number of Sources\n",
              "PV.PER.RNK                  Political Stability and Absence of Violence/Terrorism: Percentile Rank\n",
              "PV.PER.RNK.LOWER            Political Stability and Absence of Violence/Terrorism: Percentile Rank, Lower Bound of 90% Confidence Interval\n",
              "PV.PER.RNK.UPPER            Political Stability and Absence of Violence/Terrorism: Percentile Rank, Upper Bound of 90% Confidence Interval\n",
              "PV.STD.ERR                  Political Stability and Absence of Violence/Terrorism: Standard Error\n",
              "PX.REX.REER                 Real effective exchange rate index (2010 = 100)\n",
              "RL.EST                      Rule of Law: Estimate\n",
              "RL.NO.SRC                   Rule of Law: Number of Sources\n",
              "RL.PER.RNK                  Rule of Law: Percentile Rank\n",
              "RL.PER.RNK.LOWER            Rule of Law: Percentile Rank, Lower Bound of 90% Confidence Interval\n",
              "RL.PER.RNK.UPPER            Rule of Law: Percentile Rank, Upper Bound of 90% Confidence Interval\n",
              "RL.STD.ERR                  Rule of Law: Standard Error\n",
              "RQ.EST                      Regulatory Quality: Estimate\n",
              "RQ.NO.SRC                   Regulatory Quality: Number of Sources\n",
              "RQ.PER.RNK                  Regulatory Quality: Percentile Rank\n",
              "RQ.PER.RNK.LOWER            Regulatory Quality: Percentile Rank, Lower Bound of 90% Confidence Interval\n",
              "RQ.PER.RNK.UPPER            Regulatory Quality: Percentile Rank, Upper Bound of 90% Confidence Interval\n",
              "RQ.STD.ERR                  Regulatory Quality: Standard Error\n",
              "SE.ADT.1524.LT.FE.ZS        Literacy rate, youth female (% of females ages 15-24)\n",
              "SE.ADT.1524.LT.FM.ZS        Literacy rate, youth (ages 15-24), gender parity index (GPI)\n",
              "SE.ADT.1524.LT.MA.ZS        Literacy rate, youth male (% of males ages 15-24)\n",
              "SE.ADT.1524.LT.ZS           Literacy rate, youth total (% of people ages 15-24)\n",
              "SE.ADT.LITR.FE.ZS           Literacy rate, adult female (% of females ages 15 and above)\n",
              "SE.ADT.LITR.MA.ZS           Literacy rate, adult male (% of males ages 15 and above)\n",
              "SE.ADT.LITR.ZS              Literacy rate, adult total (% of people ages 15 and above)\n",
              "SE.COM.DURS                 Compulsory education, duration (years)\n",
              "SE.ENR.PRIM.FM.ZS           School enrollment, primary (gross), gender parity index (GPI)\n",
              "SE.ENR.PRSC.FM.ZS           School enrollment, primary and secondary (gross), gender parity index (GPI)\n",
              "SE.ENR.SECO.FM.ZS           School enrollment, secondary (gross), gender parity index (GPI)\n",
              "SE.ENR.TERT.FM.ZS           School enrollment, tertiary (gross), gender parity index (GPI)\n",
              "SE.LPV.PRIM                 Learning poverty: Share of Children at the End-of-Primary age below minimum reading proficiency adjusted by Out-of-School Children (%)\n",
              "SE.LPV.PRIM.FE              Learning poverty: Share of Female Children at the End-of-Primary age below minimum reading proficiency adjusted by Out-of-School Children (%)\n",
              "SE.LPV.PRIM.LD              Pupils below minimum reading proficiency at end of primary (%). Low GAML threshold\n",
              "SE.LPV.PRIM.LD.FE           Female pupils below minimum reading proficiency at end of primary (%). Low GAML threshold\n",
              "SE.LPV.PRIM.LD.MA           Male pupils below minimum reading proficiency at end of primary (%). Low GAML threshold\n",
              "SE.LPV.PRIM.MA              Learning poverty: Share of Male Children at the End-of-Primary age below minimum reading proficiency adjusted by Out-of-School Children (%)\n",
              "SE.LPV.PRIM.SD              Primary school age children out-of-school (%)\n",
              "SE.LPV.PRIM.SD.FE           Female primary school age children out-of-school (%)\n",
              "SE.LPV.PRIM.SD.MA           Male primary school age children out-of-school (%)\n",
              "SE.PRE.DURS                 Preprimary education, duration (years)\n",
              "SE.PRE.ENRL.TC.ZS           Pupil-teacher ratio, preprimary\n",
              "SE.PRE.ENRR                 School enrollment, preprimary (% gross)\n",
              "SE.PRE.ENRR.FE              School enrollment, preprimary, female (% gross)\n",
              "SE.PRE.ENRR.MA              School enrollment, preprimary, male (% gross)\n",
              "SE.PRE.TCAQ.FE.ZS           Trained teachers in preprimary education, female (% of female teachers)\n",
              "SE.PRE.TCAQ.MA.ZS           Trained teachers in preprimary education, male (% of male teachers)\n",
              "SE.PRE.TCAQ.ZS              Trained teachers in preprimary education (% of total teachers)\n",
              "SE.PRM.AGES                 Primary school starting age (years)\n",
              "SE.PRM.CMPT.FE.ZS           Primary completion rate, female (% of relevant age group)\n",
              "SE.PRM.CMPT.MA.ZS           Primary completion rate, male (% of relevant age group)\n",
              "SE.PRM.CMPT.ZS              Primary completion rate, total (% of relevant age group)\n",
              "SE.PRM.CUAT.FE.ZS           Educational attainment, at least completed primary, population 25+ years, female (%) (cumulative)\n",
              "SE.PRM.CUAT.MA.ZS           Educational attainment, at least completed primary, population 25+ years, male (%) (cumulative)\n",
              "SE.PRM.CUAT.ZS              Educational attainment, at least completed primary, population 25+ years, total (%) (cumulative)\n",
              "SE.PRM.DURS                 Primary education, duration (years)\n",
              "SE.PRM.ENRL                 Primary education, pupils\n",
              "SE.PRM.ENRL.FE.ZS           Primary education, pupils (% female)\n",
              "SE.PRM.ENRL.TC.ZS           Pupil-teacher ratio, primary\n",
              "SE.PRM.ENRR                 School enrollment, primary (% gross)\n",
              "SE.PRM.ENRR.FE              School enrollment, primary, female (% gross)\n",
              "SE.PRM.ENRR.MA              School enrollment, primary, male (% gross)\n",
              "SE.PRM.GINT.FE.ZS           Gross intake ratio in first grade of primary education, female (% of relevant age group)\n",
              "SE.PRM.GINT.MA.ZS           Gross intake ratio in first grade of primary education, male (% of relevant age group)\n",
              "SE.PRM.GINT.ZS              Gross intake ratio in first grade of primary education, total (% of relevant age group)\n",
              "SE.PRM.NENR                 School enrollment, primary (% net)\n",
              "SE.PRM.NENR.FE              School enrollment, primary, female (% net)\n",
              "SE.PRM.NENR.MA              School enrollment, primary, male (% net)\n",
              "SE.PRM.NINT.FE.ZS           Net intake rate in grade 1, female (% of official school-age population)\n",
              "SE.PRM.NINT.MA.ZS           Net intake rate in grade 1, male (% of official school-age population)\n",
              "SE.PRM.NINT.ZS              Net intake rate in grade 1 (% of official school-age population)\n",
              "SE.PRM.OENR.FE.ZS           Over-age students, primary, female (% of female enrollment)\n",
              "SE.PRM.OENR.MA.ZS           Over-age students, primary, male (% of male enrollment)\n",
              "SE.PRM.OENR.ZS              Over-age students, primary (% of enrollment)\n",
              "SE.PRM.PRIV.ZS              School enrollment, primary, private (% of total primary)\n",
              "SE.PRM.PRS5.FE.ZS           Persistence to grade 5, female (% of cohort)\n",
              "SE.PRM.PRS5.MA.ZS           Persistence to grade 5, male (% of cohort)\n",
              "SE.PRM.PRS5.ZS              Persistence to grade 5, total (% of cohort)\n",
              "SE.PRM.PRSL.FE.ZS           Persistence to last grade of primary, female (% of cohort)\n",
              "SE.PRM.PRSL.MA.ZS           Persistence to last grade of primary, male (% of cohort)\n",
              "SE.PRM.PRSL.ZS              Persistence to last grade of primary, total (% of cohort)\n",
              "SE.PRM.REPT.FE.ZS           Repeaters, primary, female (% of female enrollment)\n",
              "SE.PRM.REPT.MA.ZS           Repeaters, primary, male (% of male enrollment)\n",
              "SE.PRM.REPT.ZS              Repeaters, primary, total (% of total enrollment)\n",
              "SE.PRM.TCAQ.FE.ZS           Trained teachers in primary education, female (% of female teachers)\n",
              "SE.PRM.TCAQ.MA.ZS           Trained teachers in primary education, male (% of male teachers)\n",
              "SE.PRM.TCAQ.ZS              Trained teachers in primary education (% of total teachers)\n",
              "SE.PRM.TCHR                 Primary education, teachers\n",
              "SE.PRM.TCHR.FE.ZS           Primary education, teachers (% female)\n",
              "SE.PRM.TENR                 Adjusted net enrollment rate, primary (% of primary school age children)\n",
              "SE.PRM.TENR.FE              Adjusted net enrollment rate, primary, female (% of primary school age children)\n",
              "SE.PRM.TENR.MA              Adjusted net enrollment rate, primary, male (% of primary school age children)\n",
              "SE.PRM.UNER                 Children out of school, primary\n",
              "SE.PRM.UNER.FE              Children out of school, primary, female\n",
              "SE.PRM.UNER.FE.ZS           Children out of school, female (% of female primary school age)\n",
              "SE.PRM.UNER.MA              Children out of school, primary, male\n",
              "SE.PRM.UNER.MA.ZS           Children out of school, male (% of male primary school age)\n",
              "SE.PRM.UNER.ZS              Children out of school (% of primary school age)\n",
              "SE.SEC.AGES                 Lower secondary school starting age (years)\n",
              "SE.SEC.CMPT.LO.FE.ZS        Lower secondary completion rate, female (% of relevant age group)\n",
              "SE.SEC.CMPT.LO.MA.ZS        Lower secondary completion rate, male (% of relevant age group)\n",
              "SE.SEC.CMPT.LO.ZS           Lower secondary completion rate, total (% of relevant age group)\n",
              "SE.SEC.CUAT.LO.FE.ZS        Educational attainment, at least completed lower secondary, population 25+, female (%) (cumulative)\n",
              "SE.SEC.CUAT.LO.MA.ZS        Educational attainment, at least completed lower secondary, population 25+, male (%) (cumulative)\n",
              "SE.SEC.CUAT.LO.ZS           Educational attainment, at least completed lower secondary, population 25+, total (%) (cumulative)\n",
              "SE.SEC.CUAT.PO.FE.ZS        Educational attainment, at least completed post-secondary, population 25+, female (%) (cumulative)\n",
              "SE.SEC.CUAT.PO.MA.ZS        Educational attainment, at least completed post-secondary, population 25+, male (%) (cumulative)\n",
              "SE.SEC.CUAT.PO.ZS           Educational attainment, at least completed post-secondary, population 25+, total (%) (cumulative)\n",
              "SE.SEC.CUAT.UP.FE.ZS        Educational attainment, at least completed upper secondary, population 25+, female (%) (cumulative)\n",
              "SE.SEC.CUAT.UP.MA.ZS        Educational attainment, at least completed upper secondary, population 25+, male (%) (cumulative)\n",
              "SE.SEC.CUAT.UP.ZS           Educational attainment, at least completed upper secondary, population 25+, total (%) (cumulative)\n",
              "SE.SEC.DURS                 Secondary education, duration (years)\n",
              "SE.SEC.ENRL                 Secondary education, pupils\n",
              "SE.SEC.ENRL.FE.ZS           Secondary education, pupils (% female)\n",
              "SE.SEC.ENRL.GC              Secondary education, general pupils\n",
              "SE.SEC.ENRL.GC.FE.ZS        Secondary education, general pupils (% female)\n",
              "SE.SEC.ENRL.LO.TC.ZS        Pupil-teacher ratio, lower secondary\n",
              "SE.SEC.ENRL.TC.ZS           Pupil-teacher ratio, secondary\n",
              "SE.SEC.ENRL.UP.TC.ZS        Pupil-teacher ratio, upper secondary\n",
              "SE.SEC.ENRL.VO              Secondary education, vocational pupils\n",
              "SE.SEC.ENRL.VO.FE.ZS        Secondary education, vocational pupils (% female)\n",
              "SE.SEC.ENRR                 School enrollment, secondary (% gross)\n",
              "SE.SEC.ENRR.FE              School enrollment, secondary, female (% gross)\n",
              "SE.SEC.ENRR.MA              School enrollment, secondary, male (% gross)\n",
              "SE.SEC.NENR                 School enrollment, secondary (% net)\n",
              "SE.SEC.NENR.FE              School enrollment, secondary, female (% net)\n",
              "SE.SEC.NENR.MA              School enrollment, secondary, male (% net)\n",
              "SE.SEC.PRIV.ZS              School enrollment, secondary, private (% of total secondary)\n",
              "SE.SEC.PROG.FE.ZS           Progression to secondary school, female (%)\n",
              "SE.SEC.PROG.MA.ZS           Progression to secondary school, male (%)\n",
              "SE.SEC.PROG.ZS              Progression to secondary school (%)\n",
              "SE.SEC.TCAQ.FE.ZS           Trained teachers in secondary education, female (% of female teachers)\n",
              "SE.SEC.TCAQ.LO.FE.ZS        Trained teachers in lower secondary education, female (% of female teachers)\n",
              "SE.SEC.TCAQ.LO.MA.ZS        Trained teachers in lower secondary education, male (% of male teachers)\n",
              "SE.SEC.TCAQ.LO.ZS           Trained teachers in lower secondary education (% of total teachers)\n",
              "SE.SEC.TCAQ.MA.ZS           Trained teachers in secondary education, male (% of male teachers)\n",
              "SE.SEC.TCAQ.UP.FE.ZS        Trained teachers in upper secondary education, female (% of female teachers)\n",
              "SE.SEC.TCAQ.UP.MA.ZS        Trained teachers in upper secondary education, male (% of male teachers)\n",
              "SE.SEC.TCAQ.UP.ZS           Trained teachers in upper secondary education (% of total teachers)\n",
              "SE.SEC.TCAQ.ZS              Trained teachers in secondary education (% of total teachers)\n",
              "SE.SEC.TCHR                 Secondary education, teachers\n",
              "SE.SEC.TCHR.FE              Secondary education, teachers, female\n",
              "SE.SEC.TCHR.FE.ZS           Secondary education, teachers (% female)\n",
              "SE.SEC.UNER.LO.FE.ZS        Adolescents out of school, female (% of female lower secondary school age)\n",
              "SE.SEC.UNER.LO.MA.ZS        Adolescents out of school, male (% of male lower secondary school age)\n",
              "SE.SEC.UNER.LO.ZS           Adolescents out of school (% of lower secondary school age)\n",
              "SE.TER.CUAT.BA.FE.ZS        Educational attainment, at least Bachelor's or equivalent, population 25+, female (%) (cumulative)\n",
              "SE.TER.CUAT.BA.MA.ZS        Educational attainment, at least Bachelor's or equivalent, population 25+, male (%) (cumulative)\n",
              "SE.TER.CUAT.BA.ZS           Educational attainment, at least Bachelor's or equivalent, population 25+, total (%) (cumulative)\n",
              "SE.TER.CUAT.DO.FE.ZS        Educational attainment, Doctoral or equivalent, population 25+, female (%) (cumulative)\n",
              "SE.TER.CUAT.DO.MA.ZS        Educational attainment, Doctoral or equivalent, population 25+, male (%) (cumulative)\n",
              "SE.TER.CUAT.DO.ZS           Educational attainment, Doctoral or equivalent, population 25+, total (%) (cumulative)\n",
              "SE.TER.CUAT.MS.FE.ZS        Educational attainment, at least Master's or equivalent, population 25+, female (%) (cumulative)\n",
              "SE.TER.CUAT.MS.MA.ZS        Educational attainment, at least Master's or equivalent, population 25+, male (%) (cumulative)\n",
              "SE.TER.CUAT.MS.ZS           Educational attainment, at least Master's or equivalent, population 25+, total (%) (cumulative)\n",
              "SE.TER.CUAT.ST.FE.ZS        Educational attainment, at least completed short-cycle tertiary, population 25+, female (%) (cumulative)\n",
              "SE.TER.CUAT.ST.MA.ZS        Educational attainment, at least completed short-cycle tertiary, population 25+, male (%) (cumulative)\n",
              "SE.TER.CUAT.ST.ZS           Educational attainment, at least completed short-cycle tertiary, population 25+, total (%) (cumulative)\n",
              "SE.TER.ENRL.TC.ZS           Pupil-teacher ratio, tertiary\n",
              "SE.TER.ENRR                 School enrollment, tertiary (% gross)\n",
              "SE.TER.ENRR.FE              School enrollment, tertiary, female (% gross)\n",
              "SE.TER.ENRR.MA              School enrollment, tertiary, male (% gross)\n",
              "SE.TER.TCHR.FE.ZS           Tertiary education, academic staff (% female)\n",
              "SE.XPD.CPRM.ZS              Current education expenditure, primary (% of total expenditure in primary public institutions)\n",
              "SE.XPD.CSEC.ZS              Current education expenditure, secondary (% of total expenditure in secondary public institutions)\n",
              "SE.XPD.CTER.ZS              Current education expenditure, tertiary (% of total expenditure in tertiary public institutions)\n",
              "SE.XPD.CTOT.ZS              Current education expenditure, total (% of total expenditure in public institutions)\n",
              "SE.XPD.PRIM.PC.ZS           Government expenditure per student, primary (% of GDP per capita)\n",
              "SE.XPD.PRIM.ZS              Expenditure on primary education (% of government expenditure on education)\n",
              "SE.XPD.SECO.PC.ZS           Government expenditure per student, secondary (% of GDP per capita)\n",
              "SE.XPD.SECO.ZS              Expenditure on secondary education (% of government expenditure on education)\n",
              "SE.XPD.TERT.PC.ZS           Government expenditure per student, tertiary (% of GDP per capita)\n",
              "SE.XPD.TERT.ZS              Expenditure on tertiary education (% of government expenditure on education)\n",
              "SE.XPD.TOTL.GB.ZS           Government expenditure on education, total (% of government expenditure)\n",
              "SE.XPD.TOTL.GD.ZS           Government expenditure on education, total (% of GDP)\n",
              "SG.DMK.ALLD.FN.ZS           Women participating in the three decisions (own health care, major household purchases, and visiting family) (% of women age 15-49)\n",
              "SG.DMK.SRCR.FN.ZS           Women making their own informed decisions regarding sexual relations, contraceptive use and reproductive health care (% of women age 15-49)\n",
              "SG.GEN.PARL.ZS              Proportion of seats held by women in national parliaments (%)\n",
              "SG.LAW.INDX                 Women Business and the Law Index Score (scale 1-100)\n",
              "SG.TIM.UWRK.FE              Proportion of time spent on unpaid domestic and care work, female (% of 24 hour day)\n",
              "SG.TIM.UWRK.MA              Proportion of time spent on unpaid domestic and care work, male (% of 24 hour day)\n",
              "SG.VAW.1549.ZS              Proportion of women subjected to physical and/or sexual violence in the last 12 months (% of ever-partnered women ages 15-49)\n",
              "SG.VAW.ARGU.ZS              Women who believe a husband is justified in beating his wife when she argues with him (%)\n",
              "SG.VAW.BURN.ZS              Women who believe a husband is justified in beating his wife when she burns the food (%)\n",
              "SG.VAW.GOES.ZS              Women who believe a husband is justified in beating his wife when she goes out without telling him (%)\n",
              "SG.VAW.NEGL.ZS              Women who believe a husband is justified in beating his wife when she neglects the children (%)\n",
              "SG.VAW.REAS.ZS              Women who believe a husband is justified in beating his wife (any of five reasons) (%)\n",
              "SG.VAW.REFU.ZS              Women who believe a husband is justified in beating his wife when she refuses sex with him (%)\n",
              "SH.ALC.PCAP.FE.LI           Total alcohol consumption per capita, female (liters of pure alcohol, projected estimates, female 15+ years of age)\n",
              "SH.ALC.PCAP.LI              Total alcohol consumption per capita (liters of pure alcohol, projected estimates, 15+ years of age)\n",
              "SH.ALC.PCAP.MA.LI           Total alcohol consumption per capita, male (liters of pure alcohol, projected estimates, male 15+ years of age)\n",
              "SH.ANM.ALLW.ZS              Prevalence of anemia among women of reproductive age (% of women ages 15-49)\n",
              "SH.ANM.CHLD.ZS              Prevalence of anemia among children (% of children ages 6-59 months)\n",
              "SH.ANM.NPRG.ZS              Prevalence of anemia among non-pregnant women (% of women ages 15-49)\n",
              "SH.CON.1524.FE.ZS           Condom use, population ages 15-24, female (% of females ages 15-24)\n",
              "SH.CON.1524.MA.ZS           Condom use, population ages 15-24, male (% of males ages 15-24)\n",
              "SH.DTH.0509                 Number of deaths ages 5-9 years\n",
              "SH.DTH.1014                 Number of deaths ages 10-14 years\n",
              "SH.DTH.1519                 Number of deaths ages 15-19 years\n",
              "SH.DTH.2024                 Number of deaths ages 20-24 years\n",
              "SH.DTH.COMM.ZS              Cause of death, by communicable diseases and maternal, prenatal and nutrition conditions (% of total)\n",
              "SH.DTH.IMRT                 Number of infant deaths\n",
              "SH.DTH.INJR.ZS              Cause of death, by injury (% of total)\n",
              "SH.DTH.MORT                 Number of under-five deaths\n",
              "SH.DTH.NCOM.ZS              Cause of death, by non-communicable diseases (% of total)\n",
              "SH.DTH.NMRT                 Number of neonatal deaths\n",
              "SH.DYN.0509                 Probability of dying among children ages 5-9 years (per 1,000)\n",
              "SH.DYN.1014                 Probability of dying among adolescents ages 10-14 years (per 1,000)\n",
              "SH.DYN.1519                 Probability of dying among adolescents ages 15-19 years (per 1,000)\n",
              "SH.DYN.2024                 Probability of dying among youth ages 20-24 years (per 1,000)\n",
              "SH.DYN.AIDS.FE.ZS           Women's share of population ages 15+ living with HIV (%)\n",
              "SH.DYN.AIDS.ZS              Prevalence of HIV, total (% of population ages 15-49)\n",
              "SH.DYN.MORT                 Mortality rate, under-5 (per 1,000 live births)\n",
              "SH.DYN.MORT.FE              Mortality rate, under-5, female (per 1,000 live births)\n",
              "SH.DYN.MORT.MA              Mortality rate, under-5, male (per 1,000 live births)\n",
              "SH.DYN.NCOM.FE.ZS           Mortality from CVD, cancer, diabetes or CRD between exact ages 30 and 70, female (%)\n",
              "SH.DYN.NCOM.MA.ZS           Mortality from CVD, cancer, diabetes or CRD between exact ages 30 and 70, male (%)\n",
              "SH.DYN.NCOM.ZS              Mortality from CVD, cancer, diabetes or CRD between exact ages 30 and 70 (%)\n",
              "SH.DYN.NMRT                 Mortality rate, neonatal (per 1,000 live births)\n",
              "SH.FPL.SATM.ZS              Demand for family planning satisfied by modern methods (% of married women with demand for family planning)\n",
              "SH.H2O.BASW.RU.ZS           People using at least basic drinking water services, rural (% of rural population)\n",
              "SH.H2O.BASW.UR.ZS           People using at least basic drinking water services, urban (% of urban population)\n",
              "SH.H2O.BASW.ZS              People using at least basic drinking water services (% of population)\n",
              "SH.H2O.SMDW.RU.ZS           People using safely managed drinking water services, rural (% of rural population)\n",
              "SH.H2O.SMDW.UR.ZS           People using safely managed drinking water services, urban (% of urban population)\n",
              "SH.H2O.SMDW.ZS              People using safely managed drinking water services (% of population)\n",
              "SH.HIV.0014                 Children (0-14) living with HIV\n",
              "SH.HIV.1524.FE.ZS           Prevalence of HIV, female (% ages 15-24)\n",
              "SH.HIV.1524.MA.ZS           Prevalence of HIV, male (% ages 15-24)\n",
              "SH.HIV.ARTC.ZS              Antiretroviral therapy coverage (% of people living with HIV)\n",
              "SH.HIV.INCD                 Adults (ages 15-49) newly infected with HIV\n",
              "SH.HIV.INCD.14              Children (ages 0-14) newly infected with HIV\n",
              "SH.HIV.INCD.TL              Adults (ages 15+) and children (ages 0-14) newly infected with HIV\n",
              "SH.HIV.INCD.TL.P3           Incidence of HIV, all (per 1,000 uninfected population)\n",
              "SH.HIV.INCD.YG              Young people (ages 15-24) newly infected with HIV\n",
              "SH.HIV.INCD.YG.P3           Incidence of HIV, ages 15-24 (per 1,000 uninfected population ages 15-24)\n",
              "SH.HIV.INCD.ZS              Incidence of HIV, ages 15-49 (per 1,000 uninfected population ages 15-49)\n",
              "SH.HIV.PMTC.ZS              Antiretroviral therapy coverage for PMTCT (% of pregnant women living with HIV)\n",
              "SH.IMM.HEPB                 Immunization, HepB3 (% of one-year-old children)\n",
              "SH.IMM.IDPT                 Immunization, DPT (% of children ages 12-23 months)\n",
              "SH.IMM.MEAS                 Immunization, measles (% of children ages 12-23 months)\n",
              "SH.MED.BEDS.ZS              Hospital beds (per 1,000 people)\n",
              "SH.MED.CMHW.P3              Community health workers (per 1,000 people)\n",
              "SH.MED.NUMW.P3              Nurses and midwives (per 1,000 people)\n",
              "SH.MED.PHYS.ZS              Physicians (per 1,000 people)\n",
              "SH.MED.SAOP.P5              Specialist surgical workforce (per 100,000 population)\n",
              "SH.MLR.INCD.P3              Incidence of malaria (per 1,000 population at risk)\n",
              "SH.MLR.NETS.ZS              Use of insecticide-treated bed nets (% of under-5 population)\n",
              "SH.MLR.TRET.ZS              Children with fever receiving antimalarial drugs (% of children under age 5 with fever)\n",
              "SH.MMR.DTHS                 Number of maternal deaths\n",
              "SH.MMR.RISK                 Lifetime risk of maternal death (1 in: rate varies by country)\n",
              "SH.MMR.RISK.ZS              Lifetime risk of maternal death (%)\n",
              "SH.PRG.ANEM                 Prevalence of anemia among pregnant women (%)\n",
              "SH.PRV.SMOK                 Prevalence of current tobacco use (% of adults)\n",
              "SH.PRV.SMOK.FE              Prevalence of current tobacco use, females (% of female adults)\n",
              "SH.PRV.SMOK.MA              Prevalence of current tobacco use, males (% of male adults)\n",
              "SH.SGR.CRSK.ZS              Risk of catastrophic expenditure for surgical care (% of people at risk)\n",
              "SH.SGR.IRSK.ZS              Risk of impoverishing expenditure for surgical care (% of people at risk)\n",
              "SH.SGR.PROC.P5              Number of surgical procedures (per 100,000 population)\n",
              "SH.STA.AIRP.FE.P5           Mortality rate attributed to household and ambient air pollution, age-standardized, female (per 100,000 female population)\n",
              "SH.STA.AIRP.MA.P5           Mortality rate attributed to household and ambient air pollution, age-standardized, male (per 100,000 male population)\n",
              "SH.STA.AIRP.P5              Mortality rate attributed to household and ambient air pollution, age-standardized (per 100,000 population)\n",
              "SH.STA.ANVC.ZS              Pregnant women receiving prenatal care (%)\n",
              "SH.STA.ARIC.ZS              ARI treatment (% of children under 5 taken to a health provider)\n",
              "SH.STA.BASS.RU.ZS           People using at least basic sanitation services, rural (% of rural population)\n",
              "SH.STA.BASS.UR.ZS           People using at least basic sanitation services, urban (% of urban population)\n",
              "SH.STA.BASS.ZS              People using at least basic sanitation services (% of population)\n",
              "SH.STA.BFED.ZS              Exclusive breastfeeding (% of children under 6 months)\n",
              "SH.STA.BRTC.ZS              Births attended by skilled health staff (% of total)\n",
              "SH.STA.BRTW.ZS              Low-birthweight babies (% of births)\n",
              "SH.STA.DIAB.ZS              Diabetes prevalence (% of population ages 20 to 79)\n",
              "SH.STA.FGMS.ZS              Female genital mutilation prevalence (%)\n",
              "SH.STA.HYGN.RU.ZS           People with basic handwashing facilities including soap and water, rural (% of rural population)\n",
              "SH.STA.HYGN.UR.ZS           People with basic handwashing facilities including soap and water, urban (% of urban population)\n",
              "SH.STA.HYGN.ZS              People with basic handwashing facilities including soap and water (% of population)\n",
              "SH.STA.MALN.FE.ZS           Prevalence of underweight, weight for age, female (% of children under 5)\n",
              "SH.STA.MALN.MA.ZS           Prevalence of underweight, weight for age, male (% of children under 5)\n",
              "SH.STA.MALN.ZS              Prevalence of underweight, weight for age (% of children under 5)\n",
              "SH.STA.MMRT                 Maternal mortality ratio (modeled estimate, per 100,000 live births)\n",
              "SH.STA.MMRT.NE              Maternal mortality ratio (national estimate, per 100,000 live births)\n",
              "SH.STA.ODFC.RU.ZS           People practicing open defecation, rural (% of rural population)\n",
              "SH.STA.ODFC.UR.ZS           People practicing open defecation, urban (% of urban population)\n",
              "SH.STA.ODFC.ZS              People practicing open defecation (% of population)\n",
              "SH.STA.ORCF.ZS              Diarrhea treatment (% of children under 5 receiving oral rehydration and continued feeding)\n",
              "SH.STA.ORTH                 Diarrhea treatment (% of children under 5 who received ORS packet)\n",
              "SH.STA.OWGH.FE.ZS           Prevalence of overweight, weight for height, female (% of children under 5)\n",
              "SH.STA.OWGH.MA.ZS           Prevalence of overweight, weight for height, male (% of children under 5)\n",
              "SH.STA.OWGH.ME.FE.ZS        Prevalence of overweight, weight for height, female (modeled estimate, % of children under 5)\n",
              "SH.STA.OWGH.ME.MA.ZS        Prevalence of overweight, weight for height, male (modeled estimate, % of children under 5)\n",
              "SH.STA.OWGH.ME.ZS           Prevalence of overweight, weight for height (modeled estimate, % of children under 5)\n",
              "SH.STA.OWGH.ZS              Prevalence of overweight, weight for height (% of children under 5)\n",
              "SH.STA.POIS.P5              Mortality rate attributed to unintentional poisoning (per 100,000 population)\n",
              "SH.STA.POIS.P5.FE           Mortality rate attributed to unintentional poisoning, female (per 100,000 female population)\n",
              "SH.STA.POIS.P5.MA           Mortality rate attributed to unintentional poisoning, male (per 100,000 male population)\n",
              "SH.STA.SMSS.RU.ZS           People using safely managed sanitation services, rural (% of rural population)\n",
              "SH.STA.SMSS.UR.ZS           People using safely managed sanitation services, urban (% of urban population)\n",
              "SH.STA.SMSS.ZS              People using safely managed sanitation services (% of population)\n",
              "SH.STA.STNT.FE.ZS           Prevalence of stunting, height for age, female (% of children under 5)\n",
              "SH.STA.STNT.MA.ZS           Prevalence of stunting, height for age, male (% of children under 5)\n",
              "SH.STA.STNT.ME.FE.ZS        Prevalence of stunting, height for age, female (modeled estimate, % of children under 5)\n",
              "SH.STA.STNT.ME.MA.ZS        Prevalence of stunting, height for age, male (modeled estimate, % of children under 5)\n",
              "SH.STA.STNT.ME.ZS           Prevalence of stunting, height for age (modeled estimate, % of children under 5)\n",
              "SH.STA.STNT.ZS              Prevalence of stunting, height for age (% of children under 5)\n",
              "SH.STA.SUIC.FE.P5           Suicide mortality rate, female (per 100,000 female population)\n",
              "SH.STA.SUIC.MA.P5           Suicide mortality rate, male (per 100,000 male population)\n",
              "SH.STA.SUIC.P5              Suicide mortality rate (per 100,000 population)\n",
              "SH.STA.TRAF.P5              Mortality caused by road traffic injury (per 100,000 population)\n",
              "SH.STA.WASH.P5              Mortality rate attributed to unsafe water, unsafe sanitation and lack of hygiene (per 100,000 population)\n",
              "SH.STA.WAST.FE.ZS           Prevalence of wasting, weight for height, female (% of children under 5)\n",
              "SH.STA.WAST.MA.ZS           Prevalence of wasting, weight for height, male (% of children under 5)\n",
              "SH.STA.WAST.ZS              Prevalence of wasting, weight for height (% of children under 5)\n",
              "SH.SVR.WAST.FE.ZS           Prevalence of severe wasting, weight for height, female (% of children under 5)\n",
              "SH.SVR.WAST.MA.ZS           Prevalence of severe wasting, weight for height, male (% of children under 5)\n",
              "SH.SVR.WAST.ZS              Prevalence of severe wasting, weight for height (% of children under 5)\n",
              "SH.TBS.CURE.ZS              Tuberculosis treatment success rate (% of new cases)\n",
              "SH.TBS.DTEC.ZS              Tuberculosis case detection rate (%, all forms)\n",
              "SH.TBS.INCD                 Incidence of tuberculosis (per 100,000 people)\n",
              "SH.UHC.FBP1.ZS              Proportion of population pushed further below the $2.15 ($ 2017 PPP) poverty line by out-of-pocket health care expenditure (%)\n",
              "SH.UHC.FBP2.ZS              Proportion of population pushed further below the $3.65 ($ 2017 PPP) poverty line by out-of-pocket health care expenditure (%)\n",
              "SH.UHC.FBPR.ZS              Proportion of population pushed further below the 60% median consumption poverty line by out-of-pocket health care expenditure (%)\n",
              "SH.UHC.NOP1.ZS              Proportion of population pushed below the $2.15 ($ 2017 PPP) poverty line by out-of-pocket health care expenditure (%)\n",
              "SH.UHC.NOP2.ZS              Proportion of population pushed below the $3.65 ($ 2017 PPP) poverty line by out-of-pocket health care expenditure (%)\n",
              "SH.UHC.NOPR.ZS              Proportion of population pushed below the 60% median consumption poverty line by out-of-pocket health expenditure (%)\n",
              "SH.UHC.OOPC.10.ZS           Proportion of population spending more than 10% of household consumption or income on out-of-pocket health care expenditure (%)\n",
              "SH.UHC.OOPC.25.ZS           Proportion of population spending more than 25% of household consumption or income on out-of-pocket health care expenditure (%)\n",
              "SH.UHC.SRVS.CV.XD           UHC service coverage index\n",
              "SH.UHC.TOT1.ZS              Proportion of population pushed or further pushed below the $2.15 ($ 2017 PPP) poverty line by out-of-pocket health care expenditure (%)\n",
              "SH.UHC.TOT2.ZS              Proportion of population pushed or further pushed below the $3.65 ($ 2017 PPP) poverty line by out-of-pocket health care expenditure (%)\n",
              "SH.UHC.TOTR.ZS              Proportion of population pushed or further pushed below the 60% median consumption poverty line by out-of-pocket health expenditure (%)\n",
              "SH.VAC.TTNS.ZS              Newborns protected against tetanus (%)\n",
              "SH.XPD.CHEX.GD.ZS           Current health expenditure (% of GDP)\n",
              "SH.XPD.CHEX.PC.CD           Current health expenditure per capita (current US$)\n",
              "SH.XPD.CHEX.PP.CD           Current health expenditure per capita, PPP (current international $)\n",
              "SH.XPD.EHEX.CH.ZS           External health expenditure (% of current health expenditure)\n",
              "SH.XPD.EHEX.PC.CD           External health expenditure per capita (current US$)\n",
              "SH.XPD.EHEX.PP.CD           External health expenditure per capita, PPP (current international $)\n",
              "SH.XPD.GHED.CH.ZS           Domestic general government health expenditure (% of current health expenditure)\n",
              "SH.XPD.GHED.GD.ZS           Domestic general government health expenditure (% of GDP)\n",
              "SH.XPD.GHED.GE.ZS           Domestic general government health expenditure (% of general government expenditure)\n",
              "SH.XPD.GHED.PC.CD           Domestic general government health expenditure per capita (current US$)\n",
              "SH.XPD.GHED.PP.CD           Domestic general government health expenditure per capita, PPP (current international $)\n",
              "SH.XPD.OOPC.CH.ZS           Out-of-pocket expenditure (% of current health expenditure)\n",
              "SH.XPD.OOPC.PC.CD           Out-of-pocket expenditure per capita (current US$)\n",
              "SH.XPD.OOPC.PP.CD           Out-of-pocket expenditure per capita, PPP (current international $)\n",
              "SH.XPD.PVTD.CH.ZS           Domestic private health expenditure (% of current health expenditure)\n",
              "SH.XPD.PVTD.PC.CD           Domestic private health expenditure per capita (current US$)\n",
              "SH.XPD.PVTD.PP.CD           Domestic private health expenditure per capita, PPP (current international $)\n",
              "SI.DST.02ND.20              Income share held by second 20%\n",
              "SI.DST.03RD.20              Income share held by third 20%\n",
              "SI.DST.04TH.20              Income share held by fourth 20%\n",
              "SI.DST.05TH.20              Income share held by highest 20%\n",
              "SI.DST.10TH.10              Income share held by highest 10%\n",
              "SI.DST.50MD                 Proportion of people living below 50 percent of median income (%)\n",
              "SI.DST.FRST.10              Income share held by lowest 10%\n",
              "SI.DST.FRST.20              Income share held by lowest 20%\n",
              "SI.POV.DDAY                 Poverty headcount ratio at $3.00 a day (2021 PPP) (% of population)\n",
              "SI.POV.GAPS                 Poverty gap at $3.00 a day (2021 PPP) (%)\n",
              "SI.POV.GINI                 Gini index\n",
              "SI.POV.LMIC                 Poverty headcount ratio at $4.20 a day (2021 PPP) (% of population)\n",
              "SI.POV.LMIC.GP              Poverty gap at $4.20 a day (2021 PPP) (%)\n",
              "SI.POV.MPUN                 Multidimensional poverty headcount ratio (UNDP) (% of population)\n",
              "SI.POV.MPWB                 Multidimensional poverty headcount ratio (World Bank) (% of population)\n",
              "SI.POV.NAHC                 Poverty headcount ratio at national poverty lines (% of population)\n",
              "SI.POV.SOPO                 Poverty headcount ratio at societal poverty line (% of population)\n",
              "SI.POV.UMIC                 Poverty headcount ratio at $8.30 a day (2021 PPP) (% of population)\n",
              "SI.POV.UMIC.GP              Poverty gap at $8.30 a day (2021 PPP) (%)\n",
              "SI.RMT.COST.IB.ZS           Average transaction cost of sending remittances to a specific country (%)\n",
              "SI.RMT.COST.OB.ZS           Average transaction cost of sending remittances from a specific country (%)\n",
              "SI.SPR.PC40                 Survey mean consumption or income per capita, bottom 40% of population (2021 PPP $ per day)\n",
              "SI.SPR.PC40.ZG              Annualized average growth rate in per capita real survey mean consumption or income, bottom 40% of population (%)\n",
              "SI.SPR.PCAP                 Survey mean consumption or income per capita, total population (2021 PPP $ per day)\n",
              "SI.SPR.PCAP.ZG              Annualized average growth rate in per capita real survey mean consumption or income, total population (%)\n",
              "SI.SPR.PGAP                 Prosperity gap (average shortfall from a prosperity standard of $28/day)\n",
              "SL.AGR.0714.FE.ZS           Child employment in agriculture, female (% of female economically active children ages 7-14)\n",
              "SL.AGR.0714.MA.ZS           Child employment in agriculture, male (% of male economically active children ages 7-14)\n",
              "SL.AGR.0714.ZS              Child employment in agriculture (% of economically active children ages 7-14)\n",
              "SL.AGR.EMPL.FE.ZS           Employment in agriculture, female (% of female employment) (modeled ILO estimate)\n",
              "SL.AGR.EMPL.MA.ZS           Employment in agriculture, male (% of male employment) (modeled ILO estimate)\n",
              "SL.AGR.EMPL.ZS              Employment in agriculture (% of total employment) (modeled ILO estimate)\n",
              "SL.EMP.1524.SP.FE.NE.ZS     Employment to population ratio, ages 15-24, female (%) (national estimate)\n",
              "SL.EMP.1524.SP.FE.ZS        Employment to population ratio, ages 15-24, female (%) (modeled ILO estimate)\n",
              "SL.EMP.1524.SP.MA.NE.ZS     Employment to population ratio, ages 15-24, male (%) (national estimate)\n",
              "SL.EMP.1524.SP.MA.ZS        Employment to population ratio, ages 15-24, male (%) (modeled ILO estimate)\n",
              "SL.EMP.1524.SP.NE.ZS        Employment to population ratio, ages 15-24, total (%) (national estimate)\n",
              "SL.EMP.1524.SP.ZS           Employment to population ratio, ages 15-24, total (%) (modeled ILO estimate)\n",
              "SL.EMP.MPYR.FE.ZS           Employers, female (% of female employment) (modeled ILO estimate)\n",
              "SL.EMP.MPYR.MA.ZS           Employers, male (% of male employment) (modeled ILO estimate)\n",
              "SL.EMP.MPYR.ZS              Employers, total (% of total employment) (modeled ILO estimate)\n",
              "SL.EMP.SELF.FE.ZS           Self-employed, female (% of female employment) (modeled ILO estimate)\n",
              "SL.EMP.SELF.MA.ZS           Self-employed, male (% of male employment) (modeled ILO estimate)\n",
              "SL.EMP.SELF.ZS              Self-employed, total (% of total employment) (modeled ILO estimate)\n",
              "SL.EMP.SMGT.FE.ZS           Female share of employment in senior and middle management (%)\n",
              "SL.EMP.TOTL.SP.FE.NE.ZS     Employment to population ratio, 15+, female (%) (national estimate)\n",
              "SL.EMP.TOTL.SP.FE.ZS        Employment to population ratio, 15+, female (%) (modeled ILO estimate)\n",
              "SL.EMP.TOTL.SP.MA.NE.ZS     Employment to population ratio, 15+, male (%) (national estimate)\n",
              "SL.EMP.TOTL.SP.MA.ZS        Employment to population ratio, 15+, male (%) (modeled ILO estimate)\n",
              "SL.EMP.TOTL.SP.NE.ZS        Employment to population ratio, 15+, total (%) (national estimate)\n",
              "SL.EMP.TOTL.SP.ZS           Employment to population ratio, 15+, total (%) (modeled ILO estimate)\n",
              "SL.EMP.VULN.FE.ZS           Vulnerable employment, female (% of female employment) (modeled ILO estimate)\n",
              "SL.EMP.VULN.MA.ZS           Vulnerable employment, male (% of male employment) (modeled ILO estimate)\n",
              "SL.EMP.VULN.ZS              Vulnerable employment, total (% of total employment) (modeled ILO estimate)\n",
              "SL.EMP.WORK.FE.ZS           Wage and salaried workers, female (% of female employment) (modeled ILO estimate)\n",
              "SL.EMP.WORK.MA.ZS           Wage and salaried workers, male (% of male employment) (modeled ILO estimate)\n",
              "SL.EMP.WORK.ZS              Wage and salaried workers, total (% of total employment) (modeled ILO estimate)\n",
              "SL.FAM.0714.FE.ZS           Children in employment, unpaid family workers, female (% of female children in employment, ages 7-14)\n",
              "SL.FAM.0714.MA.ZS           Children in employment, unpaid family workers, male (% of male children in employment, ages 7-14)\n",
              "SL.FAM.0714.ZS              Children in employment, unpaid family workers (% of children in employment, ages 7-14)\n",
              "SL.FAM.WORK.FE.ZS           Contributing family workers, female (% of female employment) (modeled ILO estimate)\n",
              "SL.FAM.WORK.MA.ZS           Contributing family workers, male (% of male employment) (modeled ILO estimate)\n",
              "SL.FAM.WORK.ZS              Contributing family workers, total (% of total employment) (modeled ILO estimate)\n",
              "SL.GDP.PCAP.EM.KD           GDP per person employed (constant 2021 PPP $)\n",
              "SL.IND.EMPL.FE.ZS           Employment in industry, female (% of female employment) (modeled ILO estimate)\n",
              "SL.IND.EMPL.MA.ZS           Employment in industry, male (% of male employment) (modeled ILO estimate)\n",
              "SL.IND.EMPL.ZS              Employment in industry (% of total employment) (modeled ILO estimate)\n",
              "SL.MNF.0714.FE.ZS           Child employment in manufacturing, female (% of female economically active children ages 7-14)\n",
              "SL.MNF.0714.MA.ZS           Child employment in manufacturing, male (% of male economically active children ages 7-14)\n",
              "SL.MNF.0714.ZS              Child employment in manufacturing (% of economically active children ages 7-14)\n",
              "SL.SLF.0714.FE.ZS           Children in employment, self-employed, female (% of female children in employment, ages 7-14)\n",
              "SL.SLF.0714.MA.ZS           Children in employment, self-employed, male (% of male children in employment, ages 7-14)\n",
              "SL.SLF.0714.ZS              Children in employment, self-employed (% of children in employment, ages 7-14)\n",
              "SL.SRV.0714.FE.ZS           Child employment in services, female (% of female economically active children ages 7-14)\n",
              "SL.SRV.0714.MA.ZS           Child employment in services, male (% of male economically active children ages 7-14)\n",
              "SL.SRV.0714.ZS              Child employment in services (% of economically active children ages 7-14)\n",
              "SL.SRV.EMPL.FE.ZS           Employment in services, female (% of female employment) (modeled ILO estimate)\n",
              "SL.SRV.EMPL.MA.ZS           Employment in services, male (% of male employment) (modeled ILO estimate)\n",
              "SL.SRV.EMPL.ZS              Employment in services (% of total employment) (modeled ILO estimate)\n",
              "SL.TLF.0714.FE.ZS           Children in employment, female (% of female children ages 7-14)\n",
              "SL.TLF.0714.MA.ZS           Children in employment, male (% of male children ages 7-14)\n",
              "SL.TLF.0714.SW.FE.TM        Average working hours of children, study and work, female, ages 7-14 (hours per week)\n",
              "SL.TLF.0714.SW.FE.ZS        Children in employment, study and work, female (% of female children in employment, ages 7-14)\n",
              "SL.TLF.0714.SW.MA.TM        Average working hours of children, study and work, male, ages 7-14 (hours per week)\n",
              "SL.TLF.0714.SW.MA.ZS        Children in employment, study and work, male (% of male children in employment, ages 7-14)\n",
              "SL.TLF.0714.SW.TM           Average working hours of children, study and work, ages 7-14 (hours per week)\n",
              "SL.TLF.0714.SW.ZS           Children in employment, study and work (% of children in employment, ages 7-14)\n",
              "SL.TLF.0714.WK.FE.TM        Average working hours of children, working only, female, ages 7-14 (hours per week)\n",
              "SL.TLF.0714.WK.FE.ZS        Children in employment, work only, female (% of female children in employment, ages 7-14)\n",
              "SL.TLF.0714.WK.MA.TM        Average working hours of children, working only, male, ages 7-14 (hours per week)\n",
              "SL.TLF.0714.WK.MA.ZS        Children in employment, work only, male (% of male children in employment, ages 7-14)\n",
              "SL.TLF.0714.WK.TM           Average working hours of children, working only, ages 7-14 (hours per week)\n",
              "SL.TLF.0714.WK.ZS           Children in employment, work only (% of children in employment, ages 7-14)\n",
              "SL.TLF.0714.ZS              Children in employment, total (% of children ages 7-14)\n",
              "SL.TLF.ACTI.1524.FE.NE.ZS   Labor force participation rate for ages 15-24, female (%) (national estimate)\n",
              "SL.TLF.ACTI.1524.FE.ZS      Labor force participation rate for ages 15-24, female (%) (modeled ILO estimate)\n",
              "SL.TLF.ACTI.1524.MA.NE.ZS   Labor force participation rate for ages 15-24, male (%) (national estimate)\n",
              "SL.TLF.ACTI.1524.MA.ZS      Labor force participation rate for ages 15-24, male (%) (modeled ILO estimate)\n",
              "SL.TLF.ACTI.1524.NE.ZS      Labor force participation rate for ages 15-24, total (%) (national estimate)\n",
              "SL.TLF.ACTI.1524.ZS         Labor force participation rate for ages 15-24, total (%) (modeled ILO estimate)\n",
              "SL.TLF.ACTI.FE.ZS           Labor force participation rate, female (% of female population ages 15-64) (modeled ILO estimate)\n",
              "SL.TLF.ACTI.MA.ZS           Labor force participation rate, male (% of male population ages 15-64) (modeled ILO estimate)\n",
              "SL.TLF.ACTI.ZS              Labor force participation rate, total (% of total population ages 15-64) (modeled ILO estimate)\n",
              "SL.TLF.ADVN.FE.ZS           Labor force with advanced education, female (% of female working-age population with advanced education)\n",
              "SL.TLF.ADVN.MA.ZS           Labor force with advanced education, male (% of male working-age population with advanced education)\n",
              "SL.TLF.ADVN.ZS              Labor force with advanced education (% of total working-age population with advanced education)\n",
              "SL.TLF.BASC.FE.ZS           Labor force with basic education, female (% of female working-age population with basic education)\n",
              "SL.TLF.BASC.MA.ZS           Labor force with basic education, male (% of male working-age population with basic education)\n",
              "SL.TLF.BASC.ZS              Labor force with basic education (% of total working-age population with basic education)\n",
              "SL.TLF.CACT.FE.NE.ZS        Labor force participation rate, female (% of female population ages 15+) (national estimate)\n",
              "SL.TLF.CACT.FE.ZS           Labor force participation rate, female (% of female population ages 15+) (modeled ILO estimate)\n",
              "SL.TLF.CACT.FM.NE.ZS        Ratio of female to male labor force participation rate (%) (national estimate)\n",
              "SL.TLF.CACT.FM.ZS           Ratio of female to male labor force participation rate (%) (modeled ILO estimate)\n",
              "SL.TLF.CACT.MA.NE.ZS        Labor force participation rate, male (% of male population ages 15+) (national estimate)\n",
              "SL.TLF.CACT.MA.ZS           Labor force participation rate, male (% of male population ages 15+) (modeled ILO estimate)\n",
              "SL.TLF.CACT.NE.ZS           Labor force participation rate, total (% of total population ages 15+) (national estimate)\n",
              "SL.TLF.CACT.ZS              Labor force participation rate, total (% of total population ages 15+) (modeled ILO estimate)\n",
              "SL.TLF.INTM.FE.ZS           Labor force with intermediate education, female (% of female working-age population with intermediate education)\n",
              "SL.TLF.INTM.MA.ZS           Labor force with intermediate education, male (% of male working-age population with intermediate education)\n",
              "SL.TLF.INTM.ZS              Labor force with intermediate education (% of total working-age population with intermediate education)\n",
              "SL.TLF.PART.FE.ZS           Part time employment, female (% of total female employment)\n",
              "SL.TLF.PART.MA.ZS           Part time employment, male (% of total male employment)\n",
              "SL.TLF.PART.ZS              Part time employment, total (% of total employment)\n",
              "SL.TLF.TOTL.FE.ZS           Labor force, female (% of total labor force)\n",
              "SL.TLF.TOTL.IN              Labor force, total\n",
              "SL.UEM.1524.FE.NE.ZS        Unemployment, youth female (% of female labor force ages 15-24) (national estimate)\n",
              "SL.UEM.1524.FE.ZS           Unemployment, youth female (% of female labor force ages 15-24) (modeled ILO estimate)\n",
              "SL.UEM.1524.MA.NE.ZS        Unemployment, youth male (% of male labor force ages 15-24) (national estimate)\n",
              "SL.UEM.1524.MA.ZS           Unemployment, youth male (% of male labor force ages 15-24) (modeled ILO estimate)\n",
              "SL.UEM.1524.NE.ZS           Unemployment, youth total (% of total labor force ages 15-24) (national estimate)\n",
              "SL.UEM.1524.ZS              Unemployment, youth total (% of total labor force ages 15-24) (modeled ILO estimate)\n",
              "SL.UEM.ADVN.FE.ZS           Unemployment with advanced education, female (% of female labor force with advanced education)\n",
              "SL.UEM.ADVN.MA.ZS           Unemployment with advanced education, male (% of male labor force with advanced education)\n",
              "SL.UEM.ADVN.ZS              Unemployment with advanced education (% of total labor force with advanced education)\n",
              "SL.UEM.BASC.FE.ZS           Unemployment with basic education, female (% of female labor force with basic education)\n",
              "SL.UEM.BASC.MA.ZS           Unemployment with basic education, male (% of male labor force with basic education)\n",
              "SL.UEM.BASC.ZS              Unemployment with basic education (% of total labor force with basic education)\n",
              "SL.UEM.INTM.FE.ZS           Unemployment with intermediate education, female (% of female labor force with intermediate education)\n",
              "SL.UEM.INTM.MA.ZS           Unemployment with intermediate education, male (% of male labor force with intermediate education)\n",
              "SL.UEM.INTM.ZS              Unemployment with intermediate education (% of total labor force with intermediate education)\n",
              "SL.UEM.NEET.FE.ME.ZS        Share of youth not in education, employment or training, female (% of female youth population) (modeled ILO estimate)\n",
              "SL.UEM.NEET.FE.ZS           Share of youth not in education, employment or training, female (% of female youth population)\n",
              "SL.UEM.NEET.MA.ME.ZS        Share of youth not in education, employment or training, male (% of male youth population)  (modeled ILO estimate)\n",
              "SL.UEM.NEET.MA.ZS           Share of youth not in education, employment or training, male (% of male youth population)\n",
              "SL.UEM.NEET.ME.ZS           Share of youth not in education, employment or training, total (% of youth population)  (modeled ILO estimate)\n",
              "SL.UEM.NEET.ZS              Share of youth not in education, employment or training, total (% of youth population)\n",
              "SL.UEM.TOTL.FE.NE.ZS        Unemployment, female (% of female labor force) (national estimate)\n",
              "SL.UEM.TOTL.FE.ZS           Unemployment, female (% of female labor force) (modeled ILO estimate)\n",
              "SL.UEM.TOTL.MA.NE.ZS        Unemployment, male (% of male labor force) (national estimate)\n",
              "SL.UEM.TOTL.MA.ZS           Unemployment, male (% of male labor force) (modeled ILO estimate)\n",
              "SL.UEM.TOTL.NE.ZS           Unemployment, total (% of total labor force) (national estimate)\n",
              "SL.UEM.TOTL.ZS              Unemployment, total (% of total labor force) (modeled ILO estimate)\n",
              "SL.WAG.0714.FE.ZS           Children in employment, wage workers, female (% of female children in employment, ages 7-14)\n",
              "SL.WAG.0714.MA.ZS           Children in employment, wage workers, male (% of male children in employment, ages 7-14)\n",
              "SL.WAG.0714.ZS              Children in employment, wage workers (% of children in employment, ages 7-14)\n",
              "SM.POP.ASYS.EA              Asylum-seekers by country or territory of asylum\n",
              "SM.POP.ASYS.EO              Asylum-seekers by country or territory of origin\n",
              "SM.POP.FDIP                 Forcibly displaced people\n",
              "SM.POP.IDPC                 Internally displaced people (IDP) by country or territory of asylum / origin\n",
              "SM.POP.NETM                 Net migration\n",
              "SM.POP.OPIP.EA              Other people in need of international protection by country or territory of asylum\n",
              "SM.POP.OPIP.EO              Other people in need of international protection by country or territory of origin\n",
              "SM.POP.RHCR.EA              Refugees under the mandate of the UNHCR by country or territory of asylum\n",
              "SM.POP.RHCR.EO              Refugees under the mandate of the UNHCR by country or territory of origin\n",
              "SM.POP.RRWA.EA              Refugees under the mandate of the UNRWA by country or territory of asylum\n",
              "SM.POP.RRWA.EO              Refugees under the mandate of the UNRWA by country or territory of origin\n",
              "SM.POP.TOTL                 International migrant stock, total\n",
              "SM.POP.TOTL.ZS              International migrant stock (% of population)\n",
              "SN.ITK.DEFC.ZS              Prevalence of undernourishment (% of population)\n",
              "SN.ITK.MSFI.ZS              Prevalence of moderate or severe food insecurity in the population (%)\n",
              "SN.ITK.SALT.ZS              Consumption of iodized salt (% of households)\n",
              "SN.ITK.SVFI.ZS              Prevalence of severe food insecurity in the population (%)\n",
              "SN.ITK.VITA.ZS              Vitamin A supplementation coverage rate (% of children ages 6-59 months)\n",
              "SP.ADO.TFRT                 Adolescent fertility rate (births per 1,000 women ages 15-19)\n",
              "SP.DYN.AMRT.FE              Mortality rate, adult, female (per 1,000 female adults)\n",
              "SP.DYN.AMRT.MA              Mortality rate, adult, male (per 1,000 male adults)\n",
              "SP.DYN.CBRT.IN              Birth rate, crude (per 1,000 people)\n",
              "SP.DYN.CDRT.IN              Death rate, crude (per 1,000 people)\n",
              "SP.DYN.CONM.ZS              Contraceptive prevalence, any modern method (% of married women ages 15-49)\n",
              "SP.DYN.CONU.ZS              Contraceptive prevalence, any method (% of married women ages 15-49)\n",
              "SP.DYN.IMRT.FE.IN           Mortality rate, infant, female (per 1,000 live births)\n",
              "SP.DYN.IMRT.IN              Mortality rate, infant (per 1,000 live births)\n",
              "SP.DYN.IMRT.MA.IN           Mortality rate, infant, male (per 1,000 live births)\n",
              "SP.DYN.LE00.FE.IN           Life expectancy at birth, female (years)\n",
              "SP.DYN.LE00.IN              Life expectancy at birth, total (years)\n",
              "SP.DYN.LE00.MA.IN           Life expectancy at birth, male (years)\n",
              "SP.DYN.TFRT.IN              Fertility rate, total (births per woman)\n",
              "SP.DYN.TO65.FE.ZS           Survival to age 65, female (% of cohort)\n",
              "SP.DYN.TO65.MA.ZS           Survival to age 65, male (% of cohort)\n",
              "SP.DYN.WFRT                 Wanted fertility rate (births per woman)\n",
              "SP.HOU.FEMA.ZS              Female headed households (% of households with a female head)\n",
              "SP.M15.2024.FE.ZS           Women who were first married by age 15 (% of women ages 20-24)\n",
              "SP.M18.2024.FE.ZS           Women who were first married by age 18 (% of women ages 20-24)\n",
              "SP.MTR.1519.ZS              Teenage mothers (% of women ages 15-19 who have had children or are currently pregnant)\n",
              "SP.POP.0004.FE.5Y           Population ages 00-04, female (% of female population)\n",
              "SP.POP.0004.MA.5Y           Population ages 00-04, male (% of male population)\n",
              "SP.POP.0014.FE.IN           Population ages 0-14, female\n",
              "SP.POP.0014.FE.ZS           Population ages 0-14, female (% of female population)\n",
              "SP.POP.0014.MA.IN           Population ages 0-14, male\n",
              "SP.POP.0014.MA.ZS           Population ages 0-14, male (% of male population)\n",
              "SP.POP.0014.TO              Population ages 0-14, total\n",
              "SP.POP.0014.TO.ZS           Population ages 0-14 (% of total population)\n",
              "SP.POP.0509.FE.5Y           Population ages 05-09, female (% of female population)\n",
              "SP.POP.0509.MA.5Y           Population ages 05-09, male (% of male population)\n",
              "SP.POP.1014.FE.5Y           Population ages 10-14, female (% of female population)\n",
              "SP.POP.1014.MA.5Y           Population ages 10-14, male (% of male population)\n",
              "SP.POP.1519.FE.5Y           Population ages 15-19, female (% of female population)\n",
              "SP.POP.1519.MA.5Y           Population ages 15-19, male (% of male population)\n",
              "SP.POP.1564.FE.IN           Population ages 15-64, female\n",
              "SP.POP.1564.FE.ZS           Population ages 15-64, female (% of female population)\n",
              "SP.POP.1564.MA.IN           Population ages 15-64, male\n",
              "SP.POP.1564.MA.ZS           Population ages 15-64, male (% of male population)\n",
              "SP.POP.1564.TO              Population ages 15-64, total\n",
              "SP.POP.1564.TO.ZS           Population ages 15-64 (% of total population)\n",
              "SP.POP.2024.FE.5Y           Population ages 20-24, female (% of female population)\n",
              "SP.POP.2024.MA.5Y           Population ages 20-24, male (% of male population)\n",
              "SP.POP.2529.FE.5Y           Population ages 25-29, female (% of female population)\n",
              "SP.POP.2529.MA.5Y           Population ages 25-29, male (% of male population)\n",
              "SP.POP.3034.FE.5Y           Population ages 30-34, female (% of female population)\n",
              "SP.POP.3034.MA.5Y           Population ages 30-34, male (% of male population)\n",
              "SP.POP.3539.FE.5Y           Population ages 35-39, female (% of female population)\n",
              "SP.POP.3539.MA.5Y           Population ages 35-39, male (% of male population)\n",
              "SP.POP.4044.FE.5Y           Population ages 40-44, female (% of female population)\n",
              "SP.POP.4044.MA.5Y           Population ages 40-44, male (% of male population)\n",
              "SP.POP.4549.FE.5Y           Population ages 45-49, female (% of female population)\n",
              "SP.POP.4549.MA.5Y           Population ages 45-49, male (% of male population)\n",
              "SP.POP.5054.FE.5Y           Population ages 50-54, female (% of female population)\n",
              "SP.POP.5054.MA.5Y           Population ages 50-54, male (% of male population)\n",
              "SP.POP.5559.FE.5Y           Population ages 55-59, female (% of female population)\n",
              "SP.POP.5559.MA.5Y           Population ages 55-59, male (% of male population)\n",
              "SP.POP.6064.FE.5Y           Population ages 60-64, female (% of female population)\n",
              "SP.POP.6064.MA.5Y           Population ages 60-64, male (% of male population)\n",
              "SP.POP.6569.FE.5Y           Population ages 65-69, female (% of female population)\n",
              "SP.POP.6569.MA.5Y           Population ages 65-69, male (% of male population)\n",
              "SP.POP.65UP.FE.IN           Population ages 65 and above, female\n",
              "SP.POP.65UP.FE.ZS           Population ages 65 and above, female (% of female population)\n",
              "SP.POP.65UP.MA.IN           Population ages 65 and above, male\n",
              "SP.POP.65UP.MA.ZS           Population ages 65 and above, male (% of male population)\n",
              "SP.POP.65UP.TO              Population ages 65 and above, total\n",
              "SP.POP.65UP.TO.ZS           Population ages 65 and above (% of total population)\n",
              "SP.POP.7074.FE.5Y           Population ages 70-74, female (% of female population)\n",
              "SP.POP.7074.MA.5Y           Population ages 70-74, male (% of male population)\n",
              "SP.POP.7579.FE.5Y           Population ages 75-79, female (% of female population)\n",
              "SP.POP.7579.MA.5Y           Population ages 75-79, male (% of male population)\n",
              "SP.POP.80UP.FE.5Y           Population ages 80 and above, female (% of female population)\n",
              "SP.POP.80UP.MA.5Y           Population ages 80 and above, male (% of male population)\n",
              "SP.POP.BRTH.MF              Sex ratio at birth (male births per female births)\n",
              "SP.POP.DPND                 Age dependency ratio (% of working-age population)\n",
              "SP.POP.DPND.OL              Age dependency ratio, old (% of working-age population)\n",
              "SP.POP.DPND.YG              Age dependency ratio, young (% of working-age population)\n",
              "SP.POP.GROW                 Population growth (annual %)\n",
              "SP.POP.SCIE.RD.P6           Researchers in R&D (per million people)\n",
              "SP.POP.TECH.RD.P6           Technicians in R&D (per million people)\n",
              "SP.POP.TOTL                 Population, total\n",
              "SP.POP.TOTL.FE.IN           Population, female\n",
              "SP.POP.TOTL.FE.ZS           Population, female (% of total population)\n",
              "SP.POP.TOTL.MA.IN           Population, male\n",
              "SP.POP.TOTL.MA.ZS           Population, male (% of total population)\n",
              "SP.REG.BRTH.FE.ZS           Completeness of birth registration, female (%)\n",
              "SP.REG.BRTH.MA.ZS           Completeness of birth registration, male (%)\n",
              "SP.REG.BRTH.RU.ZS           Completeness of birth registration, rural (%)\n",
              "SP.REG.BRTH.UR.ZS           Completeness of birth registration, urban (%)\n",
              "SP.REG.BRTH.ZS              Completeness of birth registration (%)\n",
              "SP.REG.DTHS.ZS              Completeness of death registration with cause-of-death information (%)\n",
              "SP.RUR.TOTL                 Rural population\n",
              "SP.RUR.TOTL.ZG              Rural population growth (annual %)\n",
              "SP.RUR.TOTL.ZS              Rural population (% of total population)\n",
              "SP.URB.GROW                 Urban population growth (annual %)\n",
              "SP.URB.TOTL                 Urban population\n",
              "SP.URB.TOTL.IN.ZS           Urban population (% of total population)\n",
              "SP.UWT.TFRT                 Unmet need for contraception (% of married women ages 15-49)\n",
              "ST.INT.ARVL                 International tourism, number of arrivals\n",
              "ST.INT.DPRT                 International tourism, number of departures\n",
              "ST.INT.RCPT.CD              International tourism, receipts (current US$)\n",
              "ST.INT.RCPT.XP.ZS           International tourism, receipts (% of total exports)\n",
              "ST.INT.TRNR.CD              International tourism, receipts for passenger transport items (current US$)\n",
              "ST.INT.TRNX.CD              International tourism, expenditures for passenger transport items (current US$)\n",
              "ST.INT.TVLR.CD              International tourism, receipts for travel items (current US$)\n",
              "ST.INT.TVLX.CD              International tourism, expenditures for travel items (current US$)\n",
              "ST.INT.XPND.CD              International tourism, expenditures (current US$)\n",
              "ST.INT.XPND.MP.ZS           International tourism, expenditures (% of total imports)\n",
              "TG.VAL.TOTL.GD.ZS           Merchandise trade (% of GDP)\n",
              "TM.QTY.MRCH.XD.WD           Import volume index (2015 = 100)\n",
              "TM.TAX.MANF.BC.ZS           Binding coverage, manufactured products (%)\n",
              "TM.TAX.MANF.BR.ZS           Bound rate, simple mean, manufactured products (%)\n",
              "TM.TAX.MANF.SM.AR.ZS        Tariff rate, applied, simple mean, manufactured products (%)\n",
              "TM.TAX.MANF.SM.FN.ZS        Tariff rate, most favored nation, simple mean, manufactured products (%)\n",
              "TM.TAX.MANF.WM.AR.ZS        Tariff rate, applied, weighted mean, manufactured products (%)\n",
              "TM.TAX.MANF.WM.FN.ZS        Tariff rate, most favored nation, weighted mean, manufactured products (%)\n",
              "TM.TAX.MRCH.BC.ZS           Binding coverage, all products (%)\n",
              "TM.TAX.MRCH.BR.ZS           Bound rate, simple mean, all products (%)\n",
              "TM.TAX.MRCH.SM.AR.ZS        Tariff rate, applied, simple mean, all products (%)\n",
              "TM.TAX.MRCH.SM.FN.ZS        Tariff rate, most favored nation, simple mean, all products (%)\n",
              "TM.TAX.MRCH.WM.AR.ZS        Tariff rate, applied, weighted mean, all products (%)\n",
              "TM.TAX.MRCH.WM.FN.ZS        Tariff rate, most favored nation, weighted mean, all products (%)\n",
              "TM.TAX.TCOM.BC.ZS           Binding coverage, primary products (%)\n",
              "TM.TAX.TCOM.BR.ZS           Bound rate, simple mean, primary products (%)\n",
              "TM.TAX.TCOM.SM.AR.ZS        Tariff rate, applied, simple mean, primary products (%)\n",
              "TM.TAX.TCOM.SM.FN.ZS        Tariff rate, most favored nation, simple mean, primary products (%)\n",
              "TM.TAX.TCOM.WM.AR.ZS        Tariff rate, applied, weighted mean, primary products (%)\n",
              "TM.TAX.TCOM.WM.FN.ZS        Tariff rate, most favored nation, weighted mean, primary products (%)\n",
              "TM.UVI.MRCH.XD.WD           Import unit value index (2015 = 100)\n",
              "TM.VAL.AGRI.ZS.UN           Agricultural raw materials imports (% of merchandise imports)\n",
              "TM.VAL.FOOD.ZS.UN           Food imports (% of merchandise imports)\n",
              "TM.VAL.FUEL.ZS.UN           Fuel imports (% of merchandise imports)\n",
              "TM.VAL.ICTG.ZS.UN           ICT goods imports (% total goods imports)\n",
              "TM.VAL.INSF.ZS.WT           Insurance and financial services (% of commercial service imports)\n",
              "TM.VAL.MANF.ZS.UN           Manufactures imports (% of merchandise imports)\n",
              "TM.VAL.MMTL.ZS.UN           Ores and metals imports (% of merchandise imports)\n",
              "TM.VAL.MRCH.AL.ZS           Merchandise imports from economies in the Arab World (% of total merchandise imports)\n",
              "TM.VAL.MRCH.CD.WT           Merchandise imports (current US$)\n",
              "TM.VAL.MRCH.HI.ZS           Merchandise imports from high-income economies (% of total merchandise imports)\n",
              "TM.VAL.MRCH.OR.ZS           Merchandise imports from low- and middle-income economies outside region (% of total merchandise imports)\n",
              "TM.VAL.MRCH.R1.ZS           Merchandise imports from low- and middle-income economies in East Asia & Pacific (% of total merchandise imports)\n",
              "TM.VAL.MRCH.R2.ZS           Merchandise imports from low- and middle-income economies in Europe & Central Asia (% of total merchandise imports)\n",
              "TM.VAL.MRCH.R3.ZS           Merchandise imports from low- and middle-income economies in Latin America & the Caribbean (% of total merchandise imports)\n",
              "TM.VAL.MRCH.R4.ZS           Merchandise imports from low- and middle-income economies in Middle East & North Africa (% of total merchandise imports)\n",
              "TM.VAL.MRCH.R5.ZS           Merchandise imports from low- and middle-income economies in South Asia (% of total merchandise imports)\n",
              "TM.VAL.MRCH.R6.ZS           Merchandise imports from low- and middle-income economies in Sub-Saharan Africa (% of total merchandise imports)\n",
              "TM.VAL.MRCH.RS.ZS           Merchandise imports by the reporting economy, residual (% of total merchandise imports)\n",
              "TM.VAL.MRCH.WL.CD           Merchandise imports by the reporting economy (current US$)\n",
              "TM.VAL.MRCH.WR.ZS           Merchandise imports from low- and middle-income economies within region (% of total merchandise imports)\n",
              "TM.VAL.MRCH.XD.WD           Import value index (2015 = 100)\n",
              "TM.VAL.OTHR.ZS.WT           Computer, communications and other services (% of commercial service imports)\n",
              "TM.VAL.SERV.CD.WT           Commercial service imports (current US$)\n",
              "TM.VAL.TRAN.ZS.WT           Transport services (% of commercial service imports)\n",
              "TM.VAL.TRVL.ZS.WT           Travel services (% of commercial service imports)\n",
              "TT.PRI.MRCH.XD.WD           Net barter terms of trade index (2015 = 100)\n",
              "TX.MNF.TECH.ZS.UN           Medium and high-tech exports (% manufactured exports)\n",
              "TX.QTY.MRCH.XD.WD           Export volume index (2015 = 100)\n",
              "TX.UVI.MRCH.XD.WD           Export unit value index (2015 = 100)\n",
              "TX.VAL.AGRI.ZS.UN           Agricultural raw materials exports (% of merchandise exports)\n",
              "TX.VAL.FOOD.ZS.UN           Food exports (% of merchandise exports)\n",
              "TX.VAL.FUEL.ZS.UN           Fuel exports (% of merchandise exports)\n",
              "TX.VAL.ICTG.ZS.UN           ICT goods exports (% of total goods exports)\n",
              "TX.VAL.INSF.ZS.WT           Insurance and financial services (% of commercial service exports)\n",
              "TX.VAL.MANF.ZS.UN           Manufactures exports (% of merchandise exports)\n",
              "TX.VAL.MMTL.ZS.UN           Ores and metals exports (% of merchandise exports)\n",
              "TX.VAL.MRCH.AL.ZS           Merchandise exports to economies in the Arab World (% of total merchandise exports)\n",
              "TX.VAL.MRCH.CD.WT           Merchandise exports (current US$)\n",
              "TX.VAL.MRCH.HI.ZS           Merchandise exports to high-income economies (% of total merchandise exports)\n",
              "TX.VAL.MRCH.OR.ZS           Merchandise exports to low- and middle-income economies outside region (% of total merchandise exports)\n",
              "TX.VAL.MRCH.R1.ZS           Merchandise exports to low- and middle-income economies in East Asia & Pacific (% of total merchandise exports)\n",
              "TX.VAL.MRCH.R2.ZS           Merchandise exports to low- and middle-income economies in Europe & Central Asia (% of total merchandise exports)\n",
              "TX.VAL.MRCH.R3.ZS           Merchandise exports to low- and middle-income economies in Latin America & the Caribbean (% of total merchandise exports)\n",
              "TX.VAL.MRCH.R4.ZS           Merchandise exports to low- and middle-income economies in Middle East & North Africa (% of total merchandise exports)\n",
              "TX.VAL.MRCH.R5.ZS           Merchandise exports to low- and middle-income economies in South Asia (% of total merchandise exports)\n",
              "TX.VAL.MRCH.R6.ZS           Merchandise exports to low- and middle-income economies in Sub-Saharan Africa (% of total merchandise exports)\n",
              "TX.VAL.MRCH.RS.ZS           Merchandise exports by the reporting economy, residual (% of total merchandise exports)\n",
              "TX.VAL.MRCH.WL.CD           Merchandise exports by the reporting economy (current US$)\n",
              "TX.VAL.MRCH.WR.ZS           Merchandise exports to low- and middle-income economies within region (% of total merchandise exports)\n",
              "TX.VAL.MRCH.XD.WD           Export value index (2015 = 100)\n",
              "TX.VAL.OTHR.ZS.WT           Computer, communications and other services (% of commercial service exports)\n",
              "TX.VAL.SERV.CD.WT           Commercial service exports (current US$)\n",
              "TX.VAL.TECH.CD              High-technology exports (current US$)\n",
              "TX.VAL.TECH.MF.ZS           High-technology exports (% of manufactured exports)\n",
              "TX.VAL.TRAN.ZS.WT           Transport services (% of commercial service exports)\n",
              "TX.VAL.TRVL.ZS.WT           Travel services (% of commercial service exports)\n",
              "VA.EST                      Voice and Accountability: Estimate\n",
              "VA.NO.SRC                   Voice and Accountability: Number of Sources\n",
              "VA.PER.RNK                  Voice and Accountability: Percentile Rank\n",
              "VA.PER.RNK.LOWER            Voice and Accountability: Percentile Rank, Lower Bound of 90% Confidence Interval\n",
              "VA.PER.RNK.UPPER            Voice and Accountability: Percentile Rank, Upper Bound of 90% Confidence Interval\n",
              "VA.STD.ERR                  Voice and Accountability: Standard Error\n",
              "VC.BTL.DETH                 Battle-related deaths (number of people)\n",
              "VC.IDP.NWCV                 Internally displaced persons, new displacement associated with conflict and violence (number of cases)\n",
              "VC.IDP.NWDS                 Internally displaced persons, new displacement associated with disasters (number of cases)\n",
              "VC.IHR.PSRC.FE.P5           Intentional homicides, female (per 100,000 female)\n",
              "VC.IHR.PSRC.MA.P5           Intentional homicides, male (per 100,000 male)\n",
              "VC.IHR.PSRC.P5              Intentional homicides (per 100,000 people)"
            ]
          },
          "metadata": {},
          "execution_count": 6
        }
      ],
      "source": [
        "# Listar indicadores disponibles en World Development Indicators\n",
        "wbdata.get_indicators(source=2)"
      ]
    },
    {
      "cell_type": "code",
      "execution_count": 7,
      "metadata": {
        "colab": {
          "base_uri": "https://localhost:8080/"
        },
        "id": "lA6IfhQyVwT7",
        "outputId": "355cf2d9-13bc-4d0c-f51c-877f959ddfab"
      },
      "outputs": [
        {
          "output_type": "execute_result",
          "data": {
            "text/plain": [
              "id                 name\n",
              "-----------------  -------------------------------------------------------------------\n",
              "NY.GDP.PCAP.CD     GDP per capita (current US$)\n",
              "NY.GDP.PCAP.CN     GDP per capita (current LCU)\n",
              "NY.GDP.PCAP.KD     GDP per capita (constant 2015 US$)\n",
              "NY.GDP.PCAP.KD.ZG  GDP per capita growth (annual %)\n",
              "NY.GDP.PCAP.KN     GDP per capita (constant LCU)\n",
              "NY.GDP.PCAP.PP.CD  GDP per capita, PPP (current international $)\n",
              "NY.GDP.PCAP.PP.KD  GDP per capita, PPP (constant 2021 international $)\n",
              "SE.XPD.PRIM.PC.ZS  Government expenditure per student, primary (% of GDP per capita)\n",
              "SE.XPD.SECO.PC.ZS  Government expenditure per student, secondary (% of GDP per capita)\n",
              "SE.XPD.TERT.PC.ZS  Government expenditure per student, tertiary (% of GDP per capita)"
            ]
          },
          "metadata": {},
          "execution_count": 7
        }
      ],
      "source": [
        "# Buscar los indicadores de interés en World Development Indicators\n",
        "wbdata.get_indicators(query=\"GDP per capita\", source=2)"
      ]
    },
    {
      "cell_type": "code",
      "execution_count": 9,
      "metadata": {
        "id": "8eJ5hCYaVUZv"
      },
      "outputs": [],
      "source": [
        "indicadores = {\"NY.GDP.PCAP.PP.CD\": \"PIB per cápita (PPA, USD internacionales)\",\n",
        "               \"SH.XPD.CHEX.PP.CD\": \"Gasto en salud per cápita (PPA, USD internacionales)\",\n",
        "               \"SP.DYN.LE00.IN\": \"Esperanza de vida (años)\",\n",
        "               \"SL.UEM.TOTL.NE.ZS\": \"Tasa de desempleo (%)\"}\n",
        "\n",
        "# Descargar datos para países de América del Sur de 2010 a 2022\n",
        "df = wbdata.get_dataframe(indicadores, country=[\"COL\", \"PER\", \"BRA\", \"CHL\", \"ARG\", \"BOL\", \"ECU\", \"PRY\", \"URY\"], date=(\"2010\", \"2022\"))\n",
        "df = df.reset_index()\n",
        "df = df.rename(columns={'country': 'País', 'date': 'Año'})"
      ]
    },
    {
      "cell_type": "markdown",
      "metadata": {
        "id": "MaEILKvJD_lk"
      },
      "source": [
        "## Exploración inicial del dataset"
      ]
    },
    {
      "cell_type": "code",
      "execution_count": 10,
      "metadata": {
        "colab": {
          "base_uri": "https://localhost:8080/",
          "height": 423
        },
        "id": "OUuavpFwj4Ih",
        "outputId": "2656fec1-7fab-44ed-a943-1eee9fe101e9"
      },
      "outputs": [
        {
          "output_type": "execute_result",
          "data": {
            "text/plain": [
              "          País   Año  PIB per cápita (PPA, USD internacionales)  \\\n",
              "0    Argentina  2022                                  29,597.69   \n",
              "1    Argentina  2021                                  26,300.27   \n",
              "2    Argentina  2020                                  22,393.35   \n",
              "3    Argentina  2019                                  23,516.83   \n",
              "4    Argentina  2018                                  24,410.39   \n",
              "..         ...   ...                                        ...   \n",
              "112    Uruguay  2014                                  21,867.81   \n",
              "113    Uruguay  2013                                  20,661.38   \n",
              "114    Uruguay  2012                                  19,495.42   \n",
              "115    Uruguay  2011                                  19,135.36   \n",
              "116    Uruguay  2010                                  17,872.54   \n",
              "\n",
              "     Gasto en salud per cápita (PPA, USD internacionales)  \\\n",
              "0                                             2,664.35      \n",
              "1                                             2,418.80      \n",
              "2                                             2,182.31      \n",
              "3                                             2,334.76      \n",
              "4                                             2,388.69      \n",
              "..                                                 ...      \n",
              "112                                           1,785.41      \n",
              "113                                           1,709.51      \n",
              "114                                           1,615.23      \n",
              "115                                           1,574.28      \n",
              "116                                           1,474.80      \n",
              "\n",
              "     Esperanza de vida (años)  Tasa de desempleo (%)  \n",
              "0                       75.81                   6.80  \n",
              "1                       73.95                   8.74  \n",
              "2                       75.88                  11.46  \n",
              "3                       76.85                   9.84  \n",
              "4                       76.77                   9.22  \n",
              "..                        ...                    ...  \n",
              "112                     77.19                   6.55  \n",
              "113                     76.95                   6.44  \n",
              "114                     76.69                   6.45  \n",
              "115                     76.61                   6.31  \n",
              "116                     76.69                   7.16  \n",
              "\n",
              "[117 rows x 6 columns]"
            ],
            "text/html": [
              "\n",
              "  <div id=\"df-0267619f-5f45-447b-bdbd-e1997bb5e504\" class=\"colab-df-container\">\n",
              "    <div>\n",
              "<style scoped>\n",
              "    .dataframe tbody tr th:only-of-type {\n",
              "        vertical-align: middle;\n",
              "    }\n",
              "\n",
              "    .dataframe tbody tr th {\n",
              "        vertical-align: top;\n",
              "    }\n",
              "\n",
              "    .dataframe thead th {\n",
              "        text-align: right;\n",
              "    }\n",
              "</style>\n",
              "<table border=\"1\" class=\"dataframe\">\n",
              "  <thead>\n",
              "    <tr style=\"text-align: right;\">\n",
              "      <th></th>\n",
              "      <th>País</th>\n",
              "      <th>Año</th>\n",
              "      <th>PIB per cápita (PPA, USD internacionales)</th>\n",
              "      <th>Gasto en salud per cápita (PPA, USD internacionales)</th>\n",
              "      <th>Esperanza de vida (años)</th>\n",
              "      <th>Tasa de desempleo (%)</th>\n",
              "    </tr>\n",
              "  </thead>\n",
              "  <tbody>\n",
              "    <tr>\n",
              "      <th>0</th>\n",
              "      <td>Argentina</td>\n",
              "      <td>2022</td>\n",
              "      <td>29,597.69</td>\n",
              "      <td>2,664.35</td>\n",
              "      <td>75.81</td>\n",
              "      <td>6.80</td>\n",
              "    </tr>\n",
              "    <tr>\n",
              "      <th>1</th>\n",
              "      <td>Argentina</td>\n",
              "      <td>2021</td>\n",
              "      <td>26,300.27</td>\n",
              "      <td>2,418.80</td>\n",
              "      <td>73.95</td>\n",
              "      <td>8.74</td>\n",
              "    </tr>\n",
              "    <tr>\n",
              "      <th>2</th>\n",
              "      <td>Argentina</td>\n",
              "      <td>2020</td>\n",
              "      <td>22,393.35</td>\n",
              "      <td>2,182.31</td>\n",
              "      <td>75.88</td>\n",
              "      <td>11.46</td>\n",
              "    </tr>\n",
              "    <tr>\n",
              "      <th>3</th>\n",
              "      <td>Argentina</td>\n",
              "      <td>2019</td>\n",
              "      <td>23,516.83</td>\n",
              "      <td>2,334.76</td>\n",
              "      <td>76.85</td>\n",
              "      <td>9.84</td>\n",
              "    </tr>\n",
              "    <tr>\n",
              "      <th>4</th>\n",
              "      <td>Argentina</td>\n",
              "      <td>2018</td>\n",
              "      <td>24,410.39</td>\n",
              "      <td>2,388.69</td>\n",
              "      <td>76.77</td>\n",
              "      <td>9.22</td>\n",
              "    </tr>\n",
              "    <tr>\n",
              "      <th>...</th>\n",
              "      <td>...</td>\n",
              "      <td>...</td>\n",
              "      <td>...</td>\n",
              "      <td>...</td>\n",
              "      <td>...</td>\n",
              "      <td>...</td>\n",
              "    </tr>\n",
              "    <tr>\n",
              "      <th>112</th>\n",
              "      <td>Uruguay</td>\n",
              "      <td>2014</td>\n",
              "      <td>21,867.81</td>\n",
              "      <td>1,785.41</td>\n",
              "      <td>77.19</td>\n",
              "      <td>6.55</td>\n",
              "    </tr>\n",
              "    <tr>\n",
              "      <th>113</th>\n",
              "      <td>Uruguay</td>\n",
              "      <td>2013</td>\n",
              "      <td>20,661.38</td>\n",
              "      <td>1,709.51</td>\n",
              "      <td>76.95</td>\n",
              "      <td>6.44</td>\n",
              "    </tr>\n",
              "    <tr>\n",
              "      <th>114</th>\n",
              "      <td>Uruguay</td>\n",
              "      <td>2012</td>\n",
              "      <td>19,495.42</td>\n",
              "      <td>1,615.23</td>\n",
              "      <td>76.69</td>\n",
              "      <td>6.45</td>\n",
              "    </tr>\n",
              "    <tr>\n",
              "      <th>115</th>\n",
              "      <td>Uruguay</td>\n",
              "      <td>2011</td>\n",
              "      <td>19,135.36</td>\n",
              "      <td>1,574.28</td>\n",
              "      <td>76.61</td>\n",
              "      <td>6.31</td>\n",
              "    </tr>\n",
              "    <tr>\n",
              "      <th>116</th>\n",
              "      <td>Uruguay</td>\n",
              "      <td>2010</td>\n",
              "      <td>17,872.54</td>\n",
              "      <td>1,474.80</td>\n",
              "      <td>76.69</td>\n",
              "      <td>7.16</td>\n",
              "    </tr>\n",
              "  </tbody>\n",
              "</table>\n",
              "<p>117 rows × 6 columns</p>\n",
              "</div>\n",
              "    <div class=\"colab-df-buttons\">\n",
              "\n",
              "  <div class=\"colab-df-container\">\n",
              "    <button class=\"colab-df-convert\" onclick=\"convertToInteractive('df-0267619f-5f45-447b-bdbd-e1997bb5e504')\"\n",
              "            title=\"Convert this dataframe to an interactive table.\"\n",
              "            style=\"display:none;\">\n",
              "\n",
              "  <svg xmlns=\"http://www.w3.org/2000/svg\" height=\"24px\" viewBox=\"0 -960 960 960\">\n",
              "    <path d=\"M120-120v-720h720v720H120Zm60-500h600v-160H180v160Zm220 220h160v-160H400v160Zm0 220h160v-160H400v160ZM180-400h160v-160H180v160Zm440 0h160v-160H620v160ZM180-180h160v-160H180v160Zm440 0h160v-160H620v160Z\"/>\n",
              "  </svg>\n",
              "    </button>\n",
              "\n",
              "  <style>\n",
              "    .colab-df-container {\n",
              "      display:flex;\n",
              "      gap: 12px;\n",
              "    }\n",
              "\n",
              "    .colab-df-convert {\n",
              "      background-color: #E8F0FE;\n",
              "      border: none;\n",
              "      border-radius: 50%;\n",
              "      cursor: pointer;\n",
              "      display: none;\n",
              "      fill: #1967D2;\n",
              "      height: 32px;\n",
              "      padding: 0 0 0 0;\n",
              "      width: 32px;\n",
              "    }\n",
              "\n",
              "    .colab-df-convert:hover {\n",
              "      background-color: #E2EBFA;\n",
              "      box-shadow: 0px 1px 2px rgba(60, 64, 67, 0.3), 0px 1px 3px 1px rgba(60, 64, 67, 0.15);\n",
              "      fill: #174EA6;\n",
              "    }\n",
              "\n",
              "    .colab-df-buttons div {\n",
              "      margin-bottom: 4px;\n",
              "    }\n",
              "\n",
              "    [theme=dark] .colab-df-convert {\n",
              "      background-color: #3B4455;\n",
              "      fill: #D2E3FC;\n",
              "    }\n",
              "\n",
              "    [theme=dark] .colab-df-convert:hover {\n",
              "      background-color: #434B5C;\n",
              "      box-shadow: 0px 1px 3px 1px rgba(0, 0, 0, 0.15);\n",
              "      filter: drop-shadow(0px 1px 2px rgba(0, 0, 0, 0.3));\n",
              "      fill: #FFFFFF;\n",
              "    }\n",
              "  </style>\n",
              "\n",
              "    <script>\n",
              "      const buttonEl =\n",
              "        document.querySelector('#df-0267619f-5f45-447b-bdbd-e1997bb5e504 button.colab-df-convert');\n",
              "      buttonEl.style.display =\n",
              "        google.colab.kernel.accessAllowed ? 'block' : 'none';\n",
              "\n",
              "      async function convertToInteractive(key) {\n",
              "        const element = document.querySelector('#df-0267619f-5f45-447b-bdbd-e1997bb5e504');\n",
              "        const dataTable =\n",
              "          await google.colab.kernel.invokeFunction('convertToInteractive',\n",
              "                                                    [key], {});\n",
              "        if (!dataTable) return;\n",
              "\n",
              "        const docLinkHtml = 'Like what you see? Visit the ' +\n",
              "          '<a target=\"_blank\" href=https://colab.research.google.com/notebooks/data_table.ipynb>data table notebook</a>'\n",
              "          + ' to learn more about interactive tables.';\n",
              "        element.innerHTML = '';\n",
              "        dataTable['output_type'] = 'display_data';\n",
              "        await google.colab.output.renderOutput(dataTable, element);\n",
              "        const docLink = document.createElement('div');\n",
              "        docLink.innerHTML = docLinkHtml;\n",
              "        element.appendChild(docLink);\n",
              "      }\n",
              "    </script>\n",
              "  </div>\n",
              "\n",
              "\n",
              "    <div id=\"df-adccc888-c326-4758-a6ee-33dcd7e62f64\">\n",
              "      <button class=\"colab-df-quickchart\" onclick=\"quickchart('df-adccc888-c326-4758-a6ee-33dcd7e62f64')\"\n",
              "                title=\"Suggest charts\"\n",
              "                style=\"display:none;\">\n",
              "\n",
              "<svg xmlns=\"http://www.w3.org/2000/svg\" height=\"24px\"viewBox=\"0 0 24 24\"\n",
              "     width=\"24px\">\n",
              "    <g>\n",
              "        <path d=\"M19 3H5c-1.1 0-2 .9-2 2v14c0 1.1.9 2 2 2h14c1.1 0 2-.9 2-2V5c0-1.1-.9-2-2-2zM9 17H7v-7h2v7zm4 0h-2V7h2v10zm4 0h-2v-4h2v4z\"/>\n",
              "    </g>\n",
              "</svg>\n",
              "      </button>\n",
              "\n",
              "<style>\n",
              "  .colab-df-quickchart {\n",
              "      --bg-color: #E8F0FE;\n",
              "      --fill-color: #1967D2;\n",
              "      --hover-bg-color: #E2EBFA;\n",
              "      --hover-fill-color: #174EA6;\n",
              "      --disabled-fill-color: #AAA;\n",
              "      --disabled-bg-color: #DDD;\n",
              "  }\n",
              "\n",
              "  [theme=dark] .colab-df-quickchart {\n",
              "      --bg-color: #3B4455;\n",
              "      --fill-color: #D2E3FC;\n",
              "      --hover-bg-color: #434B5C;\n",
              "      --hover-fill-color: #FFFFFF;\n",
              "      --disabled-bg-color: #3B4455;\n",
              "      --disabled-fill-color: #666;\n",
              "  }\n",
              "\n",
              "  .colab-df-quickchart {\n",
              "    background-color: var(--bg-color);\n",
              "    border: none;\n",
              "    border-radius: 50%;\n",
              "    cursor: pointer;\n",
              "    display: none;\n",
              "    fill: var(--fill-color);\n",
              "    height: 32px;\n",
              "    padding: 0;\n",
              "    width: 32px;\n",
              "  }\n",
              "\n",
              "  .colab-df-quickchart:hover {\n",
              "    background-color: var(--hover-bg-color);\n",
              "    box-shadow: 0 1px 2px rgba(60, 64, 67, 0.3), 0 1px 3px 1px rgba(60, 64, 67, 0.15);\n",
              "    fill: var(--button-hover-fill-color);\n",
              "  }\n",
              "\n",
              "  .colab-df-quickchart-complete:disabled,\n",
              "  .colab-df-quickchart-complete:disabled:hover {\n",
              "    background-color: var(--disabled-bg-color);\n",
              "    fill: var(--disabled-fill-color);\n",
              "    box-shadow: none;\n",
              "  }\n",
              "\n",
              "  .colab-df-spinner {\n",
              "    border: 2px solid var(--fill-color);\n",
              "    border-color: transparent;\n",
              "    border-bottom-color: var(--fill-color);\n",
              "    animation:\n",
              "      spin 1s steps(1) infinite;\n",
              "  }\n",
              "\n",
              "  @keyframes spin {\n",
              "    0% {\n",
              "      border-color: transparent;\n",
              "      border-bottom-color: var(--fill-color);\n",
              "      border-left-color: var(--fill-color);\n",
              "    }\n",
              "    20% {\n",
              "      border-color: transparent;\n",
              "      border-left-color: var(--fill-color);\n",
              "      border-top-color: var(--fill-color);\n",
              "    }\n",
              "    30% {\n",
              "      border-color: transparent;\n",
              "      border-left-color: var(--fill-color);\n",
              "      border-top-color: var(--fill-color);\n",
              "      border-right-color: var(--fill-color);\n",
              "    }\n",
              "    40% {\n",
              "      border-color: transparent;\n",
              "      border-right-color: var(--fill-color);\n",
              "      border-top-color: var(--fill-color);\n",
              "    }\n",
              "    60% {\n",
              "      border-color: transparent;\n",
              "      border-right-color: var(--fill-color);\n",
              "    }\n",
              "    80% {\n",
              "      border-color: transparent;\n",
              "      border-right-color: var(--fill-color);\n",
              "      border-bottom-color: var(--fill-color);\n",
              "    }\n",
              "    90% {\n",
              "      border-color: transparent;\n",
              "      border-bottom-color: var(--fill-color);\n",
              "    }\n",
              "  }\n",
              "</style>\n",
              "\n",
              "      <script>\n",
              "        async function quickchart(key) {\n",
              "          const quickchartButtonEl =\n",
              "            document.querySelector('#' + key + ' button');\n",
              "          quickchartButtonEl.disabled = true;  // To prevent multiple clicks.\n",
              "          quickchartButtonEl.classList.add('colab-df-spinner');\n",
              "          try {\n",
              "            const charts = await google.colab.kernel.invokeFunction(\n",
              "                'suggestCharts', [key], {});\n",
              "          } catch (error) {\n",
              "            console.error('Error during call to suggestCharts:', error);\n",
              "          }\n",
              "          quickchartButtonEl.classList.remove('colab-df-spinner');\n",
              "          quickchartButtonEl.classList.add('colab-df-quickchart-complete');\n",
              "        }\n",
              "        (() => {\n",
              "          let quickchartButtonEl =\n",
              "            document.querySelector('#df-adccc888-c326-4758-a6ee-33dcd7e62f64 button');\n",
              "          quickchartButtonEl.style.display =\n",
              "            google.colab.kernel.accessAllowed ? 'block' : 'none';\n",
              "        })();\n",
              "      </script>\n",
              "    </div>\n",
              "\n",
              "  <div id=\"id_8c07a1c3-bf1c-4f22-8cbd-66ac0aba651b\">\n",
              "    <style>\n",
              "      .colab-df-generate {\n",
              "        background-color: #E8F0FE;\n",
              "        border: none;\n",
              "        border-radius: 50%;\n",
              "        cursor: pointer;\n",
              "        display: none;\n",
              "        fill: #1967D2;\n",
              "        height: 32px;\n",
              "        padding: 0 0 0 0;\n",
              "        width: 32px;\n",
              "      }\n",
              "\n",
              "      .colab-df-generate:hover {\n",
              "        background-color: #E2EBFA;\n",
              "        box-shadow: 0px 1px 2px rgba(60, 64, 67, 0.3), 0px 1px 3px 1px rgba(60, 64, 67, 0.15);\n",
              "        fill: #174EA6;\n",
              "      }\n",
              "\n",
              "      [theme=dark] .colab-df-generate {\n",
              "        background-color: #3B4455;\n",
              "        fill: #D2E3FC;\n",
              "      }\n",
              "\n",
              "      [theme=dark] .colab-df-generate:hover {\n",
              "        background-color: #434B5C;\n",
              "        box-shadow: 0px 1px 3px 1px rgba(0, 0, 0, 0.15);\n",
              "        filter: drop-shadow(0px 1px 2px rgba(0, 0, 0, 0.3));\n",
              "        fill: #FFFFFF;\n",
              "      }\n",
              "    </style>\n",
              "    <button class=\"colab-df-generate\" onclick=\"generateWithVariable('df')\"\n",
              "            title=\"Generate code using this dataframe.\"\n",
              "            style=\"display:none;\">\n",
              "\n",
              "  <svg xmlns=\"http://www.w3.org/2000/svg\" height=\"24px\"viewBox=\"0 0 24 24\"\n",
              "       width=\"24px\">\n",
              "    <path d=\"M7,19H8.4L18.45,9,17,7.55,7,17.6ZM5,21V16.75L18.45,3.32a2,2,0,0,1,2.83,0l1.4,1.43a1.91,1.91,0,0,1,.58,1.4,1.91,1.91,0,0,1-.58,1.4L9.25,21ZM18.45,9,17,7.55Zm-12,3A5.31,5.31,0,0,0,4.9,8.1,5.31,5.31,0,0,0,1,6.5,5.31,5.31,0,0,0,4.9,4.9,5.31,5.31,0,0,0,6.5,1,5.31,5.31,0,0,0,8.1,4.9,5.31,5.31,0,0,0,12,6.5,5.46,5.46,0,0,0,6.5,12Z\"/>\n",
              "  </svg>\n",
              "    </button>\n",
              "    <script>\n",
              "      (() => {\n",
              "      const buttonEl =\n",
              "        document.querySelector('#id_8c07a1c3-bf1c-4f22-8cbd-66ac0aba651b button.colab-df-generate');\n",
              "      buttonEl.style.display =\n",
              "        google.colab.kernel.accessAllowed ? 'block' : 'none';\n",
              "\n",
              "      buttonEl.onclick = () => {\n",
              "        google.colab.notebook.generateWithVariable('df');\n",
              "      }\n",
              "      })();\n",
              "    </script>\n",
              "  </div>\n",
              "\n",
              "    </div>\n",
              "  </div>\n"
            ],
            "application/vnd.google.colaboratory.intrinsic+json": {
              "type": "dataframe",
              "variable_name": "df",
              "summary": "{\n  \"name\": \"df\",\n  \"rows\": 117,\n  \"fields\": [\n    {\n      \"column\": \"Pa\\u00eds\",\n      \"properties\": {\n        \"dtype\": \"category\",\n        \"num_unique_values\": 9,\n        \"samples\": [\n          \"Paraguay\",\n          \"Bolivia\",\n          \"Ecuador\"\n        ],\n        \"semantic_type\": \"\",\n        \"description\": \"\"\n      }\n    },\n    {\n      \"column\": \"A\\u00f1o\",\n      \"properties\": {\n        \"dtype\": \"object\",\n        \"num_unique_values\": 13,\n        \"samples\": [\n          \"2011\",\n          \"2013\",\n          \"2022\"\n        ],\n        \"semantic_type\": \"\",\n        \"description\": \"\"\n      }\n    },\n    {\n      \"column\": \"PIB per c\\u00e1pita (PPA, USD internacionales)\",\n      \"properties\": {\n        \"dtype\": \"number\",\n        \"std\": 6029.685148412593,\n        \"min\": 5100.52757238083,\n        \"max\": 33000.918699951,\n        \"num_unique_values\": 117,\n        \"samples\": [\n          24295.223766602,\n          24410.3919063335,\n          17383.0901728295\n        ],\n        \"semantic_type\": \"\",\n        \"description\": \"\"\n      }\n    },\n    {\n      \"column\": \"Gasto en salud per c\\u00e1pita (PPA, USD internacionales)\",\n      \"properties\": {\n        \"dtype\": \"number\",\n        \"std\": 658.51184308371,\n        \"min\": 265.307884497766,\n        \"max\": 3171.26405235785,\n        \"num_unique_values\": 117,\n        \"samples\": [\n          2208.56177425467,\n          2388.69495125707,\n          1596.07834518119\n        ],\n        \"semantic_type\": \"\",\n        \"description\": \"\"\n      }\n    },\n    {\n      \"column\": \"Esperanza de vida (a\\u00f1os)\",\n      \"properties\": {\n        \"dtype\": \"number\",\n        \"std\": 3.6807723401537964,\n        \"min\": 61.427,\n        \"max\": 80.61,\n        \"num_unique_values\": 116,\n        \"samples\": [\n          75.958,\n          76.77,\n          80.324\n        ],\n        \"semantic_type\": \"\",\n        \"description\": \"\"\n      }\n    },\n    {\n      \"column\": \"Tasa de desempleo (%)\",\n      \"properties\": {\n        \"dtype\": \"number\",\n        \"std\": 2.9502101099670783,\n        \"min\": 2.021,\n        \"max\": 15.983,\n        \"num_unique_values\": 112,\n        \"samples\": [\n          7.257,\n          3.53,\n          9.221\n        ],\n        \"semantic_type\": \"\",\n        \"description\": \"\"\n      }\n    }\n  ]\n}"
            }
          },
          "metadata": {},
          "execution_count": 10
        }
      ],
      "source": [
        "df"
      ]
    },
    {
      "cell_type": "code",
      "execution_count": 11,
      "metadata": {
        "colab": {
          "base_uri": "https://localhost:8080/"
        },
        "id": "K4aFkzQzuIxe",
        "outputId": "f4a33be4-b7af-475f-fc3f-586374cb5121"
      },
      "outputs": [
        {
          "output_type": "execute_result",
          "data": {
            "text/plain": [
              "(117, 6)"
            ]
          },
          "metadata": {},
          "execution_count": 11
        }
      ],
      "source": [
        "df.shape"
      ]
    },
    {
      "cell_type": "code",
      "execution_count": 12,
      "metadata": {
        "colab": {
          "base_uri": "https://localhost:8080/"
        },
        "id": "rjLmhgA5rOXX",
        "outputId": "5fc30f06-6d11-4da8-afc1-0a8f620355e6"
      },
      "outputs": [
        {
          "output_type": "stream",
          "name": "stdout",
          "text": [
            "<class 'wbdata.client.DataFrame'>\n",
            "RangeIndex: 117 entries, 0 to 116\n",
            "Data columns (total 6 columns):\n",
            " #   Column                                                Non-Null Count  Dtype  \n",
            "---  ------                                                --------------  -----  \n",
            " 0   País                                                  117 non-null    object \n",
            " 1   Año                                                   117 non-null    object \n",
            " 2   PIB per cápita (PPA, USD internacionales)             117 non-null    float64\n",
            " 3   Gasto en salud per cápita (PPA, USD internacionales)  117 non-null    float64\n",
            " 4   Esperanza de vida (años)                              117 non-null    float64\n",
            " 5   Tasa de desempleo (%)                                 113 non-null    float64\n",
            "dtypes: float64(4), object(2)\n",
            "memory usage: 5.6+ KB\n"
          ]
        }
      ],
      "source": [
        "df.info()"
      ]
    },
    {
      "cell_type": "code",
      "execution_count": 13,
      "metadata": {
        "colab": {
          "base_uri": "https://localhost:8080/",
          "height": 397
        },
        "id": "-HjlkzR2hodq",
        "outputId": "dc745653-8a02-4c68-d6c5-755e7a3260a2"
      },
      "outputs": [
        {
          "output_type": "execute_result",
          "data": {
            "text/plain": [
              "País\n",
              "Argentina    13\n",
              "Bolivia      13\n",
              "Brazil       13\n",
              "Chile        13\n",
              "Colombia     13\n",
              "Ecuador      13\n",
              "Peru         13\n",
              "Paraguay     13\n",
              "Uruguay      13\n",
              "Name: count, dtype: int64"
            ],
            "text/html": [
              "<div>\n",
              "<style scoped>\n",
              "    .dataframe tbody tr th:only-of-type {\n",
              "        vertical-align: middle;\n",
              "    }\n",
              "\n",
              "    .dataframe tbody tr th {\n",
              "        vertical-align: top;\n",
              "    }\n",
              "\n",
              "    .dataframe thead th {\n",
              "        text-align: right;\n",
              "    }\n",
              "</style>\n",
              "<table border=\"1\" class=\"dataframe\">\n",
              "  <thead>\n",
              "    <tr style=\"text-align: right;\">\n",
              "      <th></th>\n",
              "      <th>count</th>\n",
              "    </tr>\n",
              "    <tr>\n",
              "      <th>País</th>\n",
              "      <th></th>\n",
              "    </tr>\n",
              "  </thead>\n",
              "  <tbody>\n",
              "    <tr>\n",
              "      <th>Argentina</th>\n",
              "      <td>13</td>\n",
              "    </tr>\n",
              "    <tr>\n",
              "      <th>Bolivia</th>\n",
              "      <td>13</td>\n",
              "    </tr>\n",
              "    <tr>\n",
              "      <th>Brazil</th>\n",
              "      <td>13</td>\n",
              "    </tr>\n",
              "    <tr>\n",
              "      <th>Chile</th>\n",
              "      <td>13</td>\n",
              "    </tr>\n",
              "    <tr>\n",
              "      <th>Colombia</th>\n",
              "      <td>13</td>\n",
              "    </tr>\n",
              "    <tr>\n",
              "      <th>Ecuador</th>\n",
              "      <td>13</td>\n",
              "    </tr>\n",
              "    <tr>\n",
              "      <th>Peru</th>\n",
              "      <td>13</td>\n",
              "    </tr>\n",
              "    <tr>\n",
              "      <th>Paraguay</th>\n",
              "      <td>13</td>\n",
              "    </tr>\n",
              "    <tr>\n",
              "      <th>Uruguay</th>\n",
              "      <td>13</td>\n",
              "    </tr>\n",
              "  </tbody>\n",
              "</table>\n",
              "</div><br><label><b>dtype:</b> int64</label>"
            ]
          },
          "metadata": {},
          "execution_count": 13
        }
      ],
      "source": [
        "df[\"País\"].value_counts(dropna=False) # este me realiza un conteo por país"
      ]
    },
    {
      "cell_type": "markdown",
      "metadata": {
        "id": "ch5GVDNQkAdd"
      },
      "source": [
        "Tenemos una base de datos con información de 9 países de América del Sur para 13 años (2010-2022), lo que nos da un total de 117 filas. Se trajo información de 4 indicadores. La información se presenta en una estructura de panel de datos."
      ]
    },
    {
      "cell_type": "markdown",
      "metadata": {
        "id": "5j_ErRl_Mjvb"
      },
      "source": [
        "## Realizar filtros"
      ]
    },
    {
      "cell_type": "markdown",
      "metadata": {
        "id": "Hk7DNq1Op8DN"
      },
      "source": [
        "En ocasiones, un economista quiere seleccionar subconjuntos de datos para analizar. Por ejemplo, podemos estar interesados en conocer cómo se comportaron los indicadores en los distintos países en el año 2022, por lo que vamos a crear un dataframe solo con la información de 2022."
      ]
    },
    {
      "cell_type": "code",
      "execution_count": null,
      "metadata": {
        "id": "-7BLk-mJqg3V"
      },
      "outputs": [],
      "source": [
        "df_2022 = df[df['Año'] == \"2022\"]\n",
        "df_2022"
      ]
    },
    {
      "cell_type": "code",
      "execution_count": null,
      "metadata": {
        "id": "Oxv6tvm8sAjL"
      },
      "outputs": [],
      "source": [
        "# Reiniciamos el índice\n",
        "df_2022.reset_index(drop=True, inplace=True)\n",
        "df_2022"
      ]
    },
    {
      "cell_type": "markdown",
      "metadata": {
        "id": "oI7erNfUtcbb"
      },
      "source": [
        "### Filtrar por el índice"
      ]
    },
    {
      "cell_type": "markdown",
      "metadata": {
        "id": "5cCG829VEOIH"
      },
      "source": [
        "Queremos ver la información correspondiente al índice 3"
      ]
    },
    {
      "cell_type": "code",
      "execution_count": null,
      "metadata": {
        "id": "5TB6KrvyMjvb"
      },
      "outputs": [],
      "source": [
        "df_2022.iloc[3]"
      ]
    },
    {
      "cell_type": "markdown",
      "metadata": {
        "id": "y10MBe6HtqnC"
      },
      "source": [
        "### Filtrar por una columna"
      ]
    },
    {
      "cell_type": "markdown",
      "metadata": {
        "id": "yy1x_WbbEUlv"
      },
      "source": [
        "Queremos ver la información de Colombia"
      ]
    },
    {
      "cell_type": "code",
      "execution_count": null,
      "metadata": {
        "id": "AbIOxDFjsw2M"
      },
      "outputs": [],
      "source": [
        "df_2022[df_2022['País']==\"Colombia\"]"
      ]
    },
    {
      "cell_type": "markdown",
      "metadata": {
        "id": "o_Oj8pIHGPmz"
      },
      "source": [
        "**Ejercico**\n",
        "\n",
        "Muéstrame todos los países que sean diferentes a Colombia"
      ]
    },
    {
      "cell_type": "code",
      "execution_count": null,
      "metadata": {
        "id": "fgR9s_EtGYmT"
      },
      "outputs": [],
      "source": []
    },
    {
      "cell_type": "markdown",
      "metadata": {
        "id": "yZxaNO6-EYxj"
      },
      "source": [
        "**Ejercicio**\n",
        "\n",
        "¿Qué países tienen una tasa de desempleo menor estrictamente a 5%?"
      ]
    },
    {
      "cell_type": "code",
      "execution_count": null,
      "metadata": {
        "id": "T_ugfcplsf7s"
      },
      "outputs": [],
      "source": []
    },
    {
      "cell_type": "markdown",
      "metadata": {
        "id": "FRyRdu-ftucN"
      },
      "source": [
        "### Filtrar por varias columnas"
      ]
    },
    {
      "cell_type": "markdown",
      "metadata": {
        "id": "flNh_QmsEm5N"
      },
      "source": [
        "¿Qué países tienen una tasa de desempleo mayor o igual a 6% y una esperanza de vida mayor o igual a 75 años?"
      ]
    },
    {
      "cell_type": "code",
      "execution_count": null,
      "metadata": {
        "id": "LBrlCcbWtX51"
      },
      "outputs": [],
      "source": [
        "df_2022[(df_2022['Tasa de desempleo (%)']>=6) & (df_2022['Esperanza de vida (años)']>=75)]"
      ]
    },
    {
      "cell_type": "markdown",
      "metadata": {
        "id": "-hxBerR-EvUz"
      },
      "source": [
        "¿Qué países tienen un PIB per cápita PPA mayor a USD 25.000 o un gasto en salud per cápita PPA mayor a USD 1.000?"
      ]
    },
    {
      "cell_type": "code",
      "execution_count": null,
      "metadata": {
        "id": "KB15EIZSDhRV"
      },
      "outputs": [],
      "source": [
        "df_2022[(df_2022['PIB per cápita (PPA, USD internacionales)']>25000) | (df_2022['Gasto en salud per cápita (PPA, USD internacionales)']>1000)]"
      ]
    },
    {
      "cell_type": "markdown",
      "metadata": {
        "id": "--t9ErNJuqwj"
      },
      "source": [
        "### Filtrar por el mínimo o máximo de una columna"
      ]
    },
    {
      "cell_type": "markdown",
      "metadata": {
        "id": "4rK11QEODvxL"
      },
      "source": [
        "¿Cuál país tiene el PIB per cápita más alto?"
      ]
    },
    {
      "cell_type": "code",
      "execution_count": null,
      "metadata": {
        "id": "PY5NC4-fu3-9"
      },
      "outputs": [],
      "source": [
        "df_2022[df_2022['PIB per cápita (PPA, USD internacionales)'] == df_2022['PIB per cápita (PPA, USD internacionales)'].max()]"
      ]
    },
    {
      "cell_type": "markdown",
      "metadata": {
        "id": "UNFT3H7uDD55"
      },
      "source": [
        "**Ejercicio**\n",
        "\n",
        "¿Cuál país tiene la esperanza de vida más baja?"
      ]
    },
    {
      "cell_type": "code",
      "execution_count": null,
      "metadata": {
        "id": "WCHdtXkMvKwI"
      },
      "outputs": [],
      "source": []
    },
    {
      "cell_type": "markdown",
      "metadata": {
        "id": "uHMSubr3JQjm"
      },
      "source": [
        "**Ejercicio**\n",
        "\n",
        "¿Qué países tienen un gasto en salud per cápita PPA por encima del promedio?"
      ]
    },
    {
      "cell_type": "code",
      "execution_count": null,
      "metadata": {
        "id": "k2ZllBYvI_tL"
      },
      "outputs": [],
      "source": []
    },
    {
      "cell_type": "markdown",
      "metadata": {
        "id": "f9oIqhdOv7a-"
      },
      "source": [
        "### Filtrar por una lista de valores"
      ]
    },
    {
      "cell_type": "markdown",
      "metadata": {
        "id": "mWVefrfzF6oX"
      },
      "source": [
        "Muéstrame los datos para Brasil y Ecuador"
      ]
    },
    {
      "cell_type": "code",
      "execution_count": null,
      "metadata": {
        "id": "1R0dnIqaMjvc"
      },
      "outputs": [],
      "source": [
        "df_2022[df_2022['País'].isin(['Brazil','Ecuador'])]"
      ]
    },
    {
      "cell_type": "markdown",
      "metadata": {
        "id": "hd-GJgNhwG5z"
      },
      "source": [
        "### Filtrar los strings que contengan ciertos caracteres"
      ]
    },
    {
      "cell_type": "markdown",
      "metadata": {
        "id": "cTv0s0cnJkJL"
      },
      "source": [
        "Muéstrame los países que contengan \"P\""
      ]
    },
    {
      "cell_type": "code",
      "execution_count": null,
      "metadata": {
        "id": "N3jQLaO_wKaM"
      },
      "outputs": [],
      "source": [
        "df_2022[df_2022['País'].str.contains(\"P\", na=False)]"
      ]
    },
    {
      "cell_type": "markdown",
      "metadata": {
        "id": "Wd5qSmd9Jvvk"
      },
      "source": [
        "Muéstrame los países que contengan \"Pe\" o \"Br\" o \"Ch\""
      ]
    },
    {
      "cell_type": "code",
      "execution_count": null,
      "metadata": {
        "id": "KsYFDIBnwpL4"
      },
      "outputs": [],
      "source": [
        "df_2022[df_2022['País'].str.contains(r'Pe|Br|Ch', na=False)]"
      ]
    },
    {
      "cell_type": "markdown",
      "metadata": {
        "id": "JZU8KUUJCz2u"
      },
      "source": [
        "**Ejercicio**\n",
        "\n",
        "Muestra los países que contengan \"guay\""
      ]
    },
    {
      "cell_type": "code",
      "execution_count": null,
      "metadata": {
        "id": "dyO6TRMvxQPR"
      },
      "outputs": [],
      "source": []
    },
    {
      "cell_type": "markdown",
      "metadata": {
        "id": "RgpzckHkA1y7"
      },
      "source": [
        "### Filtrar por negación (todo excepto ...)"
      ]
    },
    {
      "cell_type": "markdown",
      "metadata": {
        "id": "gu2S40m5KJPK"
      },
      "source": [
        "Muéstrame todos los países excepto Brasil"
      ]
    },
    {
      "cell_type": "code",
      "execution_count": null,
      "metadata": {
        "id": "np93X8-DAjqI"
      },
      "outputs": [],
      "source": [
        "df_2022[~(df_2022['País']=='Brazil')]"
      ]
    },
    {
      "cell_type": "markdown",
      "metadata": {
        "id": "EHHs30_rKOkq"
      },
      "source": [
        "**Ejercicio**\n",
        "\n",
        "Muéstrame todos los países excepto los que terminan en \"guay\". Filtra utilizando negación."
      ]
    },
    {
      "cell_type": "code",
      "execution_count": null,
      "metadata": {
        "id": "r7ikkzK1AJsL"
      },
      "outputs": [],
      "source": []
    },
    {
      "cell_type": "markdown",
      "metadata": {
        "id": "LMKMyKwtB8hF"
      },
      "source": [
        "**Ejercicio**\n",
        "\n",
        "Muestra los países donde su PIB per cápita no sea mayor a USD 25.000 PPA y su tasa de desempleo no sea menor a 5%. Filtra utilizando negación."
      ]
    },
    {
      "cell_type": "code",
      "execution_count": null,
      "metadata": {
        "id": "uANk4wFMBnWV"
      },
      "outputs": [],
      "source": []
    },
    {
      "cell_type": "markdown",
      "metadata": {
        "id": "x1qSaQ2eMjva"
      },
      "source": [
        "## Ordenar el dataframe"
      ]
    },
    {
      "cell_type": "markdown",
      "metadata": {
        "id": "TlcI_1l4ljbx"
      },
      "source": [
        "Para un economista, ordenar es sinónimo de ranking. ¿Qué país tiene el mayor PIB? ¿Cuál tiene la menor tasa de inflación? sort_values() nos permite responder a estas preguntas."
      ]
    },
    {
      "cell_type": "markdown",
      "metadata": {
        "id": "fmrJ79fmUxUd"
      },
      "source": [
        "### Ordenar según el valor de una columna"
      ]
    },
    {
      "cell_type": "markdown",
      "metadata": {
        "id": "wN2uzfpeKx8W"
      },
      "source": [
        "Vamos a ordenar los países de menor a mayor gasto en salud per cápita"
      ]
    },
    {
      "cell_type": "code",
      "execution_count": null,
      "metadata": {
        "id": "5GOgPSLloycF"
      },
      "outputs": [],
      "source": [
        "df_2022.sort_values(by=['Gasto en salud per cápita (PPA, USD internacionales)'], ascending = True)"
      ]
    },
    {
      "cell_type": "markdown",
      "metadata": {
        "id": "UGwOBjicLEZq"
      },
      "source": [
        "**Ejercicio**\n",
        "\n",
        "Ordena los países de mayor a menor PIB per cápita PPA"
      ]
    },
    {
      "cell_type": "code",
      "execution_count": null,
      "metadata": {
        "id": "DiafxSjZMjvb"
      },
      "outputs": [],
      "source": []
    },
    {
      "cell_type": "markdown",
      "metadata": {
        "id": "nLDxk_bSpEVh"
      },
      "source": [
        "**Ejercicio**\n",
        "\n",
        " Encuentra los 5 países con la menor tasa de desempleo en 2022."
      ]
    },
    {
      "cell_type": "code",
      "execution_count": null,
      "metadata": {
        "id": "SeSOw2jflixN"
      },
      "outputs": [],
      "source": []
    },
    {
      "cell_type": "markdown",
      "metadata": {
        "id": "aI1duUqaUsoP"
      },
      "source": [
        "### Ordenar según el valor de varias columnas"
      ]
    },
    {
      "cell_type": "code",
      "execution_count": null,
      "metadata": {
        "id": "0BPKglLETiAG"
      },
      "outputs": [],
      "source": [
        "# Datos económicos sintéticos de varios países\n",
        "datos = {\n",
        "    'País': ['Colombia', 'Chile', 'México', 'Argentina', 'Perú', 'Panamá'],\n",
        "    'Región': ['Andina', 'Andina', 'Norteamérica', 'Sur', 'Andina', 'Centroamérica'],\n",
        "    'Crecimiento_PIB_%': [1.5, 2.1, 2.5, -1.1, 2.8, 4.1],\n",
        "    'Tasa_Desempleo_%': [10.5, 8.8, 3.5, 11.2, 7.5, 8.1]\n",
        "}\n",
        "\n",
        "# Creamos el DataFrame\n",
        "df_ejemplo = pd.DataFrame(datos)\n",
        "\n",
        "df_ejemplo"
      ]
    },
    {
      "cell_type": "code",
      "execution_count": null,
      "metadata": {
        "id": "C91msCa1UgQN"
      },
      "outputs": [],
      "source": [
        "df_ordenado = df_ejemplo.sort_values(by=['Región', 'Crecimiento_PIB_%'], ascending=[True, False])\n",
        "df_ordenado"
      ]
    },
    {
      "cell_type": "markdown",
      "metadata": {
        "id": "KtjeA55PMjvi"
      },
      "source": [
        "## Groupby"
      ]
    },
    {
      "cell_type": "markdown",
      "metadata": {
        "id": "Oh5lZSQOa5Yd"
      },
      "source": [
        "Esta es una de las herramientas más utilizadas, ya que permite agrupar por categorías y sacar mediciones para cada grupo como la media, la suma, la desviación estándar, el conteo de registros, etc.\n",
        "\n",
        "Para ello, se emplea la estrategia de Dividir-Aplicar-Combinar.\n",
        "\n",
        "- **Dividir (Split):** Se separa el DataFrame en grupos basados en una o más variables categóricas (ejemplo: País, Año, etc).\n",
        "\n",
        "- **Aplicar (Apply):** A cada grupo se le aplica una función (ejemplo: mean, sum, std).\n",
        "\n",
        "- **Combinar (Combine):** Se juntan los resultados en un nuevo DataFrame.\n",
        "\n",
        "Es como si el FMI quisiera calcular la tasa de inflación promedio para cada continente. Primero, divide el dataset global por continente. Luego, aplica la función de promedio a la columna de inflación para cada grupo. Finalmente, combina los resultados en una tabla resumen."
      ]
    },
    {
      "cell_type": "code",
      "execution_count": null,
      "metadata": {
        "id": "SXrGNlMgOi5R"
      },
      "outputs": [],
      "source": [
        "# Dataframe original\n",
        "df"
      ]
    },
    {
      "cell_type": "markdown",
      "metadata": {
        "id": "xgXm7K3SxP3z"
      },
      "source": [
        "¿Cuál fue la esperanza de vida promedio de cada país entre 2010 y 2022?"
      ]
    },
    {
      "cell_type": "code",
      "execution_count": null,
      "metadata": {
        "id": "e8ls9XQeOtWV"
      },
      "outputs": [],
      "source": [
        "df.groupby('País')['Esperanza de vida (años)'].mean().reset_index()"
      ]
    },
    {
      "cell_type": "markdown",
      "metadata": {
        "id": "e2qvFhIIxgd7"
      },
      "source": [
        "Ordenemos de mayor a menor..."
      ]
    },
    {
      "cell_type": "code",
      "execution_count": null,
      "metadata": {
        "id": "Tz23gM4ATF7H"
      },
      "outputs": [],
      "source": [
        "df.groupby('País')['Esperanza de vida (años)'].mean().reset_index().sort_values(by='Esperanza de vida (años)', ascending=False)"
      ]
    },
    {
      "cell_type": "markdown",
      "metadata": {
        "id": "A9UTn0n_xn2i"
      },
      "source": [
        "¿Cuál fue la tasa de desempleo más baja que registró cada país entre 2010 y 2022?"
      ]
    },
    {
      "cell_type": "code",
      "execution_count": null,
      "metadata": {
        "id": "CX7BtFNdPZkG"
      },
      "outputs": [],
      "source": [
        "df.groupby('País')['Tasa de desempleo (%)'].min().reset_index()"
      ]
    },
    {
      "cell_type": "markdown",
      "metadata": {
        "id": "Vvo-q7CkxxE5"
      },
      "source": [
        "¿Cuánto sumó el gasto en salud per cápita de estos países en cada uno de los años de estudio (2010-2022)?"
      ]
    },
    {
      "cell_type": "code",
      "execution_count": null,
      "metadata": {
        "id": "fdz8uTWHPA4E"
      },
      "outputs": [],
      "source": [
        "df.groupby('Año')['Gasto en salud per cápita (PPA, USD internacionales)'].sum().reset_index()"
      ]
    },
    {
      "cell_type": "markdown",
      "metadata": {
        "id": "IspLQHPRyJcV"
      },
      "source": [
        "Para cada país de América del Sur, ¿cuál fue el promedio de PIB per cápita PPA y de gasto en salud per cápita PPA entre 2010 y 2022?"
      ]
    },
    {
      "cell_type": "code",
      "execution_count": null,
      "metadata": {
        "id": "TCO5ko5aMjvi"
      },
      "outputs": [],
      "source": [
        "df.groupby(\"País\")[[\"PIB per cápita (PPA, USD internacionales)\",\"Gasto en salud per cápita (PPA, USD internacionales)\"]].mean().reset_index()"
      ]
    },
    {
      "cell_type": "markdown",
      "metadata": {
        "id": "T4jHBbm5zG-P"
      },
      "source": [
        "Para cada país de América del Sur, ¿cuál fue el promedio de gasto en salud per cápita PPA y cuál fue la máxima esperanza de vida entre 2010 y 2022?"
      ]
    },
    {
      "cell_type": "code",
      "execution_count": null,
      "metadata": {
        "id": "_ud3EKvBXipi"
      },
      "outputs": [],
      "source": [
        "df.groupby(\"País\", as_index=False).agg(\n",
        "    gasto_promedio_salud = (\"Gasto en salud per cápita (PPA, USD internacionales)\", \"mean\"),\n",
        "    max_esperanza_de_vida = (\"Esperanza de vida (años)\", \"max\")\n",
        ")"
      ]
    },
    {
      "cell_type": "markdown",
      "metadata": {
        "id": "JceXBfrSzXFv"
      },
      "source": [
        "Para cada país de América del Sur, calcule el mínimo, el máximo y el promedio del gasto en salud per cápita PPA y de la esperanza de vida entre 2010 y 2022"
      ]
    },
    {
      "cell_type": "code",
      "execution_count": null,
      "metadata": {
        "id": "ArsumWitYDMx"
      },
      "outputs": [],
      "source": [
        "df.groupby(\"País\")[[\"Gasto en salud per cápita (PPA, USD internacionales)\",\"Esperanza de vida (años)\"]].agg([\"min\", \"mean\", \"max\"]).reset_index()"
      ]
    },
    {
      "cell_type": "markdown",
      "metadata": {
        "id": "QoJVS04e0HWL"
      },
      "source": [
        "**Ejercicio**\n",
        "\n",
        "Para cada país de América del Sur, calcule la mediana y la desviación estándar del PIB per cápita PPA entre 2010 y 2022"
      ]
    },
    {
      "cell_type": "code",
      "execution_count": null,
      "metadata": {
        "id": "T1WAZDIf0H26"
      },
      "outputs": [],
      "source": []
    },
    {
      "cell_type": "markdown",
      "metadata": {
        "id": "J6a3AUMWMjvo"
      },
      "source": [
        "## Tablas pivote o dinámicas"
      ]
    },
    {
      "cell_type": "markdown",
      "metadata": {
        "id": "_LhTU2gpbRMB"
      },
      "source": [
        "Una tabla pivote es una forma avanzada de groupby que nos **permite remodelar el DataFrame**, poniendo una variable categórica como índice, otra como columnas y una variable numérica como los valores. **Es similar a las tablas dinámicas en Excel.**\n",
        "\n",
        "Por ejemplo, creemos una tabla para un informe donde las filas son los países, las columnas son los años (2010, 2011, 2012...), y los valores en las celdas son la tasa de desempleo. Esto facilita enormemente la comparación de la evolución del desempleo entre países."
      ]
    },
    {
      "cell_type": "code",
      "execution_count": null,
      "metadata": {
        "id": "tfM8XnkYcSEC"
      },
      "outputs": [],
      "source": [
        "df_desempleo = df.pivot_table(index='País', columns='Año', values='Tasa de desempleo (%)').reset_index()\n",
        "df_desempleo"
      ]
    },
    {
      "cell_type": "markdown",
      "metadata": {
        "id": "fHF2GcFteknh"
      },
      "source": [
        "Este formato **ancho (wide)** es muy intuitivo. Podemos comparar fácilmente el desempleo en 2022 de los diferentes países de América del Sur y ver que el de Colombia es el más alto.\n",
        "\n",
        "También podemos seguir la fila de un país para ver su tendencia, como por ejemplo, ver el comportamiento que ha tenido la tasa de desempleo de Colombia entre 2010 y 2022 y ver que durante la pandemia llegó a un máximo de 16%.\n"
      ]
    },
    {
      "cell_type": "markdown",
      "metadata": {
        "id": "0dDoAOHe1M6W"
      },
      "source": [
        "A continuación, vamos a crear una tabla que presenta, para cada país, la evolución 2010-2022 del PIB per cápita PPA y de la tasa de desempleo."
      ]
    },
    {
      "cell_type": "code",
      "execution_count": null,
      "metadata": {
        "id": "IWhv8QzSf7Bo"
      },
      "outputs": [],
      "source": [
        "df1 = pd.pivot_table(df, index = 'País', columns = 'Año',\n",
        "                     values = ['PIB per cápita (PPA, USD internacionales)',\n",
        "                               'Tasa de desempleo (%)']).reset_index()\n",
        "df1"
      ]
    },
    {
      "cell_type": "markdown",
      "metadata": {
        "id": "T9KXwRR81cZ2"
      },
      "source": [
        "En la siguiente tabla, vamos a mostrar, para cada país, el valor promedio del PIB per cápita PPA y de la tasa de desempleo entre 2010 y 2022."
      ]
    },
    {
      "cell_type": "code",
      "execution_count": null,
      "metadata": {
        "id": "I7_hhITNiX4g"
      },
      "outputs": [],
      "source": [
        "df2 = pd.pivot_table(df, index = 'País', values = ['PIB per cápita (PPA, USD internacionales)',\n",
        "                                                   'Tasa de desempleo (%)'],\n",
        "                     aggfunc='mean').reset_index()\n",
        "df2"
      ]
    },
    {
      "cell_type": "markdown",
      "metadata": {
        "id": "LDAmNQBl1y0w"
      },
      "source": [
        "A continuación se muestra, para cada país, el valor promedio y la desviación estándar del PIB per cápita PPA y el máximo y mínimo de la tasa de desempleo en el período 2010-2022."
      ]
    },
    {
      "cell_type": "code",
      "execution_count": null,
      "metadata": {
        "id": "X-tbULYxj7Dq"
      },
      "outputs": [],
      "source": [
        "df3 = pd.pivot_table(df, index = 'País', values = ['PIB per cápita (PPA, USD internacionales)',\n",
        "                                                   'Tasa de desempleo (%)'],\n",
        "                     aggfunc={'PIB per cápita (PPA, USD internacionales)':['mean','std'],\n",
        "                              'Tasa de desempleo (%)':['min', 'max']}).reset_index()\n",
        "df3"
      ]
    },
    {
      "cell_type": "markdown",
      "metadata": {
        "id": "nbKtj8NXMjvq"
      },
      "source": [
        "## Transponer un dataframe"
      ]
    },
    {
      "cell_type": "markdown",
      "metadata": {
        "id": "gd5Xt61uvOd_"
      },
      "source": [
        "Dado que un dataframe es una matriz, lo podemos transponer."
      ]
    },
    {
      "cell_type": "code",
      "execution_count": null,
      "metadata": {
        "id": "pWrLbtYOnIsi"
      },
      "outputs": [],
      "source": [
        "# Dataframe inicial\n",
        "df_desempleo"
      ]
    },
    {
      "cell_type": "code",
      "execution_count": null,
      "metadata": {
        "id": "ce2f71gOoyee"
      },
      "outputs": [],
      "source": [
        "# Dataframe transpuesto\n",
        "df_desempleo_2 = df_desempleo.set_index('País').transpose().reset_index()\n",
        "df_desempleo_2"
      ]
    },
    {
      "cell_type": "markdown",
      "metadata": {
        "id": "gr9wLhGNZEhV"
      },
      "source": [
        "## Reshape del dataframe"
      ]
    },
    {
      "cell_type": "markdown",
      "metadata": {
        "id": "lfX8sxyplBrH"
      },
      "source": [
        "Transformando Formatos: de long a wide y de wide a long.\n",
        "\n",
        "\n",
        "**Formato Largo (Long):** Cada observación está en su propia fila. (Ej: Tenemos columnas de País, Año, Indicador, Valor, por lo que cada fila es una observación). Es el formato ideal para almacenar datos.\n",
        "\n",
        "**Formato Ancho (Wide):** Cada fila representa una unidad de observación (como un país) y las variables se extienden a lo largo de las columnas (Ej: Country, GDP_2010, GDP_2011, GDP_2012). Es ideal para analizar los datos."
      ]
    },
    {
      "cell_type": "markdown",
      "metadata": {
        "id": "F5E0O7VNr_6i"
      },
      "source": [
        "### Pasar de wide a long"
      ]
    },
    {
      "cell_type": "code",
      "execution_count": null,
      "metadata": {
        "id": "thMsfkIgsIrL"
      },
      "outputs": [],
      "source": [
        "# Dataframe original\n",
        "df_desempleo"
      ]
    },
    {
      "cell_type": "code",
      "execution_count": null,
      "metadata": {
        "id": "SCqR9j5Bq3ei"
      },
      "outputs": [],
      "source": [
        "# Convertir a formato long\n",
        "df_largo_desempleo = pd.melt(\n",
        "    df_desempleo,\n",
        "    id_vars=['País'], # Columnas que se mantienen fijas\n",
        "    var_name='Año', # Nombre de la nueva columna de variables\n",
        "    value_name='Desempleo (%)' # Nombre de la nueva columna de valores\n",
        ")\n",
        "df_largo_desempleo"
      ]
    },
    {
      "cell_type": "markdown",
      "metadata": {
        "id": "wrO5qGQIuMuw"
      },
      "source": [
        "El dataframe del Banco Mundial, que tiene forma de panel de datos y es wide, también lo podemos convertir a long."
      ]
    },
    {
      "cell_type": "code",
      "execution_count": null,
      "metadata": {
        "id": "wkq75RoXlBMe"
      },
      "outputs": [],
      "source": [
        "df_largo = pd.melt(\n",
        "    df,\n",
        "    id_vars=['País', 'Año'], # Columnas que se mantienen fijas\n",
        "    var_name='Indicador', # Nombre de la nueva columna de variables\n",
        "    value_name='Valor' # Nombre de la nueva columna de valores\n",
        ")\n",
        "df_largo"
      ]
    },
    {
      "cell_type": "markdown",
      "metadata": {
        "id": "bpJZbnOAsbv2"
      },
      "source": [
        "### Pasar de long a wide"
      ]
    },
    {
      "cell_type": "markdown",
      "metadata": {
        "id": "9qDcf0t6wlQD"
      },
      "source": [
        "Para pasar de formato long a wide se utilizan las tablas pivote que vimos previamente."
      ]
    },
    {
      "cell_type": "markdown",
      "metadata": {
        "id": "3u1gCVyssi-V"
      },
      "source": [
        "## Ejercicio\n",
        "\n",
        "Utiliza las tablas pivote para obtener, a partir de *df_largo*, un dataframe en formato wide de la esperanza de vida (en cada fila hay un país y en cada columna van los años de 2010 a 2022). Luego transforma el dataframe para que los años queden en las filas y los países en las columnas."
      ]
    },
    {
      "cell_type": "code",
      "execution_count": null,
      "metadata": {
        "id": "amFiaKULsfVL"
      },
      "outputs": [],
      "source": []
    },
    {
      "cell_type": "code",
      "execution_count": null,
      "metadata": {
        "id": "cYhuRC0LwXD4"
      },
      "outputs": [],
      "source": []
    }
  ],
  "metadata": {
    "colab": {
      "provenance": [],
      "toc_visible": true
    },
    "kernelspec": {
      "display_name": "Python 3",
      "name": "python3"
    },
    "language_info": {
      "name": "python"
    }
  },
  "nbformat": 4,
  "nbformat_minor": 0
}